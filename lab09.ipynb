{
  "nbformat": 4,
  "nbformat_minor": 0,
  "metadata": {
    "colab": {
      "name": "lab09.ipynb",
      "provenance": [],
      "toc_visible": true
    },
    "kernelspec": {
      "name": "python3",
      "display_name": "Python 3"
    },
    "language_info": {
      "name": "python"
    },
    "accelerator": "GPU",
    "widgets": {
      "application/vnd.jupyter.widget-state+json": {
        "39d3ff856a65444591e80dc95c6df933": {
          "model_module": "@jupyter-widgets/controls",
          "model_name": "HBoxModel",
          "state": {
            "_view_name": "HBoxView",
            "_dom_classes": [],
            "_model_name": "HBoxModel",
            "_view_module": "@jupyter-widgets/controls",
            "_model_module_version": "1.5.0",
            "_view_count": null,
            "_view_module_version": "1.5.0",
            "box_style": "",
            "layout": "IPY_MODEL_0b69369f98bd407e9df2ba3e7b9e51b5",
            "_model_module": "@jupyter-widgets/controls",
            "children": [
              "IPY_MODEL_7bed545b3fbb454182212b152b25ae50",
              "IPY_MODEL_f1a6cd9b2ec8466c844980e8f6d436b9"
            ]
          }
        },
        "0b69369f98bd407e9df2ba3e7b9e51b5": {
          "model_module": "@jupyter-widgets/base",
          "model_name": "LayoutModel",
          "state": {
            "_view_name": "LayoutView",
            "grid_template_rows": null,
            "right": null,
            "justify_content": null,
            "_view_module": "@jupyter-widgets/base",
            "overflow": null,
            "_model_module_version": "1.2.0",
            "_view_count": null,
            "flex_flow": null,
            "width": null,
            "min_width": null,
            "border": null,
            "align_items": null,
            "bottom": null,
            "_model_module": "@jupyter-widgets/base",
            "top": null,
            "grid_column": null,
            "overflow_y": null,
            "overflow_x": null,
            "grid_auto_flow": null,
            "grid_area": null,
            "grid_template_columns": null,
            "flex": null,
            "_model_name": "LayoutModel",
            "justify_items": null,
            "grid_row": null,
            "max_height": null,
            "align_content": null,
            "visibility": null,
            "align_self": null,
            "height": null,
            "min_height": null,
            "padding": null,
            "grid_auto_rows": null,
            "grid_gap": null,
            "max_width": null,
            "order": null,
            "_view_module_version": "1.2.0",
            "grid_template_areas": null,
            "object_position": null,
            "object_fit": null,
            "grid_auto_columns": null,
            "margin": null,
            "display": null,
            "left": null
          }
        },
        "7bed545b3fbb454182212b152b25ae50": {
          "model_module": "@jupyter-widgets/controls",
          "model_name": "FloatProgressModel",
          "state": {
            "_view_name": "ProgressView",
            "style": "IPY_MODEL_447420d7cd82486bb1a2bbf74155a4cb",
            "_dom_classes": [],
            "description": "100%",
            "_model_name": "FloatProgressModel",
            "bar_style": "success",
            "max": 33,
            "_view_module": "@jupyter-widgets/controls",
            "_model_module_version": "1.5.0",
            "value": 33,
            "_view_count": null,
            "_view_module_version": "1.5.0",
            "orientation": "horizontal",
            "min": 0,
            "description_tooltip": null,
            "_model_module": "@jupyter-widgets/controls",
            "layout": "IPY_MODEL_c64114e4584b41afb21583f7c7e3834d"
          }
        },
        "f1a6cd9b2ec8466c844980e8f6d436b9": {
          "model_module": "@jupyter-widgets/controls",
          "model_name": "HTMLModel",
          "state": {
            "_view_name": "HTMLView",
            "style": "IPY_MODEL_48ed16f1345642f49959ef7915189e7d",
            "_dom_classes": [],
            "description": "",
            "_model_name": "HTMLModel",
            "placeholder": "​",
            "_view_module": "@jupyter-widgets/controls",
            "_model_module_version": "1.5.0",
            "value": " 33/33 [01:04&lt;00:00,  1.96s/it]",
            "_view_count": null,
            "_view_module_version": "1.5.0",
            "description_tooltip": null,
            "_model_module": "@jupyter-widgets/controls",
            "layout": "IPY_MODEL_7892a732e4914c07a3c2bd73c127832d"
          }
        },
        "447420d7cd82486bb1a2bbf74155a4cb": {
          "model_module": "@jupyter-widgets/controls",
          "model_name": "ProgressStyleModel",
          "state": {
            "_view_name": "StyleView",
            "_model_name": "ProgressStyleModel",
            "description_width": "initial",
            "_view_module": "@jupyter-widgets/base",
            "_model_module_version": "1.5.0",
            "_view_count": null,
            "_view_module_version": "1.2.0",
            "bar_color": null,
            "_model_module": "@jupyter-widgets/controls"
          }
        },
        "c64114e4584b41afb21583f7c7e3834d": {
          "model_module": "@jupyter-widgets/base",
          "model_name": "LayoutModel",
          "state": {
            "_view_name": "LayoutView",
            "grid_template_rows": null,
            "right": null,
            "justify_content": null,
            "_view_module": "@jupyter-widgets/base",
            "overflow": null,
            "_model_module_version": "1.2.0",
            "_view_count": null,
            "flex_flow": null,
            "width": null,
            "min_width": null,
            "border": null,
            "align_items": null,
            "bottom": null,
            "_model_module": "@jupyter-widgets/base",
            "top": null,
            "grid_column": null,
            "overflow_y": null,
            "overflow_x": null,
            "grid_auto_flow": null,
            "grid_area": null,
            "grid_template_columns": null,
            "flex": null,
            "_model_name": "LayoutModel",
            "justify_items": null,
            "grid_row": null,
            "max_height": null,
            "align_content": null,
            "visibility": null,
            "align_self": null,
            "height": null,
            "min_height": null,
            "padding": null,
            "grid_auto_rows": null,
            "grid_gap": null,
            "max_width": null,
            "order": null,
            "_view_module_version": "1.2.0",
            "grid_template_areas": null,
            "object_position": null,
            "object_fit": null,
            "grid_auto_columns": null,
            "margin": null,
            "display": null,
            "left": null
          }
        },
        "48ed16f1345642f49959ef7915189e7d": {
          "model_module": "@jupyter-widgets/controls",
          "model_name": "DescriptionStyleModel",
          "state": {
            "_view_name": "StyleView",
            "_model_name": "DescriptionStyleModel",
            "description_width": "",
            "_view_module": "@jupyter-widgets/base",
            "_model_module_version": "1.5.0",
            "_view_count": null,
            "_view_module_version": "1.2.0",
            "_model_module": "@jupyter-widgets/controls"
          }
        },
        "7892a732e4914c07a3c2bd73c127832d": {
          "model_module": "@jupyter-widgets/base",
          "model_name": "LayoutModel",
          "state": {
            "_view_name": "LayoutView",
            "grid_template_rows": null,
            "right": null,
            "justify_content": null,
            "_view_module": "@jupyter-widgets/base",
            "overflow": null,
            "_model_module_version": "1.2.0",
            "_view_count": null,
            "flex_flow": null,
            "width": null,
            "min_width": null,
            "border": null,
            "align_items": null,
            "bottom": null,
            "_model_module": "@jupyter-widgets/base",
            "top": null,
            "grid_column": null,
            "overflow_y": null,
            "overflow_x": null,
            "grid_auto_flow": null,
            "grid_area": null,
            "grid_template_columns": null,
            "flex": null,
            "_model_name": "LayoutModel",
            "justify_items": null,
            "grid_row": null,
            "max_height": null,
            "align_content": null,
            "visibility": null,
            "align_self": null,
            "height": null,
            "min_height": null,
            "padding": null,
            "grid_auto_rows": null,
            "grid_gap": null,
            "max_width": null,
            "order": null,
            "_view_module_version": "1.2.0",
            "grid_template_areas": null,
            "object_position": null,
            "object_fit": null,
            "grid_auto_columns": null,
            "margin": null,
            "display": null,
            "left": null
          }
        },
        "38304b0933954051aedd4e2d187fea34": {
          "model_module": "@jupyter-widgets/controls",
          "model_name": "HBoxModel",
          "state": {
            "_view_name": "HBoxView",
            "_dom_classes": [],
            "_model_name": "HBoxModel",
            "_view_module": "@jupyter-widgets/controls",
            "_model_module_version": "1.5.0",
            "_view_count": null,
            "_view_module_version": "1.5.0",
            "box_style": "",
            "layout": "IPY_MODEL_df38e8c85d8049f39323e2f2c4b3340e",
            "_model_module": "@jupyter-widgets/controls",
            "children": [
              "IPY_MODEL_5e0b81a1c9e94036b67af7c6ebca1093",
              "IPY_MODEL_dbbdfcf008b94626a0d21c1bcff13a94"
            ]
          }
        },
        "df38e8c85d8049f39323e2f2c4b3340e": {
          "model_module": "@jupyter-widgets/base",
          "model_name": "LayoutModel",
          "state": {
            "_view_name": "LayoutView",
            "grid_template_rows": null,
            "right": null,
            "justify_content": null,
            "_view_module": "@jupyter-widgets/base",
            "overflow": null,
            "_model_module_version": "1.2.0",
            "_view_count": null,
            "flex_flow": null,
            "width": null,
            "min_width": null,
            "border": null,
            "align_items": null,
            "bottom": null,
            "_model_module": "@jupyter-widgets/base",
            "top": null,
            "grid_column": null,
            "overflow_y": null,
            "overflow_x": null,
            "grid_auto_flow": null,
            "grid_area": null,
            "grid_template_columns": null,
            "flex": null,
            "_model_name": "LayoutModel",
            "justify_items": null,
            "grid_row": null,
            "max_height": null,
            "align_content": null,
            "visibility": null,
            "align_self": null,
            "height": null,
            "min_height": null,
            "padding": null,
            "grid_auto_rows": null,
            "grid_gap": null,
            "max_width": null,
            "order": null,
            "_view_module_version": "1.2.0",
            "grid_template_areas": null,
            "object_position": null,
            "object_fit": null,
            "grid_auto_columns": null,
            "margin": null,
            "display": null,
            "left": null
          }
        },
        "5e0b81a1c9e94036b67af7c6ebca1093": {
          "model_module": "@jupyter-widgets/controls",
          "model_name": "FloatProgressModel",
          "state": {
            "_view_name": "ProgressView",
            "style": "IPY_MODEL_404ec1b459f94ea7969fb6543494e62f",
            "_dom_classes": [],
            "description": "100%",
            "_model_name": "FloatProgressModel",
            "bar_style": "success",
            "max": 33,
            "_view_module": "@jupyter-widgets/controls",
            "_model_module_version": "1.5.0",
            "value": 33,
            "_view_count": null,
            "_view_module_version": "1.5.0",
            "orientation": "horizontal",
            "min": 0,
            "description_tooltip": null,
            "_model_module": "@jupyter-widgets/controls",
            "layout": "IPY_MODEL_3688f3aad6ef4fe0a8f2d75ce1fd115e"
          }
        },
        "dbbdfcf008b94626a0d21c1bcff13a94": {
          "model_module": "@jupyter-widgets/controls",
          "model_name": "HTMLModel",
          "state": {
            "_view_name": "HTMLView",
            "style": "IPY_MODEL_eb2fc87c413e40e7994cf43779792c50",
            "_dom_classes": [],
            "description": "",
            "_model_name": "HTMLModel",
            "placeholder": "​",
            "_view_module": "@jupyter-widgets/controls",
            "_model_module_version": "1.5.0",
            "value": " 33/33 [01:00&lt;00:00,  1.82s/it]",
            "_view_count": null,
            "_view_module_version": "1.5.0",
            "description_tooltip": null,
            "_model_module": "@jupyter-widgets/controls",
            "layout": "IPY_MODEL_d68941af46b64a10a79fe761da2d2037"
          }
        },
        "404ec1b459f94ea7969fb6543494e62f": {
          "model_module": "@jupyter-widgets/controls",
          "model_name": "ProgressStyleModel",
          "state": {
            "_view_name": "StyleView",
            "_model_name": "ProgressStyleModel",
            "description_width": "initial",
            "_view_module": "@jupyter-widgets/base",
            "_model_module_version": "1.5.0",
            "_view_count": null,
            "_view_module_version": "1.2.0",
            "bar_color": null,
            "_model_module": "@jupyter-widgets/controls"
          }
        },
        "3688f3aad6ef4fe0a8f2d75ce1fd115e": {
          "model_module": "@jupyter-widgets/base",
          "model_name": "LayoutModel",
          "state": {
            "_view_name": "LayoutView",
            "grid_template_rows": null,
            "right": null,
            "justify_content": null,
            "_view_module": "@jupyter-widgets/base",
            "overflow": null,
            "_model_module_version": "1.2.0",
            "_view_count": null,
            "flex_flow": null,
            "width": null,
            "min_width": null,
            "border": null,
            "align_items": null,
            "bottom": null,
            "_model_module": "@jupyter-widgets/base",
            "top": null,
            "grid_column": null,
            "overflow_y": null,
            "overflow_x": null,
            "grid_auto_flow": null,
            "grid_area": null,
            "grid_template_columns": null,
            "flex": null,
            "_model_name": "LayoutModel",
            "justify_items": null,
            "grid_row": null,
            "max_height": null,
            "align_content": null,
            "visibility": null,
            "align_self": null,
            "height": null,
            "min_height": null,
            "padding": null,
            "grid_auto_rows": null,
            "grid_gap": null,
            "max_width": null,
            "order": null,
            "_view_module_version": "1.2.0",
            "grid_template_areas": null,
            "object_position": null,
            "object_fit": null,
            "grid_auto_columns": null,
            "margin": null,
            "display": null,
            "left": null
          }
        },
        "eb2fc87c413e40e7994cf43779792c50": {
          "model_module": "@jupyter-widgets/controls",
          "model_name": "DescriptionStyleModel",
          "state": {
            "_view_name": "StyleView",
            "_model_name": "DescriptionStyleModel",
            "description_width": "",
            "_view_module": "@jupyter-widgets/base",
            "_model_module_version": "1.5.0",
            "_view_count": null,
            "_view_module_version": "1.2.0",
            "_model_module": "@jupyter-widgets/controls"
          }
        },
        "d68941af46b64a10a79fe761da2d2037": {
          "model_module": "@jupyter-widgets/base",
          "model_name": "LayoutModel",
          "state": {
            "_view_name": "LayoutView",
            "grid_template_rows": null,
            "right": null,
            "justify_content": null,
            "_view_module": "@jupyter-widgets/base",
            "overflow": null,
            "_model_module_version": "1.2.0",
            "_view_count": null,
            "flex_flow": null,
            "width": null,
            "min_width": null,
            "border": null,
            "align_items": null,
            "bottom": null,
            "_model_module": "@jupyter-widgets/base",
            "top": null,
            "grid_column": null,
            "overflow_y": null,
            "overflow_x": null,
            "grid_auto_flow": null,
            "grid_area": null,
            "grid_template_columns": null,
            "flex": null,
            "_model_name": "LayoutModel",
            "justify_items": null,
            "grid_row": null,
            "max_height": null,
            "align_content": null,
            "visibility": null,
            "align_self": null,
            "height": null,
            "min_height": null,
            "padding": null,
            "grid_auto_rows": null,
            "grid_gap": null,
            "max_width": null,
            "order": null,
            "_view_module_version": "1.2.0",
            "grid_template_areas": null,
            "object_position": null,
            "object_fit": null,
            "grid_auto_columns": null,
            "margin": null,
            "display": null,
            "left": null
          }
        },
        "4120047ee9ef4f4da18529a578af0e38": {
          "model_module": "@jupyter-widgets/controls",
          "model_name": "HBoxModel",
          "state": {
            "_view_name": "HBoxView",
            "_dom_classes": [],
            "_model_name": "HBoxModel",
            "_view_module": "@jupyter-widgets/controls",
            "_model_module_version": "1.5.0",
            "_view_count": null,
            "_view_module_version": "1.5.0",
            "box_style": "",
            "layout": "IPY_MODEL_610008215a7a449baf784f1db13427b3",
            "_model_module": "@jupyter-widgets/controls",
            "children": [
              "IPY_MODEL_80419484446d4cf39ad7a810aaa88190",
              "IPY_MODEL_af5e0e0cbeb740728c2a03a2387a8c96"
            ]
          }
        },
        "610008215a7a449baf784f1db13427b3": {
          "model_module": "@jupyter-widgets/base",
          "model_name": "LayoutModel",
          "state": {
            "_view_name": "LayoutView",
            "grid_template_rows": null,
            "right": null,
            "justify_content": null,
            "_view_module": "@jupyter-widgets/base",
            "overflow": null,
            "_model_module_version": "1.2.0",
            "_view_count": null,
            "flex_flow": null,
            "width": null,
            "min_width": null,
            "border": null,
            "align_items": null,
            "bottom": null,
            "_model_module": "@jupyter-widgets/base",
            "top": null,
            "grid_column": null,
            "overflow_y": null,
            "overflow_x": null,
            "grid_auto_flow": null,
            "grid_area": null,
            "grid_template_columns": null,
            "flex": null,
            "_model_name": "LayoutModel",
            "justify_items": null,
            "grid_row": null,
            "max_height": null,
            "align_content": null,
            "visibility": null,
            "align_self": null,
            "height": null,
            "min_height": null,
            "padding": null,
            "grid_auto_rows": null,
            "grid_gap": null,
            "max_width": null,
            "order": null,
            "_view_module_version": "1.2.0",
            "grid_template_areas": null,
            "object_position": null,
            "object_fit": null,
            "grid_auto_columns": null,
            "margin": null,
            "display": null,
            "left": null
          }
        },
        "80419484446d4cf39ad7a810aaa88190": {
          "model_module": "@jupyter-widgets/controls",
          "model_name": "FloatProgressModel",
          "state": {
            "_view_name": "ProgressView",
            "style": "IPY_MODEL_b1cb04754f444c62a285086316f54405",
            "_dom_classes": [],
            "description": "100%",
            "_model_name": "FloatProgressModel",
            "bar_style": "success",
            "max": 4,
            "_view_module": "@jupyter-widgets/controls",
            "_model_module_version": "1.5.0",
            "value": 4,
            "_view_count": null,
            "_view_module_version": "1.5.0",
            "orientation": "horizontal",
            "min": 0,
            "description_tooltip": null,
            "_model_module": "@jupyter-widgets/controls",
            "layout": "IPY_MODEL_640579c3b0c1431e876869c3dbbf449c"
          }
        },
        "af5e0e0cbeb740728c2a03a2387a8c96": {
          "model_module": "@jupyter-widgets/controls",
          "model_name": "HTMLModel",
          "state": {
            "_view_name": "HTMLView",
            "style": "IPY_MODEL_65a6ad19ba1147be8b0b5ee55d20f723",
            "_dom_classes": [],
            "description": "",
            "_model_name": "HTMLModel",
            "placeholder": "​",
            "_view_module": "@jupyter-widgets/controls",
            "_model_module_version": "1.5.0",
            "value": " 4/4 [00:59&lt;00:00, 14.81s/it]",
            "_view_count": null,
            "_view_module_version": "1.5.0",
            "description_tooltip": null,
            "_model_module": "@jupyter-widgets/controls",
            "layout": "IPY_MODEL_7b1ddb6294f94ec582647053ca5488a5"
          }
        },
        "b1cb04754f444c62a285086316f54405": {
          "model_module": "@jupyter-widgets/controls",
          "model_name": "ProgressStyleModel",
          "state": {
            "_view_name": "StyleView",
            "_model_name": "ProgressStyleModel",
            "description_width": "initial",
            "_view_module": "@jupyter-widgets/base",
            "_model_module_version": "1.5.0",
            "_view_count": null,
            "_view_module_version": "1.2.0",
            "bar_color": null,
            "_model_module": "@jupyter-widgets/controls"
          }
        },
        "640579c3b0c1431e876869c3dbbf449c": {
          "model_module": "@jupyter-widgets/base",
          "model_name": "LayoutModel",
          "state": {
            "_view_name": "LayoutView",
            "grid_template_rows": null,
            "right": null,
            "justify_content": null,
            "_view_module": "@jupyter-widgets/base",
            "overflow": null,
            "_model_module_version": "1.2.0",
            "_view_count": null,
            "flex_flow": null,
            "width": null,
            "min_width": null,
            "border": null,
            "align_items": null,
            "bottom": null,
            "_model_module": "@jupyter-widgets/base",
            "top": null,
            "grid_column": null,
            "overflow_y": null,
            "overflow_x": null,
            "grid_auto_flow": null,
            "grid_area": null,
            "grid_template_columns": null,
            "flex": null,
            "_model_name": "LayoutModel",
            "justify_items": null,
            "grid_row": null,
            "max_height": null,
            "align_content": null,
            "visibility": null,
            "align_self": null,
            "height": null,
            "min_height": null,
            "padding": null,
            "grid_auto_rows": null,
            "grid_gap": null,
            "max_width": null,
            "order": null,
            "_view_module_version": "1.2.0",
            "grid_template_areas": null,
            "object_position": null,
            "object_fit": null,
            "grid_auto_columns": null,
            "margin": null,
            "display": null,
            "left": null
          }
        },
        "65a6ad19ba1147be8b0b5ee55d20f723": {
          "model_module": "@jupyter-widgets/controls",
          "model_name": "DescriptionStyleModel",
          "state": {
            "_view_name": "StyleView",
            "_model_name": "DescriptionStyleModel",
            "description_width": "",
            "_view_module": "@jupyter-widgets/base",
            "_model_module_version": "1.5.0",
            "_view_count": null,
            "_view_module_version": "1.2.0",
            "_model_module": "@jupyter-widgets/controls"
          }
        },
        "7b1ddb6294f94ec582647053ca5488a5": {
          "model_module": "@jupyter-widgets/base",
          "model_name": "LayoutModel",
          "state": {
            "_view_name": "LayoutView",
            "grid_template_rows": null,
            "right": null,
            "justify_content": null,
            "_view_module": "@jupyter-widgets/base",
            "overflow": null,
            "_model_module_version": "1.2.0",
            "_view_count": null,
            "flex_flow": null,
            "width": null,
            "min_width": null,
            "border": null,
            "align_items": null,
            "bottom": null,
            "_model_module": "@jupyter-widgets/base",
            "top": null,
            "grid_column": null,
            "overflow_y": null,
            "overflow_x": null,
            "grid_auto_flow": null,
            "grid_area": null,
            "grid_template_columns": null,
            "flex": null,
            "_model_name": "LayoutModel",
            "justify_items": null,
            "grid_row": null,
            "max_height": null,
            "align_content": null,
            "visibility": null,
            "align_self": null,
            "height": null,
            "min_height": null,
            "padding": null,
            "grid_auto_rows": null,
            "grid_gap": null,
            "max_width": null,
            "order": null,
            "_view_module_version": "1.2.0",
            "grid_template_areas": null,
            "object_position": null,
            "object_fit": null,
            "grid_auto_columns": null,
            "margin": null,
            "display": null,
            "left": null
          }
        },
        "d8aca8236f2e4799b9d014451bd8c9b6": {
          "model_module": "@jupyter-widgets/controls",
          "model_name": "HBoxModel",
          "state": {
            "_view_name": "HBoxView",
            "_dom_classes": [],
            "_model_name": "HBoxModel",
            "_view_module": "@jupyter-widgets/controls",
            "_model_module_version": "1.5.0",
            "_view_count": null,
            "_view_module_version": "1.5.0",
            "box_style": "",
            "layout": "IPY_MODEL_2db506215dad4e9888e579c40ea19dda",
            "_model_module": "@jupyter-widgets/controls",
            "children": [
              "IPY_MODEL_b2c2af6da7d744f98df9acb653287610",
              "IPY_MODEL_6f5522389f3c49f38e101182b5ce0b78"
            ]
          }
        },
        "2db506215dad4e9888e579c40ea19dda": {
          "model_module": "@jupyter-widgets/base",
          "model_name": "LayoutModel",
          "state": {
            "_view_name": "LayoutView",
            "grid_template_rows": null,
            "right": null,
            "justify_content": null,
            "_view_module": "@jupyter-widgets/base",
            "overflow": null,
            "_model_module_version": "1.2.0",
            "_view_count": null,
            "flex_flow": null,
            "width": null,
            "min_width": null,
            "border": null,
            "align_items": null,
            "bottom": null,
            "_model_module": "@jupyter-widgets/base",
            "top": null,
            "grid_column": null,
            "overflow_y": null,
            "overflow_x": null,
            "grid_auto_flow": null,
            "grid_area": null,
            "grid_template_columns": null,
            "flex": null,
            "_model_name": "LayoutModel",
            "justify_items": null,
            "grid_row": null,
            "max_height": null,
            "align_content": null,
            "visibility": null,
            "align_self": null,
            "height": null,
            "min_height": null,
            "padding": null,
            "grid_auto_rows": null,
            "grid_gap": null,
            "max_width": null,
            "order": null,
            "_view_module_version": "1.2.0",
            "grid_template_areas": null,
            "object_position": null,
            "object_fit": null,
            "grid_auto_columns": null,
            "margin": null,
            "display": null,
            "left": null
          }
        },
        "b2c2af6da7d744f98df9acb653287610": {
          "model_module": "@jupyter-widgets/controls",
          "model_name": "FloatProgressModel",
          "state": {
            "_view_name": "ProgressView",
            "style": "IPY_MODEL_9e6fae28a1ea45c386b8f8bee24400fc",
            "_dom_classes": [],
            "description": "100%",
            "_model_name": "FloatProgressModel",
            "bar_style": "success",
            "max": 33,
            "_view_module": "@jupyter-widgets/controls",
            "_model_module_version": "1.5.0",
            "value": 33,
            "_view_count": null,
            "_view_module_version": "1.5.0",
            "orientation": "horizontal",
            "min": 0,
            "description_tooltip": null,
            "_model_module": "@jupyter-widgets/controls",
            "layout": "IPY_MODEL_b8a49c3aaf3043e69d2f84d11297f646"
          }
        },
        "6f5522389f3c49f38e101182b5ce0b78": {
          "model_module": "@jupyter-widgets/controls",
          "model_name": "HTMLModel",
          "state": {
            "_view_name": "HTMLView",
            "style": "IPY_MODEL_8dfb2e730ef24481b41bf14e7c5d8cb3",
            "_dom_classes": [],
            "description": "",
            "_model_name": "HTMLModel",
            "placeholder": "​",
            "_view_module": "@jupyter-widgets/controls",
            "_model_module_version": "1.5.0",
            "value": " 33/33 [00:59&lt;00:00,  1.79s/it]",
            "_view_count": null,
            "_view_module_version": "1.5.0",
            "description_tooltip": null,
            "_model_module": "@jupyter-widgets/controls",
            "layout": "IPY_MODEL_53d75a04535f42189794fabdae90cad3"
          }
        },
        "9e6fae28a1ea45c386b8f8bee24400fc": {
          "model_module": "@jupyter-widgets/controls",
          "model_name": "ProgressStyleModel",
          "state": {
            "_view_name": "StyleView",
            "_model_name": "ProgressStyleModel",
            "description_width": "initial",
            "_view_module": "@jupyter-widgets/base",
            "_model_module_version": "1.5.0",
            "_view_count": null,
            "_view_module_version": "1.2.0",
            "bar_color": null,
            "_model_module": "@jupyter-widgets/controls"
          }
        },
        "b8a49c3aaf3043e69d2f84d11297f646": {
          "model_module": "@jupyter-widgets/base",
          "model_name": "LayoutModel",
          "state": {
            "_view_name": "LayoutView",
            "grid_template_rows": null,
            "right": null,
            "justify_content": null,
            "_view_module": "@jupyter-widgets/base",
            "overflow": null,
            "_model_module_version": "1.2.0",
            "_view_count": null,
            "flex_flow": null,
            "width": null,
            "min_width": null,
            "border": null,
            "align_items": null,
            "bottom": null,
            "_model_module": "@jupyter-widgets/base",
            "top": null,
            "grid_column": null,
            "overflow_y": null,
            "overflow_x": null,
            "grid_auto_flow": null,
            "grid_area": null,
            "grid_template_columns": null,
            "flex": null,
            "_model_name": "LayoutModel",
            "justify_items": null,
            "grid_row": null,
            "max_height": null,
            "align_content": null,
            "visibility": null,
            "align_self": null,
            "height": null,
            "min_height": null,
            "padding": null,
            "grid_auto_rows": null,
            "grid_gap": null,
            "max_width": null,
            "order": null,
            "_view_module_version": "1.2.0",
            "grid_template_areas": null,
            "object_position": null,
            "object_fit": null,
            "grid_auto_columns": null,
            "margin": null,
            "display": null,
            "left": null
          }
        },
        "8dfb2e730ef24481b41bf14e7c5d8cb3": {
          "model_module": "@jupyter-widgets/controls",
          "model_name": "DescriptionStyleModel",
          "state": {
            "_view_name": "StyleView",
            "_model_name": "DescriptionStyleModel",
            "description_width": "",
            "_view_module": "@jupyter-widgets/base",
            "_model_module_version": "1.5.0",
            "_view_count": null,
            "_view_module_version": "1.2.0",
            "_model_module": "@jupyter-widgets/controls"
          }
        },
        "53d75a04535f42189794fabdae90cad3": {
          "model_module": "@jupyter-widgets/base",
          "model_name": "LayoutModel",
          "state": {
            "_view_name": "LayoutView",
            "grid_template_rows": null,
            "right": null,
            "justify_content": null,
            "_view_module": "@jupyter-widgets/base",
            "overflow": null,
            "_model_module_version": "1.2.0",
            "_view_count": null,
            "flex_flow": null,
            "width": null,
            "min_width": null,
            "border": null,
            "align_items": null,
            "bottom": null,
            "_model_module": "@jupyter-widgets/base",
            "top": null,
            "grid_column": null,
            "overflow_y": null,
            "overflow_x": null,
            "grid_auto_flow": null,
            "grid_area": null,
            "grid_template_columns": null,
            "flex": null,
            "_model_name": "LayoutModel",
            "justify_items": null,
            "grid_row": null,
            "max_height": null,
            "align_content": null,
            "visibility": null,
            "align_self": null,
            "height": null,
            "min_height": null,
            "padding": null,
            "grid_auto_rows": null,
            "grid_gap": null,
            "max_width": null,
            "order": null,
            "_view_module_version": "1.2.0",
            "grid_template_areas": null,
            "object_position": null,
            "object_fit": null,
            "grid_auto_columns": null,
            "margin": null,
            "display": null,
            "left": null
          }
        },
        "72d2769721d14770a0bec02b053c5014": {
          "model_module": "@jupyter-widgets/controls",
          "model_name": "HBoxModel",
          "state": {
            "_view_name": "HBoxView",
            "_dom_classes": [],
            "_model_name": "HBoxModel",
            "_view_module": "@jupyter-widgets/controls",
            "_model_module_version": "1.5.0",
            "_view_count": null,
            "_view_module_version": "1.5.0",
            "box_style": "",
            "layout": "IPY_MODEL_e572cdea9f964f1a963e857dbe69f5e1",
            "_model_module": "@jupyter-widgets/controls",
            "children": [
              "IPY_MODEL_7ca81ff3bff24756b45372747b4a18ef",
              "IPY_MODEL_787312a7184f452b823cf1d38ed4ed64"
            ]
          }
        },
        "e572cdea9f964f1a963e857dbe69f5e1": {
          "model_module": "@jupyter-widgets/base",
          "model_name": "LayoutModel",
          "state": {
            "_view_name": "LayoutView",
            "grid_template_rows": null,
            "right": null,
            "justify_content": null,
            "_view_module": "@jupyter-widgets/base",
            "overflow": null,
            "_model_module_version": "1.2.0",
            "_view_count": null,
            "flex_flow": null,
            "width": null,
            "min_width": null,
            "border": null,
            "align_items": null,
            "bottom": null,
            "_model_module": "@jupyter-widgets/base",
            "top": null,
            "grid_column": null,
            "overflow_y": null,
            "overflow_x": null,
            "grid_auto_flow": null,
            "grid_area": null,
            "grid_template_columns": null,
            "flex": null,
            "_model_name": "LayoutModel",
            "justify_items": null,
            "grid_row": null,
            "max_height": null,
            "align_content": null,
            "visibility": null,
            "align_self": null,
            "height": null,
            "min_height": null,
            "padding": null,
            "grid_auto_rows": null,
            "grid_gap": null,
            "max_width": null,
            "order": null,
            "_view_module_version": "1.2.0",
            "grid_template_areas": null,
            "object_position": null,
            "object_fit": null,
            "grid_auto_columns": null,
            "margin": null,
            "display": null,
            "left": null
          }
        },
        "7ca81ff3bff24756b45372747b4a18ef": {
          "model_module": "@jupyter-widgets/controls",
          "model_name": "FloatProgressModel",
          "state": {
            "_view_name": "ProgressView",
            "style": "IPY_MODEL_62d46d521d264b8187025cf61c509087",
            "_dom_classes": [],
            "description": "100%",
            "_model_name": "FloatProgressModel",
            "bar_style": "success",
            "max": 33,
            "_view_module": "@jupyter-widgets/controls",
            "_model_module_version": "1.5.0",
            "value": 33,
            "_view_count": null,
            "_view_module_version": "1.5.0",
            "orientation": "horizontal",
            "min": 0,
            "description_tooltip": null,
            "_model_module": "@jupyter-widgets/controls",
            "layout": "IPY_MODEL_0ab69eed301d45bca0d87520e28a474a"
          }
        },
        "787312a7184f452b823cf1d38ed4ed64": {
          "model_module": "@jupyter-widgets/controls",
          "model_name": "HTMLModel",
          "state": {
            "_view_name": "HTMLView",
            "style": "IPY_MODEL_6dc265931bd44e8583f22dda47b31256",
            "_dom_classes": [],
            "description": "",
            "_model_name": "HTMLModel",
            "placeholder": "​",
            "_view_module": "@jupyter-widgets/controls",
            "_model_module_version": "1.5.0",
            "value": " 33/33 [00:54&lt;00:00,  1.66s/it]",
            "_view_count": null,
            "_view_module_version": "1.5.0",
            "description_tooltip": null,
            "_model_module": "@jupyter-widgets/controls",
            "layout": "IPY_MODEL_7e18bd5360f14a619751fc5975a4770a"
          }
        },
        "62d46d521d264b8187025cf61c509087": {
          "model_module": "@jupyter-widgets/controls",
          "model_name": "ProgressStyleModel",
          "state": {
            "_view_name": "StyleView",
            "_model_name": "ProgressStyleModel",
            "description_width": "initial",
            "_view_module": "@jupyter-widgets/base",
            "_model_module_version": "1.5.0",
            "_view_count": null,
            "_view_module_version": "1.2.0",
            "bar_color": null,
            "_model_module": "@jupyter-widgets/controls"
          }
        },
        "0ab69eed301d45bca0d87520e28a474a": {
          "model_module": "@jupyter-widgets/base",
          "model_name": "LayoutModel",
          "state": {
            "_view_name": "LayoutView",
            "grid_template_rows": null,
            "right": null,
            "justify_content": null,
            "_view_module": "@jupyter-widgets/base",
            "overflow": null,
            "_model_module_version": "1.2.0",
            "_view_count": null,
            "flex_flow": null,
            "width": null,
            "min_width": null,
            "border": null,
            "align_items": null,
            "bottom": null,
            "_model_module": "@jupyter-widgets/base",
            "top": null,
            "grid_column": null,
            "overflow_y": null,
            "overflow_x": null,
            "grid_auto_flow": null,
            "grid_area": null,
            "grid_template_columns": null,
            "flex": null,
            "_model_name": "LayoutModel",
            "justify_items": null,
            "grid_row": null,
            "max_height": null,
            "align_content": null,
            "visibility": null,
            "align_self": null,
            "height": null,
            "min_height": null,
            "padding": null,
            "grid_auto_rows": null,
            "grid_gap": null,
            "max_width": null,
            "order": null,
            "_view_module_version": "1.2.0",
            "grid_template_areas": null,
            "object_position": null,
            "object_fit": null,
            "grid_auto_columns": null,
            "margin": null,
            "display": null,
            "left": null
          }
        },
        "6dc265931bd44e8583f22dda47b31256": {
          "model_module": "@jupyter-widgets/controls",
          "model_name": "DescriptionStyleModel",
          "state": {
            "_view_name": "StyleView",
            "_model_name": "DescriptionStyleModel",
            "description_width": "",
            "_view_module": "@jupyter-widgets/base",
            "_model_module_version": "1.5.0",
            "_view_count": null,
            "_view_module_version": "1.2.0",
            "_model_module": "@jupyter-widgets/controls"
          }
        },
        "7e18bd5360f14a619751fc5975a4770a": {
          "model_module": "@jupyter-widgets/base",
          "model_name": "LayoutModel",
          "state": {
            "_view_name": "LayoutView",
            "grid_template_rows": null,
            "right": null,
            "justify_content": null,
            "_view_module": "@jupyter-widgets/base",
            "overflow": null,
            "_model_module_version": "1.2.0",
            "_view_count": null,
            "flex_flow": null,
            "width": null,
            "min_width": null,
            "border": null,
            "align_items": null,
            "bottom": null,
            "_model_module": "@jupyter-widgets/base",
            "top": null,
            "grid_column": null,
            "overflow_y": null,
            "overflow_x": null,
            "grid_auto_flow": null,
            "grid_area": null,
            "grid_template_columns": null,
            "flex": null,
            "_model_name": "LayoutModel",
            "justify_items": null,
            "grid_row": null,
            "max_height": null,
            "align_content": null,
            "visibility": null,
            "align_self": null,
            "height": null,
            "min_height": null,
            "padding": null,
            "grid_auto_rows": null,
            "grid_gap": null,
            "max_width": null,
            "order": null,
            "_view_module_version": "1.2.0",
            "grid_template_areas": null,
            "object_position": null,
            "object_fit": null,
            "grid_auto_columns": null,
            "margin": null,
            "display": null,
            "left": null
          }
        },
        "b69cf11764bc49c0aa8958763ef9cf54": {
          "model_module": "@jupyter-widgets/controls",
          "model_name": "HBoxModel",
          "state": {
            "_view_name": "HBoxView",
            "_dom_classes": [],
            "_model_name": "HBoxModel",
            "_view_module": "@jupyter-widgets/controls",
            "_model_module_version": "1.5.0",
            "_view_count": null,
            "_view_module_version": "1.5.0",
            "box_style": "",
            "layout": "IPY_MODEL_13360f1397ba41e1a3fdb8c8e2ccf87c",
            "_model_module": "@jupyter-widgets/controls",
            "children": [
              "IPY_MODEL_c4d976994cbc41c7915634679483bcda",
              "IPY_MODEL_17ae2b4ff5384a4b9065fdbf22771d0b"
            ]
          }
        },
        "13360f1397ba41e1a3fdb8c8e2ccf87c": {
          "model_module": "@jupyter-widgets/base",
          "model_name": "LayoutModel",
          "state": {
            "_view_name": "LayoutView",
            "grid_template_rows": null,
            "right": null,
            "justify_content": null,
            "_view_module": "@jupyter-widgets/base",
            "overflow": null,
            "_model_module_version": "1.2.0",
            "_view_count": null,
            "flex_flow": null,
            "width": null,
            "min_width": null,
            "border": null,
            "align_items": null,
            "bottom": null,
            "_model_module": "@jupyter-widgets/base",
            "top": null,
            "grid_column": null,
            "overflow_y": null,
            "overflow_x": null,
            "grid_auto_flow": null,
            "grid_area": null,
            "grid_template_columns": null,
            "flex": null,
            "_model_name": "LayoutModel",
            "justify_items": null,
            "grid_row": null,
            "max_height": null,
            "align_content": null,
            "visibility": null,
            "align_self": null,
            "height": null,
            "min_height": null,
            "padding": null,
            "grid_auto_rows": null,
            "grid_gap": null,
            "max_width": null,
            "order": null,
            "_view_module_version": "1.2.0",
            "grid_template_areas": null,
            "object_position": null,
            "object_fit": null,
            "grid_auto_columns": null,
            "margin": null,
            "display": null,
            "left": null
          }
        },
        "c4d976994cbc41c7915634679483bcda": {
          "model_module": "@jupyter-widgets/controls",
          "model_name": "FloatProgressModel",
          "state": {
            "_view_name": "ProgressView",
            "style": "IPY_MODEL_8f41af5af6e849e4bb644080255c4244",
            "_dom_classes": [],
            "description": "100%",
            "_model_name": "FloatProgressModel",
            "bar_style": "success",
            "max": 4,
            "_view_module": "@jupyter-widgets/controls",
            "_model_module_version": "1.5.0",
            "value": 4,
            "_view_count": null,
            "_view_module_version": "1.5.0",
            "orientation": "horizontal",
            "min": 0,
            "description_tooltip": null,
            "_model_module": "@jupyter-widgets/controls",
            "layout": "IPY_MODEL_a1b20b3087fa47f6bd2986598926f47f"
          }
        },
        "17ae2b4ff5384a4b9065fdbf22771d0b": {
          "model_module": "@jupyter-widgets/controls",
          "model_name": "HTMLModel",
          "state": {
            "_view_name": "HTMLView",
            "style": "IPY_MODEL_8e2d54cf4f244487815ff3f8cbef0304",
            "_dom_classes": [],
            "description": "",
            "_model_name": "HTMLModel",
            "placeholder": "​",
            "_view_module": "@jupyter-widgets/controls",
            "_model_module_version": "1.5.0",
            "value": " 4/4 [00:53&lt;00:00, 13.45s/it]",
            "_view_count": null,
            "_view_module_version": "1.5.0",
            "description_tooltip": null,
            "_model_module": "@jupyter-widgets/controls",
            "layout": "IPY_MODEL_48296e32f2c74f6f8f20c2091c793a5a"
          }
        },
        "8f41af5af6e849e4bb644080255c4244": {
          "model_module": "@jupyter-widgets/controls",
          "model_name": "ProgressStyleModel",
          "state": {
            "_view_name": "StyleView",
            "_model_name": "ProgressStyleModel",
            "description_width": "initial",
            "_view_module": "@jupyter-widgets/base",
            "_model_module_version": "1.5.0",
            "_view_count": null,
            "_view_module_version": "1.2.0",
            "bar_color": null,
            "_model_module": "@jupyter-widgets/controls"
          }
        },
        "a1b20b3087fa47f6bd2986598926f47f": {
          "model_module": "@jupyter-widgets/base",
          "model_name": "LayoutModel",
          "state": {
            "_view_name": "LayoutView",
            "grid_template_rows": null,
            "right": null,
            "justify_content": null,
            "_view_module": "@jupyter-widgets/base",
            "overflow": null,
            "_model_module_version": "1.2.0",
            "_view_count": null,
            "flex_flow": null,
            "width": null,
            "min_width": null,
            "border": null,
            "align_items": null,
            "bottom": null,
            "_model_module": "@jupyter-widgets/base",
            "top": null,
            "grid_column": null,
            "overflow_y": null,
            "overflow_x": null,
            "grid_auto_flow": null,
            "grid_area": null,
            "grid_template_columns": null,
            "flex": null,
            "_model_name": "LayoutModel",
            "justify_items": null,
            "grid_row": null,
            "max_height": null,
            "align_content": null,
            "visibility": null,
            "align_self": null,
            "height": null,
            "min_height": null,
            "padding": null,
            "grid_auto_rows": null,
            "grid_gap": null,
            "max_width": null,
            "order": null,
            "_view_module_version": "1.2.0",
            "grid_template_areas": null,
            "object_position": null,
            "object_fit": null,
            "grid_auto_columns": null,
            "margin": null,
            "display": null,
            "left": null
          }
        },
        "8e2d54cf4f244487815ff3f8cbef0304": {
          "model_module": "@jupyter-widgets/controls",
          "model_name": "DescriptionStyleModel",
          "state": {
            "_view_name": "StyleView",
            "_model_name": "DescriptionStyleModel",
            "description_width": "",
            "_view_module": "@jupyter-widgets/base",
            "_model_module_version": "1.5.0",
            "_view_count": null,
            "_view_module_version": "1.2.0",
            "_model_module": "@jupyter-widgets/controls"
          }
        },
        "48296e32f2c74f6f8f20c2091c793a5a": {
          "model_module": "@jupyter-widgets/base",
          "model_name": "LayoutModel",
          "state": {
            "_view_name": "LayoutView",
            "grid_template_rows": null,
            "right": null,
            "justify_content": null,
            "_view_module": "@jupyter-widgets/base",
            "overflow": null,
            "_model_module_version": "1.2.0",
            "_view_count": null,
            "flex_flow": null,
            "width": null,
            "min_width": null,
            "border": null,
            "align_items": null,
            "bottom": null,
            "_model_module": "@jupyter-widgets/base",
            "top": null,
            "grid_column": null,
            "overflow_y": null,
            "overflow_x": null,
            "grid_auto_flow": null,
            "grid_area": null,
            "grid_template_columns": null,
            "flex": null,
            "_model_name": "LayoutModel",
            "justify_items": null,
            "grid_row": null,
            "max_height": null,
            "align_content": null,
            "visibility": null,
            "align_self": null,
            "height": null,
            "min_height": null,
            "padding": null,
            "grid_auto_rows": null,
            "grid_gap": null,
            "max_width": null,
            "order": null,
            "_view_module_version": "1.2.0",
            "grid_template_areas": null,
            "object_position": null,
            "object_fit": null,
            "grid_auto_columns": null,
            "margin": null,
            "display": null,
            "left": null
          }
        },
        "6134c7d1b4474ef281ef05631c94f5cf": {
          "model_module": "@jupyter-widgets/controls",
          "model_name": "HBoxModel",
          "state": {
            "_view_name": "HBoxView",
            "_dom_classes": [],
            "_model_name": "HBoxModel",
            "_view_module": "@jupyter-widgets/controls",
            "_model_module_version": "1.5.0",
            "_view_count": null,
            "_view_module_version": "1.5.0",
            "box_style": "",
            "layout": "IPY_MODEL_29d4f775b94243baaf2b4c79e0a6f45f",
            "_model_module": "@jupyter-widgets/controls",
            "children": [
              "IPY_MODEL_bdf5cfa9f5484518bfff98ebd6b80f54",
              "IPY_MODEL_4ca4e3a581a645488c2897c0c801b431"
            ]
          }
        },
        "29d4f775b94243baaf2b4c79e0a6f45f": {
          "model_module": "@jupyter-widgets/base",
          "model_name": "LayoutModel",
          "state": {
            "_view_name": "LayoutView",
            "grid_template_rows": null,
            "right": null,
            "justify_content": null,
            "_view_module": "@jupyter-widgets/base",
            "overflow": null,
            "_model_module_version": "1.2.0",
            "_view_count": null,
            "flex_flow": null,
            "width": null,
            "min_width": null,
            "border": null,
            "align_items": null,
            "bottom": null,
            "_model_module": "@jupyter-widgets/base",
            "top": null,
            "grid_column": null,
            "overflow_y": null,
            "overflow_x": null,
            "grid_auto_flow": null,
            "grid_area": null,
            "grid_template_columns": null,
            "flex": null,
            "_model_name": "LayoutModel",
            "justify_items": null,
            "grid_row": null,
            "max_height": null,
            "align_content": null,
            "visibility": null,
            "align_self": null,
            "height": null,
            "min_height": null,
            "padding": null,
            "grid_auto_rows": null,
            "grid_gap": null,
            "max_width": null,
            "order": null,
            "_view_module_version": "1.2.0",
            "grid_template_areas": null,
            "object_position": null,
            "object_fit": null,
            "grid_auto_columns": null,
            "margin": null,
            "display": null,
            "left": null
          }
        },
        "bdf5cfa9f5484518bfff98ebd6b80f54": {
          "model_module": "@jupyter-widgets/controls",
          "model_name": "FloatProgressModel",
          "state": {
            "_view_name": "ProgressView",
            "style": "IPY_MODEL_3a928cc2a1374a02b07e430cdec34084",
            "_dom_classes": [],
            "description": "100%",
            "_model_name": "FloatProgressModel",
            "bar_style": "success",
            "max": 120,
            "_view_module": "@jupyter-widgets/controls",
            "_model_module_version": "1.5.0",
            "value": 120,
            "_view_count": null,
            "_view_module_version": "1.5.0",
            "orientation": "horizontal",
            "min": 0,
            "description_tooltip": null,
            "_model_module": "@jupyter-widgets/controls",
            "layout": "IPY_MODEL_7f2e9c26a2264c3d8643f15dd40801cb"
          }
        },
        "4ca4e3a581a645488c2897c0c801b431": {
          "model_module": "@jupyter-widgets/controls",
          "model_name": "HTMLModel",
          "state": {
            "_view_name": "HTMLView",
            "style": "IPY_MODEL_ef0961018b99411a9ed41b16576c5dc0",
            "_dom_classes": [],
            "description": "",
            "_model_name": "HTMLModel",
            "placeholder": "​",
            "_view_module": "@jupyter-widgets/controls",
            "_model_module_version": "1.5.0",
            "value": " 120/120 [00:34&lt;00:00,  3.45it/s]",
            "_view_count": null,
            "_view_module_version": "1.5.0",
            "description_tooltip": null,
            "_model_module": "@jupyter-widgets/controls",
            "layout": "IPY_MODEL_086764251d544bceb86dd4c0fae183ae"
          }
        },
        "3a928cc2a1374a02b07e430cdec34084": {
          "model_module": "@jupyter-widgets/controls",
          "model_name": "ProgressStyleModel",
          "state": {
            "_view_name": "StyleView",
            "_model_name": "ProgressStyleModel",
            "description_width": "initial",
            "_view_module": "@jupyter-widgets/base",
            "_model_module_version": "1.5.0",
            "_view_count": null,
            "_view_module_version": "1.2.0",
            "bar_color": null,
            "_model_module": "@jupyter-widgets/controls"
          }
        },
        "7f2e9c26a2264c3d8643f15dd40801cb": {
          "model_module": "@jupyter-widgets/base",
          "model_name": "LayoutModel",
          "state": {
            "_view_name": "LayoutView",
            "grid_template_rows": null,
            "right": null,
            "justify_content": null,
            "_view_module": "@jupyter-widgets/base",
            "overflow": null,
            "_model_module_version": "1.2.0",
            "_view_count": null,
            "flex_flow": null,
            "width": null,
            "min_width": null,
            "border": null,
            "align_items": null,
            "bottom": null,
            "_model_module": "@jupyter-widgets/base",
            "top": null,
            "grid_column": null,
            "overflow_y": null,
            "overflow_x": null,
            "grid_auto_flow": null,
            "grid_area": null,
            "grid_template_columns": null,
            "flex": null,
            "_model_name": "LayoutModel",
            "justify_items": null,
            "grid_row": null,
            "max_height": null,
            "align_content": null,
            "visibility": null,
            "align_self": null,
            "height": null,
            "min_height": null,
            "padding": null,
            "grid_auto_rows": null,
            "grid_gap": null,
            "max_width": null,
            "order": null,
            "_view_module_version": "1.2.0",
            "grid_template_areas": null,
            "object_position": null,
            "object_fit": null,
            "grid_auto_columns": null,
            "margin": null,
            "display": null,
            "left": null
          }
        },
        "ef0961018b99411a9ed41b16576c5dc0": {
          "model_module": "@jupyter-widgets/controls",
          "model_name": "DescriptionStyleModel",
          "state": {
            "_view_name": "StyleView",
            "_model_name": "DescriptionStyleModel",
            "description_width": "",
            "_view_module": "@jupyter-widgets/base",
            "_model_module_version": "1.5.0",
            "_view_count": null,
            "_view_module_version": "1.2.0",
            "_model_module": "@jupyter-widgets/controls"
          }
        },
        "086764251d544bceb86dd4c0fae183ae": {
          "model_module": "@jupyter-widgets/base",
          "model_name": "LayoutModel",
          "state": {
            "_view_name": "LayoutView",
            "grid_template_rows": null,
            "right": null,
            "justify_content": null,
            "_view_module": "@jupyter-widgets/base",
            "overflow": null,
            "_model_module_version": "1.2.0",
            "_view_count": null,
            "flex_flow": null,
            "width": null,
            "min_width": null,
            "border": null,
            "align_items": null,
            "bottom": null,
            "_model_module": "@jupyter-widgets/base",
            "top": null,
            "grid_column": null,
            "overflow_y": null,
            "overflow_x": null,
            "grid_auto_flow": null,
            "grid_area": null,
            "grid_template_columns": null,
            "flex": null,
            "_model_name": "LayoutModel",
            "justify_items": null,
            "grid_row": null,
            "max_height": null,
            "align_content": null,
            "visibility": null,
            "align_self": null,
            "height": null,
            "min_height": null,
            "padding": null,
            "grid_auto_rows": null,
            "grid_gap": null,
            "max_width": null,
            "order": null,
            "_view_module_version": "1.2.0",
            "grid_template_areas": null,
            "object_position": null,
            "object_fit": null,
            "grid_auto_columns": null,
            "margin": null,
            "display": null,
            "left": null
          }
        },
        "87b4d013782e43daa7649acbf35f6b81": {
          "model_module": "@jupyter-widgets/controls",
          "model_name": "HBoxModel",
          "state": {
            "_view_name": "HBoxView",
            "_dom_classes": [],
            "_model_name": "HBoxModel",
            "_view_module": "@jupyter-widgets/controls",
            "_model_module_version": "1.5.0",
            "_view_count": null,
            "_view_module_version": "1.5.0",
            "box_style": "",
            "layout": "IPY_MODEL_1a22750113be47788a84ce574dbac5d5",
            "_model_module": "@jupyter-widgets/controls",
            "children": [
              "IPY_MODEL_7ea597be3e804f24af64e071c88f3edc",
              "IPY_MODEL_3e4db70065be439cad40b79c25c250a4"
            ]
          }
        },
        "1a22750113be47788a84ce574dbac5d5": {
          "model_module": "@jupyter-widgets/base",
          "model_name": "LayoutModel",
          "state": {
            "_view_name": "LayoutView",
            "grid_template_rows": null,
            "right": null,
            "justify_content": null,
            "_view_module": "@jupyter-widgets/base",
            "overflow": null,
            "_model_module_version": "1.2.0",
            "_view_count": null,
            "flex_flow": null,
            "width": null,
            "min_width": null,
            "border": null,
            "align_items": null,
            "bottom": null,
            "_model_module": "@jupyter-widgets/base",
            "top": null,
            "grid_column": null,
            "overflow_y": null,
            "overflow_x": null,
            "grid_auto_flow": null,
            "grid_area": null,
            "grid_template_columns": null,
            "flex": null,
            "_model_name": "LayoutModel",
            "justify_items": null,
            "grid_row": null,
            "max_height": null,
            "align_content": null,
            "visibility": null,
            "align_self": null,
            "height": null,
            "min_height": null,
            "padding": null,
            "grid_auto_rows": null,
            "grid_gap": null,
            "max_width": null,
            "order": null,
            "_view_module_version": "1.2.0",
            "grid_template_areas": null,
            "object_position": null,
            "object_fit": null,
            "grid_auto_columns": null,
            "margin": null,
            "display": null,
            "left": null
          }
        },
        "7ea597be3e804f24af64e071c88f3edc": {
          "model_module": "@jupyter-widgets/controls",
          "model_name": "FloatProgressModel",
          "state": {
            "_view_name": "ProgressView",
            "style": "IPY_MODEL_06de791057c345dc8b665801c4ce7c55",
            "_dom_classes": [],
            "description": "100%",
            "_model_name": "FloatProgressModel",
            "bar_style": "success",
            "max": 120,
            "_view_module": "@jupyter-widgets/controls",
            "_model_module_version": "1.5.0",
            "value": 120,
            "_view_count": null,
            "_view_module_version": "1.5.0",
            "orientation": "horizontal",
            "min": 0,
            "description_tooltip": null,
            "_model_module": "@jupyter-widgets/controls",
            "layout": "IPY_MODEL_200385ade2c042509e42ed7f988a0240"
          }
        },
        "3e4db70065be439cad40b79c25c250a4": {
          "model_module": "@jupyter-widgets/controls",
          "model_name": "HTMLModel",
          "state": {
            "_view_name": "HTMLView",
            "style": "IPY_MODEL_b864eef0c42743e0be39fb3182ed037c",
            "_dom_classes": [],
            "description": "",
            "_model_name": "HTMLModel",
            "placeholder": "​",
            "_view_module": "@jupyter-widgets/controls",
            "_model_module_version": "1.5.0",
            "value": " 120/120 [00:04&lt;00:00, 26.41it/s]",
            "_view_count": null,
            "_view_module_version": "1.5.0",
            "description_tooltip": null,
            "_model_module": "@jupyter-widgets/controls",
            "layout": "IPY_MODEL_9626c63ef03f4f32ad0102f5cf667c1f"
          }
        },
        "06de791057c345dc8b665801c4ce7c55": {
          "model_module": "@jupyter-widgets/controls",
          "model_name": "ProgressStyleModel",
          "state": {
            "_view_name": "StyleView",
            "_model_name": "ProgressStyleModel",
            "description_width": "initial",
            "_view_module": "@jupyter-widgets/base",
            "_model_module_version": "1.5.0",
            "_view_count": null,
            "_view_module_version": "1.2.0",
            "bar_color": null,
            "_model_module": "@jupyter-widgets/controls"
          }
        },
        "200385ade2c042509e42ed7f988a0240": {
          "model_module": "@jupyter-widgets/base",
          "model_name": "LayoutModel",
          "state": {
            "_view_name": "LayoutView",
            "grid_template_rows": null,
            "right": null,
            "justify_content": null,
            "_view_module": "@jupyter-widgets/base",
            "overflow": null,
            "_model_module_version": "1.2.0",
            "_view_count": null,
            "flex_flow": null,
            "width": null,
            "min_width": null,
            "border": null,
            "align_items": null,
            "bottom": null,
            "_model_module": "@jupyter-widgets/base",
            "top": null,
            "grid_column": null,
            "overflow_y": null,
            "overflow_x": null,
            "grid_auto_flow": null,
            "grid_area": null,
            "grid_template_columns": null,
            "flex": null,
            "_model_name": "LayoutModel",
            "justify_items": null,
            "grid_row": null,
            "max_height": null,
            "align_content": null,
            "visibility": null,
            "align_self": null,
            "height": null,
            "min_height": null,
            "padding": null,
            "grid_auto_rows": null,
            "grid_gap": null,
            "max_width": null,
            "order": null,
            "_view_module_version": "1.2.0",
            "grid_template_areas": null,
            "object_position": null,
            "object_fit": null,
            "grid_auto_columns": null,
            "margin": null,
            "display": null,
            "left": null
          }
        },
        "b864eef0c42743e0be39fb3182ed037c": {
          "model_module": "@jupyter-widgets/controls",
          "model_name": "DescriptionStyleModel",
          "state": {
            "_view_name": "StyleView",
            "_model_name": "DescriptionStyleModel",
            "description_width": "",
            "_view_module": "@jupyter-widgets/base",
            "_model_module_version": "1.5.0",
            "_view_count": null,
            "_view_module_version": "1.2.0",
            "_model_module": "@jupyter-widgets/controls"
          }
        },
        "9626c63ef03f4f32ad0102f5cf667c1f": {
          "model_module": "@jupyter-widgets/base",
          "model_name": "LayoutModel",
          "state": {
            "_view_name": "LayoutView",
            "grid_template_rows": null,
            "right": null,
            "justify_content": null,
            "_view_module": "@jupyter-widgets/base",
            "overflow": null,
            "_model_module_version": "1.2.0",
            "_view_count": null,
            "flex_flow": null,
            "width": null,
            "min_width": null,
            "border": null,
            "align_items": null,
            "bottom": null,
            "_model_module": "@jupyter-widgets/base",
            "top": null,
            "grid_column": null,
            "overflow_y": null,
            "overflow_x": null,
            "grid_auto_flow": null,
            "grid_area": null,
            "grid_template_columns": null,
            "flex": null,
            "_model_name": "LayoutModel",
            "justify_items": null,
            "grid_row": null,
            "max_height": null,
            "align_content": null,
            "visibility": null,
            "align_self": null,
            "height": null,
            "min_height": null,
            "padding": null,
            "grid_auto_rows": null,
            "grid_gap": null,
            "max_width": null,
            "order": null,
            "_view_module_version": "1.2.0",
            "grid_template_areas": null,
            "object_position": null,
            "object_fit": null,
            "grid_auto_columns": null,
            "margin": null,
            "display": null,
            "left": null
          }
        },
        "79e7d8044c7042e49d49f6efa662f23b": {
          "model_module": "@jupyter-widgets/controls",
          "model_name": "HBoxModel",
          "state": {
            "_view_name": "HBoxView",
            "_dom_classes": [],
            "_model_name": "HBoxModel",
            "_view_module": "@jupyter-widgets/controls",
            "_model_module_version": "1.5.0",
            "_view_count": null,
            "_view_module_version": "1.5.0",
            "box_style": "",
            "layout": "IPY_MODEL_d6f8a327f63d46aa89c4f07c0f71ef51",
            "_model_module": "@jupyter-widgets/controls",
            "children": [
              "IPY_MODEL_8bbb1593e7ef4c86a5b38a7a2f5a7349",
              "IPY_MODEL_fcbe6b23af184c36b230aedef206a7ed"
            ]
          }
        },
        "d6f8a327f63d46aa89c4f07c0f71ef51": {
          "model_module": "@jupyter-widgets/base",
          "model_name": "LayoutModel",
          "state": {
            "_view_name": "LayoutView",
            "grid_template_rows": null,
            "right": null,
            "justify_content": null,
            "_view_module": "@jupyter-widgets/base",
            "overflow": null,
            "_model_module_version": "1.2.0",
            "_view_count": null,
            "flex_flow": null,
            "width": null,
            "min_width": null,
            "border": null,
            "align_items": null,
            "bottom": null,
            "_model_module": "@jupyter-widgets/base",
            "top": null,
            "grid_column": null,
            "overflow_y": null,
            "overflow_x": null,
            "grid_auto_flow": null,
            "grid_area": null,
            "grid_template_columns": null,
            "flex": null,
            "_model_name": "LayoutModel",
            "justify_items": null,
            "grid_row": null,
            "max_height": null,
            "align_content": null,
            "visibility": null,
            "align_self": null,
            "height": null,
            "min_height": null,
            "padding": null,
            "grid_auto_rows": null,
            "grid_gap": null,
            "max_width": null,
            "order": null,
            "_view_module_version": "1.2.0",
            "grid_template_areas": null,
            "object_position": null,
            "object_fit": null,
            "grid_auto_columns": null,
            "margin": null,
            "display": null,
            "left": null
          }
        },
        "8bbb1593e7ef4c86a5b38a7a2f5a7349": {
          "model_module": "@jupyter-widgets/controls",
          "model_name": "FloatProgressModel",
          "state": {
            "_view_name": "ProgressView",
            "style": "IPY_MODEL_72df4d74b7bf4b16a751e44aa57af310",
            "_dom_classes": [],
            "description": "100%",
            "_model_name": "FloatProgressModel",
            "bar_style": "success",
            "max": 14,
            "_view_module": "@jupyter-widgets/controls",
            "_model_module_version": "1.5.0",
            "value": 14,
            "_view_count": null,
            "_view_module_version": "1.5.0",
            "orientation": "horizontal",
            "min": 0,
            "description_tooltip": null,
            "_model_module": "@jupyter-widgets/controls",
            "layout": "IPY_MODEL_c276105ece9e44f180cddfcf8f4d80a8"
          }
        },
        "fcbe6b23af184c36b230aedef206a7ed": {
          "model_module": "@jupyter-widgets/controls",
          "model_name": "HTMLModel",
          "state": {
            "_view_name": "HTMLView",
            "style": "IPY_MODEL_876b0459f304477c8a129f73cf69db28",
            "_dom_classes": [],
            "description": "",
            "_model_name": "HTMLModel",
            "placeholder": "​",
            "_view_module": "@jupyter-widgets/controls",
            "_model_module_version": "1.5.0",
            "value": " 14/14 [00:00&lt;00:00, 22.09it/s]",
            "_view_count": null,
            "_view_module_version": "1.5.0",
            "description_tooltip": null,
            "_model_module": "@jupyter-widgets/controls",
            "layout": "IPY_MODEL_9b51bb8631d045dd93d875e6ca52aabb"
          }
        },
        "72df4d74b7bf4b16a751e44aa57af310": {
          "model_module": "@jupyter-widgets/controls",
          "model_name": "ProgressStyleModel",
          "state": {
            "_view_name": "StyleView",
            "_model_name": "ProgressStyleModel",
            "description_width": "initial",
            "_view_module": "@jupyter-widgets/base",
            "_model_module_version": "1.5.0",
            "_view_count": null,
            "_view_module_version": "1.2.0",
            "bar_color": null,
            "_model_module": "@jupyter-widgets/controls"
          }
        },
        "c276105ece9e44f180cddfcf8f4d80a8": {
          "model_module": "@jupyter-widgets/base",
          "model_name": "LayoutModel",
          "state": {
            "_view_name": "LayoutView",
            "grid_template_rows": null,
            "right": null,
            "justify_content": null,
            "_view_module": "@jupyter-widgets/base",
            "overflow": null,
            "_model_module_version": "1.2.0",
            "_view_count": null,
            "flex_flow": null,
            "width": null,
            "min_width": null,
            "border": null,
            "align_items": null,
            "bottom": null,
            "_model_module": "@jupyter-widgets/base",
            "top": null,
            "grid_column": null,
            "overflow_y": null,
            "overflow_x": null,
            "grid_auto_flow": null,
            "grid_area": null,
            "grid_template_columns": null,
            "flex": null,
            "_model_name": "LayoutModel",
            "justify_items": null,
            "grid_row": null,
            "max_height": null,
            "align_content": null,
            "visibility": null,
            "align_self": null,
            "height": null,
            "min_height": null,
            "padding": null,
            "grid_auto_rows": null,
            "grid_gap": null,
            "max_width": null,
            "order": null,
            "_view_module_version": "1.2.0",
            "grid_template_areas": null,
            "object_position": null,
            "object_fit": null,
            "grid_auto_columns": null,
            "margin": null,
            "display": null,
            "left": null
          }
        },
        "876b0459f304477c8a129f73cf69db28": {
          "model_module": "@jupyter-widgets/controls",
          "model_name": "DescriptionStyleModel",
          "state": {
            "_view_name": "StyleView",
            "_model_name": "DescriptionStyleModel",
            "description_width": "",
            "_view_module": "@jupyter-widgets/base",
            "_model_module_version": "1.5.0",
            "_view_count": null,
            "_view_module_version": "1.2.0",
            "_model_module": "@jupyter-widgets/controls"
          }
        },
        "9b51bb8631d045dd93d875e6ca52aabb": {
          "model_module": "@jupyter-widgets/base",
          "model_name": "LayoutModel",
          "state": {
            "_view_name": "LayoutView",
            "grid_template_rows": null,
            "right": null,
            "justify_content": null,
            "_view_module": "@jupyter-widgets/base",
            "overflow": null,
            "_model_module_version": "1.2.0",
            "_view_count": null,
            "flex_flow": null,
            "width": null,
            "min_width": null,
            "border": null,
            "align_items": null,
            "bottom": null,
            "_model_module": "@jupyter-widgets/base",
            "top": null,
            "grid_column": null,
            "overflow_y": null,
            "overflow_x": null,
            "grid_auto_flow": null,
            "grid_area": null,
            "grid_template_columns": null,
            "flex": null,
            "_model_name": "LayoutModel",
            "justify_items": null,
            "grid_row": null,
            "max_height": null,
            "align_content": null,
            "visibility": null,
            "align_self": null,
            "height": null,
            "min_height": null,
            "padding": null,
            "grid_auto_rows": null,
            "grid_gap": null,
            "max_width": null,
            "order": null,
            "_view_module_version": "1.2.0",
            "grid_template_areas": null,
            "object_position": null,
            "object_fit": null,
            "grid_auto_columns": null,
            "margin": null,
            "display": null,
            "left": null
          }
        },
        "aed61a4ca0eb407291d65dc46a76a92e": {
          "model_module": "@jupyter-widgets/controls",
          "model_name": "HBoxModel",
          "state": {
            "_view_name": "HBoxView",
            "_dom_classes": [],
            "_model_name": "HBoxModel",
            "_view_module": "@jupyter-widgets/controls",
            "_model_module_version": "1.5.0",
            "_view_count": null,
            "_view_module_version": "1.5.0",
            "box_style": "",
            "layout": "IPY_MODEL_eebc08a14d8c4cd2994c6d136c28e0a4",
            "_model_module": "@jupyter-widgets/controls",
            "children": [
              "IPY_MODEL_42dd97d53e364b69a1ea3b7b107375d5",
              "IPY_MODEL_7585fc4fded845ee968cc12681787aa5"
            ]
          }
        },
        "eebc08a14d8c4cd2994c6d136c28e0a4": {
          "model_module": "@jupyter-widgets/base",
          "model_name": "LayoutModel",
          "state": {
            "_view_name": "LayoutView",
            "grid_template_rows": null,
            "right": null,
            "justify_content": null,
            "_view_module": "@jupyter-widgets/base",
            "overflow": null,
            "_model_module_version": "1.2.0",
            "_view_count": null,
            "flex_flow": null,
            "width": null,
            "min_width": null,
            "border": null,
            "align_items": null,
            "bottom": null,
            "_model_module": "@jupyter-widgets/base",
            "top": null,
            "grid_column": null,
            "overflow_y": null,
            "overflow_x": null,
            "grid_auto_flow": null,
            "grid_area": null,
            "grid_template_columns": null,
            "flex": null,
            "_model_name": "LayoutModel",
            "justify_items": null,
            "grid_row": null,
            "max_height": null,
            "align_content": null,
            "visibility": null,
            "align_self": null,
            "height": null,
            "min_height": null,
            "padding": null,
            "grid_auto_rows": null,
            "grid_gap": null,
            "max_width": null,
            "order": null,
            "_view_module_version": "1.2.0",
            "grid_template_areas": null,
            "object_position": null,
            "object_fit": null,
            "grid_auto_columns": null,
            "margin": null,
            "display": null,
            "left": null
          }
        },
        "42dd97d53e364b69a1ea3b7b107375d5": {
          "model_module": "@jupyter-widgets/controls",
          "model_name": "FloatProgressModel",
          "state": {
            "_view_name": "ProgressView",
            "style": "IPY_MODEL_6ddd6ff1d2f7436a9a1b6335a1fae6eb",
            "_dom_classes": [],
            "description": "100%",
            "_model_name": "FloatProgressModel",
            "bar_style": "success",
            "max": 120,
            "_view_module": "@jupyter-widgets/controls",
            "_model_module_version": "1.5.0",
            "value": 120,
            "_view_count": null,
            "_view_module_version": "1.5.0",
            "orientation": "horizontal",
            "min": 0,
            "description_tooltip": null,
            "_model_module": "@jupyter-widgets/controls",
            "layout": "IPY_MODEL_dbeb836823f242e490c926cf66881997"
          }
        },
        "7585fc4fded845ee968cc12681787aa5": {
          "model_module": "@jupyter-widgets/controls",
          "model_name": "HTMLModel",
          "state": {
            "_view_name": "HTMLView",
            "style": "IPY_MODEL_9bb56384b50a470d84d2d0d5bafe6684",
            "_dom_classes": [],
            "description": "",
            "_model_name": "HTMLModel",
            "placeholder": "​",
            "_view_module": "@jupyter-widgets/controls",
            "_model_module_version": "1.5.0",
            "value": " 120/120 [02:10&lt;00:00,  1.09s/it]",
            "_view_count": null,
            "_view_module_version": "1.5.0",
            "description_tooltip": null,
            "_model_module": "@jupyter-widgets/controls",
            "layout": "IPY_MODEL_60ded706e1d143bab0542e0cfa86dc8b"
          }
        },
        "6ddd6ff1d2f7436a9a1b6335a1fae6eb": {
          "model_module": "@jupyter-widgets/controls",
          "model_name": "ProgressStyleModel",
          "state": {
            "_view_name": "StyleView",
            "_model_name": "ProgressStyleModel",
            "description_width": "initial",
            "_view_module": "@jupyter-widgets/base",
            "_model_module_version": "1.5.0",
            "_view_count": null,
            "_view_module_version": "1.2.0",
            "bar_color": null,
            "_model_module": "@jupyter-widgets/controls"
          }
        },
        "dbeb836823f242e490c926cf66881997": {
          "model_module": "@jupyter-widgets/base",
          "model_name": "LayoutModel",
          "state": {
            "_view_name": "LayoutView",
            "grid_template_rows": null,
            "right": null,
            "justify_content": null,
            "_view_module": "@jupyter-widgets/base",
            "overflow": null,
            "_model_module_version": "1.2.0",
            "_view_count": null,
            "flex_flow": null,
            "width": null,
            "min_width": null,
            "border": null,
            "align_items": null,
            "bottom": null,
            "_model_module": "@jupyter-widgets/base",
            "top": null,
            "grid_column": null,
            "overflow_y": null,
            "overflow_x": null,
            "grid_auto_flow": null,
            "grid_area": null,
            "grid_template_columns": null,
            "flex": null,
            "_model_name": "LayoutModel",
            "justify_items": null,
            "grid_row": null,
            "max_height": null,
            "align_content": null,
            "visibility": null,
            "align_self": null,
            "height": null,
            "min_height": null,
            "padding": null,
            "grid_auto_rows": null,
            "grid_gap": null,
            "max_width": null,
            "order": null,
            "_view_module_version": "1.2.0",
            "grid_template_areas": null,
            "object_position": null,
            "object_fit": null,
            "grid_auto_columns": null,
            "margin": null,
            "display": null,
            "left": null
          }
        },
        "9bb56384b50a470d84d2d0d5bafe6684": {
          "model_module": "@jupyter-widgets/controls",
          "model_name": "DescriptionStyleModel",
          "state": {
            "_view_name": "StyleView",
            "_model_name": "DescriptionStyleModel",
            "description_width": "",
            "_view_module": "@jupyter-widgets/base",
            "_model_module_version": "1.5.0",
            "_view_count": null,
            "_view_module_version": "1.2.0",
            "_model_module": "@jupyter-widgets/controls"
          }
        },
        "60ded706e1d143bab0542e0cfa86dc8b": {
          "model_module": "@jupyter-widgets/base",
          "model_name": "LayoutModel",
          "state": {
            "_view_name": "LayoutView",
            "grid_template_rows": null,
            "right": null,
            "justify_content": null,
            "_view_module": "@jupyter-widgets/base",
            "overflow": null,
            "_model_module_version": "1.2.0",
            "_view_count": null,
            "flex_flow": null,
            "width": null,
            "min_width": null,
            "border": null,
            "align_items": null,
            "bottom": null,
            "_model_module": "@jupyter-widgets/base",
            "top": null,
            "grid_column": null,
            "overflow_y": null,
            "overflow_x": null,
            "grid_auto_flow": null,
            "grid_area": null,
            "grid_template_columns": null,
            "flex": null,
            "_model_name": "LayoutModel",
            "justify_items": null,
            "grid_row": null,
            "max_height": null,
            "align_content": null,
            "visibility": null,
            "align_self": null,
            "height": null,
            "min_height": null,
            "padding": null,
            "grid_auto_rows": null,
            "grid_gap": null,
            "max_width": null,
            "order": null,
            "_view_module_version": "1.2.0",
            "grid_template_areas": null,
            "object_position": null,
            "object_fit": null,
            "grid_auto_columns": null,
            "margin": null,
            "display": null,
            "left": null
          }
        },
        "f2971efd6cf5413a8a4d03cafc7de774": {
          "model_module": "@jupyter-widgets/controls",
          "model_name": "HBoxModel",
          "state": {
            "_view_name": "HBoxView",
            "_dom_classes": [],
            "_model_name": "HBoxModel",
            "_view_module": "@jupyter-widgets/controls",
            "_model_module_version": "1.5.0",
            "_view_count": null,
            "_view_module_version": "1.5.0",
            "box_style": "",
            "layout": "IPY_MODEL_115b766044ff43d4aa5bfb913cdf5277",
            "_model_module": "@jupyter-widgets/controls",
            "children": [
              "IPY_MODEL_650f1b256d984ea6adb62c721b79f846",
              "IPY_MODEL_d8125503cb2241d3b686b59357347a73"
            ]
          }
        },
        "115b766044ff43d4aa5bfb913cdf5277": {
          "model_module": "@jupyter-widgets/base",
          "model_name": "LayoutModel",
          "state": {
            "_view_name": "LayoutView",
            "grid_template_rows": null,
            "right": null,
            "justify_content": null,
            "_view_module": "@jupyter-widgets/base",
            "overflow": null,
            "_model_module_version": "1.2.0",
            "_view_count": null,
            "flex_flow": null,
            "width": null,
            "min_width": null,
            "border": null,
            "align_items": null,
            "bottom": null,
            "_model_module": "@jupyter-widgets/base",
            "top": null,
            "grid_column": null,
            "overflow_y": null,
            "overflow_x": null,
            "grid_auto_flow": null,
            "grid_area": null,
            "grid_template_columns": null,
            "flex": null,
            "_model_name": "LayoutModel",
            "justify_items": null,
            "grid_row": null,
            "max_height": null,
            "align_content": null,
            "visibility": null,
            "align_self": null,
            "height": null,
            "min_height": null,
            "padding": null,
            "grid_auto_rows": null,
            "grid_gap": null,
            "max_width": null,
            "order": null,
            "_view_module_version": "1.2.0",
            "grid_template_areas": null,
            "object_position": null,
            "object_fit": null,
            "grid_auto_columns": null,
            "margin": null,
            "display": null,
            "left": null
          }
        },
        "650f1b256d984ea6adb62c721b79f846": {
          "model_module": "@jupyter-widgets/controls",
          "model_name": "FloatProgressModel",
          "state": {
            "_view_name": "ProgressView",
            "style": "IPY_MODEL_fe4ee6c5e99d4e5792e5cbd5381894a5",
            "_dom_classes": [],
            "description": "100%",
            "_model_name": "FloatProgressModel",
            "bar_style": "success",
            "max": 120,
            "_view_module": "@jupyter-widgets/controls",
            "_model_module_version": "1.5.0",
            "value": 120,
            "_view_count": null,
            "_view_module_version": "1.5.0",
            "orientation": "horizontal",
            "min": 0,
            "description_tooltip": null,
            "_model_module": "@jupyter-widgets/controls",
            "layout": "IPY_MODEL_e1946df7f74247d998c0f8f5c14fbcc4"
          }
        },
        "d8125503cb2241d3b686b59357347a73": {
          "model_module": "@jupyter-widgets/controls",
          "model_name": "HTMLModel",
          "state": {
            "_view_name": "HTMLView",
            "style": "IPY_MODEL_278ffa2141f44c8aaff9912b05d8f57e",
            "_dom_classes": [],
            "description": "",
            "_model_name": "HTMLModel",
            "placeholder": "​",
            "_view_module": "@jupyter-widgets/controls",
            "_model_module_version": "1.5.0",
            "value": " 120/120 [01:35&lt;00:00,  1.25it/s]",
            "_view_count": null,
            "_view_module_version": "1.5.0",
            "description_tooltip": null,
            "_model_module": "@jupyter-widgets/controls",
            "layout": "IPY_MODEL_ed5fc80b350e44ad98d8b2111500be96"
          }
        },
        "fe4ee6c5e99d4e5792e5cbd5381894a5": {
          "model_module": "@jupyter-widgets/controls",
          "model_name": "ProgressStyleModel",
          "state": {
            "_view_name": "StyleView",
            "_model_name": "ProgressStyleModel",
            "description_width": "initial",
            "_view_module": "@jupyter-widgets/base",
            "_model_module_version": "1.5.0",
            "_view_count": null,
            "_view_module_version": "1.2.0",
            "bar_color": null,
            "_model_module": "@jupyter-widgets/controls"
          }
        },
        "e1946df7f74247d998c0f8f5c14fbcc4": {
          "model_module": "@jupyter-widgets/base",
          "model_name": "LayoutModel",
          "state": {
            "_view_name": "LayoutView",
            "grid_template_rows": null,
            "right": null,
            "justify_content": null,
            "_view_module": "@jupyter-widgets/base",
            "overflow": null,
            "_model_module_version": "1.2.0",
            "_view_count": null,
            "flex_flow": null,
            "width": null,
            "min_width": null,
            "border": null,
            "align_items": null,
            "bottom": null,
            "_model_module": "@jupyter-widgets/base",
            "top": null,
            "grid_column": null,
            "overflow_y": null,
            "overflow_x": null,
            "grid_auto_flow": null,
            "grid_area": null,
            "grid_template_columns": null,
            "flex": null,
            "_model_name": "LayoutModel",
            "justify_items": null,
            "grid_row": null,
            "max_height": null,
            "align_content": null,
            "visibility": null,
            "align_self": null,
            "height": null,
            "min_height": null,
            "padding": null,
            "grid_auto_rows": null,
            "grid_gap": null,
            "max_width": null,
            "order": null,
            "_view_module_version": "1.2.0",
            "grid_template_areas": null,
            "object_position": null,
            "object_fit": null,
            "grid_auto_columns": null,
            "margin": null,
            "display": null,
            "left": null
          }
        },
        "278ffa2141f44c8aaff9912b05d8f57e": {
          "model_module": "@jupyter-widgets/controls",
          "model_name": "DescriptionStyleModel",
          "state": {
            "_view_name": "StyleView",
            "_model_name": "DescriptionStyleModel",
            "description_width": "",
            "_view_module": "@jupyter-widgets/base",
            "_model_module_version": "1.5.0",
            "_view_count": null,
            "_view_module_version": "1.2.0",
            "_model_module": "@jupyter-widgets/controls"
          }
        },
        "ed5fc80b350e44ad98d8b2111500be96": {
          "model_module": "@jupyter-widgets/base",
          "model_name": "LayoutModel",
          "state": {
            "_view_name": "LayoutView",
            "grid_template_rows": null,
            "right": null,
            "justify_content": null,
            "_view_module": "@jupyter-widgets/base",
            "overflow": null,
            "_model_module_version": "1.2.0",
            "_view_count": null,
            "flex_flow": null,
            "width": null,
            "min_width": null,
            "border": null,
            "align_items": null,
            "bottom": null,
            "_model_module": "@jupyter-widgets/base",
            "top": null,
            "grid_column": null,
            "overflow_y": null,
            "overflow_x": null,
            "grid_auto_flow": null,
            "grid_area": null,
            "grid_template_columns": null,
            "flex": null,
            "_model_name": "LayoutModel",
            "justify_items": null,
            "grid_row": null,
            "max_height": null,
            "align_content": null,
            "visibility": null,
            "align_self": null,
            "height": null,
            "min_height": null,
            "padding": null,
            "grid_auto_rows": null,
            "grid_gap": null,
            "max_width": null,
            "order": null,
            "_view_module_version": "1.2.0",
            "grid_template_areas": null,
            "object_position": null,
            "object_fit": null,
            "grid_auto_columns": null,
            "margin": null,
            "display": null,
            "left": null
          }
        },
        "d8b814682f2547b8809a09ce374d5e03": {
          "model_module": "@jupyter-widgets/controls",
          "model_name": "HBoxModel",
          "state": {
            "_view_name": "HBoxView",
            "_dom_classes": [],
            "_model_name": "HBoxModel",
            "_view_module": "@jupyter-widgets/controls",
            "_model_module_version": "1.5.0",
            "_view_count": null,
            "_view_module_version": "1.5.0",
            "box_style": "",
            "layout": "IPY_MODEL_eb555c84db71451f8f676602dd2ec6ba",
            "_model_module": "@jupyter-widgets/controls",
            "children": [
              "IPY_MODEL_70540659fac146018771a748578cc3ed",
              "IPY_MODEL_b4e196dbbc5f400489839d8a8bdcd167"
            ]
          }
        },
        "eb555c84db71451f8f676602dd2ec6ba": {
          "model_module": "@jupyter-widgets/base",
          "model_name": "LayoutModel",
          "state": {
            "_view_name": "LayoutView",
            "grid_template_rows": null,
            "right": null,
            "justify_content": null,
            "_view_module": "@jupyter-widgets/base",
            "overflow": null,
            "_model_module_version": "1.2.0",
            "_view_count": null,
            "flex_flow": null,
            "width": null,
            "min_width": null,
            "border": null,
            "align_items": null,
            "bottom": null,
            "_model_module": "@jupyter-widgets/base",
            "top": null,
            "grid_column": null,
            "overflow_y": null,
            "overflow_x": null,
            "grid_auto_flow": null,
            "grid_area": null,
            "grid_template_columns": null,
            "flex": null,
            "_model_name": "LayoutModel",
            "justify_items": null,
            "grid_row": null,
            "max_height": null,
            "align_content": null,
            "visibility": null,
            "align_self": null,
            "height": null,
            "min_height": null,
            "padding": null,
            "grid_auto_rows": null,
            "grid_gap": null,
            "max_width": null,
            "order": null,
            "_view_module_version": "1.2.0",
            "grid_template_areas": null,
            "object_position": null,
            "object_fit": null,
            "grid_auto_columns": null,
            "margin": null,
            "display": null,
            "left": null
          }
        },
        "70540659fac146018771a748578cc3ed": {
          "model_module": "@jupyter-widgets/controls",
          "model_name": "FloatProgressModel",
          "state": {
            "_view_name": "ProgressView",
            "style": "IPY_MODEL_c6b27632203e4b6e8feab038b9c10ec8",
            "_dom_classes": [],
            "description": "100%",
            "_model_name": "FloatProgressModel",
            "bar_style": "success",
            "max": 14,
            "_view_module": "@jupyter-widgets/controls",
            "_model_module_version": "1.5.0",
            "value": 14,
            "_view_count": null,
            "_view_module_version": "1.5.0",
            "orientation": "horizontal",
            "min": 0,
            "description_tooltip": null,
            "_model_module": "@jupyter-widgets/controls",
            "layout": "IPY_MODEL_26b442ffa9754944b4e0ed1edf74662c"
          }
        },
        "b4e196dbbc5f400489839d8a8bdcd167": {
          "model_module": "@jupyter-widgets/controls",
          "model_name": "HTMLModel",
          "state": {
            "_view_name": "HTMLView",
            "style": "IPY_MODEL_1cea42443efa4f178296da6b3fe1ce11",
            "_dom_classes": [],
            "description": "",
            "_model_name": "HTMLModel",
            "placeholder": "​",
            "_view_module": "@jupyter-widgets/controls",
            "_model_module_version": "1.5.0",
            "value": " 14/14 [01:31&lt;00:00,  6.51s/it]",
            "_view_count": null,
            "_view_module_version": "1.5.0",
            "description_tooltip": null,
            "_model_module": "@jupyter-widgets/controls",
            "layout": "IPY_MODEL_bf9d800cc9af440f87adbc93125d3c8b"
          }
        },
        "c6b27632203e4b6e8feab038b9c10ec8": {
          "model_module": "@jupyter-widgets/controls",
          "model_name": "ProgressStyleModel",
          "state": {
            "_view_name": "StyleView",
            "_model_name": "ProgressStyleModel",
            "description_width": "initial",
            "_view_module": "@jupyter-widgets/base",
            "_model_module_version": "1.5.0",
            "_view_count": null,
            "_view_module_version": "1.2.0",
            "bar_color": null,
            "_model_module": "@jupyter-widgets/controls"
          }
        },
        "26b442ffa9754944b4e0ed1edf74662c": {
          "model_module": "@jupyter-widgets/base",
          "model_name": "LayoutModel",
          "state": {
            "_view_name": "LayoutView",
            "grid_template_rows": null,
            "right": null,
            "justify_content": null,
            "_view_module": "@jupyter-widgets/base",
            "overflow": null,
            "_model_module_version": "1.2.0",
            "_view_count": null,
            "flex_flow": null,
            "width": null,
            "min_width": null,
            "border": null,
            "align_items": null,
            "bottom": null,
            "_model_module": "@jupyter-widgets/base",
            "top": null,
            "grid_column": null,
            "overflow_y": null,
            "overflow_x": null,
            "grid_auto_flow": null,
            "grid_area": null,
            "grid_template_columns": null,
            "flex": null,
            "_model_name": "LayoutModel",
            "justify_items": null,
            "grid_row": null,
            "max_height": null,
            "align_content": null,
            "visibility": null,
            "align_self": null,
            "height": null,
            "min_height": null,
            "padding": null,
            "grid_auto_rows": null,
            "grid_gap": null,
            "max_width": null,
            "order": null,
            "_view_module_version": "1.2.0",
            "grid_template_areas": null,
            "object_position": null,
            "object_fit": null,
            "grid_auto_columns": null,
            "margin": null,
            "display": null,
            "left": null
          }
        },
        "1cea42443efa4f178296da6b3fe1ce11": {
          "model_module": "@jupyter-widgets/controls",
          "model_name": "DescriptionStyleModel",
          "state": {
            "_view_name": "StyleView",
            "_model_name": "DescriptionStyleModel",
            "description_width": "",
            "_view_module": "@jupyter-widgets/base",
            "_model_module_version": "1.5.0",
            "_view_count": null,
            "_view_module_version": "1.2.0",
            "_model_module": "@jupyter-widgets/controls"
          }
        },
        "bf9d800cc9af440f87adbc93125d3c8b": {
          "model_module": "@jupyter-widgets/base",
          "model_name": "LayoutModel",
          "state": {
            "_view_name": "LayoutView",
            "grid_template_rows": null,
            "right": null,
            "justify_content": null,
            "_view_module": "@jupyter-widgets/base",
            "overflow": null,
            "_model_module_version": "1.2.0",
            "_view_count": null,
            "flex_flow": null,
            "width": null,
            "min_width": null,
            "border": null,
            "align_items": null,
            "bottom": null,
            "_model_module": "@jupyter-widgets/base",
            "top": null,
            "grid_column": null,
            "overflow_y": null,
            "overflow_x": null,
            "grid_auto_flow": null,
            "grid_area": null,
            "grid_template_columns": null,
            "flex": null,
            "_model_name": "LayoutModel",
            "justify_items": null,
            "grid_row": null,
            "max_height": null,
            "align_content": null,
            "visibility": null,
            "align_self": null,
            "height": null,
            "min_height": null,
            "padding": null,
            "grid_auto_rows": null,
            "grid_gap": null,
            "max_width": null,
            "order": null,
            "_view_module_version": "1.2.0",
            "grid_template_areas": null,
            "object_position": null,
            "object_fit": null,
            "grid_auto_columns": null,
            "margin": null,
            "display": null,
            "left": null
          }
        }
      }
    }
  },
  "cells": [
    {
      "cell_type": "markdown",
      "metadata": {
        "id": "MsITBHLCFCnJ"
      },
      "source": [
        "# Wstęp\n",
        "Zadanie 9 stanowi pierwszy z trzech etapów zajęć poświęconych sieciom rekurencyjnym i predykcji z wykorzystaniem danych multimodalnych. Efektem wszystkich trzech etapów będzie sieć rekurencyjna z warstwą atencji do predykcji kursu kryptowaluty Bitcoin (BTC) w oparciu o dane z giełdy oraz o wyniki analizy emocji komunikatów z mediów społecznościowych, do których również należy utworzyć dedykowany model sieci rekurencyjnej. Plan realizacji etapów wygląda następująco:\n",
        "\n",
        "1.   EmoTweet - model sieci rekurencyjnej do analizy emocji \n",
        "2.   MultiBTC - multimodalny model sieci rekurencyjnej do predykcji kursu BTC\n",
        "3.   AttEmoTweet & AttMultiBTC - rozszerzenie modeli EmoTweet i MultiBTC o warstwę atencji \n",
        "\n",
        "Każdy etap jest traktowany jako oddzielna lista na laboratorium, za którą można otrzymać 10 punktów. \n",
        "\n",
        "# Cel ćwiczenia\n",
        "\n",
        "Celem pierwszego etapu prac jest zapoznanie się z podstawową siecią rekurencyjną LSTM. Ze względu na fakt, że model ten będzie wykorzystany do analizy emocji tekstu, w ramach teorii do zadania zostanie omówiony podstawowy mechanizm konwersji słów w tekście do postaci wektorów dystrybucyjnych (tzw. word embeddings) na podstawie rozwiązania o nazwie `fastText`. Modele będą budowane na ogólnodostępnym zbiorze `TweetEval`, zawierającym podzbiory ręcznie anotowanych tweetów przy pomocy etykiet odnoszących się do następujących zjawisk: 1) emocje (emotion), 2) emotikony (emoji), 3) ironia (irony), 4) mowa nienawiści (hate speech), 5) mowa ofensywna (offensive language), 6) wydźwięk (sentiment), 7) nastawienie (stance). \n",
        "\n",
        "# Warunki zaliczenia\n",
        "\n",
        "Do zaliczenia pierwszego etapu należy utworzyć następujące modele dla min. 2 wybranych zjawisk:\n",
        "\n",
        "1.   Model bazowy (regresja logistyczna).\n",
        "2.   Model rekurencyjny oparty o sieć LSTM.\n",
        "\n",
        "Wytrenowane modele będą wykorzystane w 2 etapie, dlatego proszę je zachować.\n",
        "\n",
        "# Wektory dystrybucyjne\n",
        "\n",
        "W przetwarzaniu języka naturalnego, o wektorach dystrybucyjnych (inaczej osadzeniach lub zanurzeniach, ang. word embeddings) mówi się w kontekście reprezentacji słów w tekście, zazwyczaj w postaci wektora liczb rzeczywistych, który koduje znaczenie słowa. Hipoteza dystrybucyjna, u podstawy której leży większość metod reprezentacji, mówi o tym, że słowa, które często współwystępują, mają podobne znaczenie. Wektory dystrybucyjne można uzyskać za pomocą zestawu technik modelowania języka, w których słowa lub frazy są mapowane do wektorów liczb rzeczywistych. Z reguły polega to na matematycznym zanurzeniu z przestrzeni o wielu wymiarach opisujących słowo (konteksty) do ciągłej przestrzeni wektorowej o znacznie mniejszym wymiarze.\n",
        "\n",
        "Metody generowania tego odwzorowania obejmują sieci neuronowe, redukcję wymiarowości na macierzy współwystępowania słów, modele probabilistyczne lub jawną reprezentację w kontekście, w którym pojawiają się słowa. Wektory dystrybucyjne, używane jako podstawowa reprezentacja wejściowa tekstu, okazały się istotnie poprawiać jakość w wielu zadaniach NLP, takich jak np. rozpoznawanie nazw własnych, określanie części mowy, rozpoznawanie dziedziny tekstu, czy też rozpoznawanie wydźwięku i emocji w tekście. \n",
        "\n",
        "# fastText\n",
        "\n",
        "[fastText](https://fasttext.cc/) jest biblioteką do efektywnego uczenia modeli reprezentacji wektorowych słów oraz do budowania klasyfikatorów tekstu. Modele językowe można budować z wykorzystaniem dwóch popularnych technik: [Continuous Bag of Words](https://www.kdnuggets.com/2018/04/implementing-deep-learning-methods-feature-engineering-text-data-cbow.html) oraz [Skip-Gram](https://towardsdatascience.com/skip-gram-nlp-context-words-prediction-algorithm-5bbf34f84e0c). \n",
        "\n",
        "## Instalacja\n",
        "\n",
        "Pobranie repozytorium projektu:\n"
      ]
    },
    {
      "cell_type": "code",
      "metadata": {
        "colab": {
          "base_uri": "https://localhost:8080/"
        },
        "id": "0UkMDUx6bn6e",
        "outputId": "ffe14305-0e81-47f6-e6f6-012991275154"
      },
      "source": [
        "!git clone https://github.com/facebookresearch/fastText.git"
      ],
      "execution_count": 1,
      "outputs": [
        {
          "output_type": "stream",
          "text": [
            "Cloning into 'fastText'...\n",
            "remote: Enumerating objects: 3854, done.\u001b[K\n",
            "remote: Total 3854 (delta 0), reused 0 (delta 0), pack-reused 3854\u001b[K\n",
            "Receiving objects: 100% (3854/3854), 8.22 MiB | 25.52 MiB/s, done.\n",
            "Resolving deltas: 100% (2417/2417), done.\n"
          ],
          "name": "stdout"
        }
      ]
    },
    {
      "cell_type": "markdown",
      "metadata": {
        "id": "4JWc5Ie0cvYo"
      },
      "source": [
        "Instalacja biblioteki:"
      ]
    },
    {
      "cell_type": "code",
      "metadata": {
        "colab": {
          "base_uri": "https://localhost:8080/"
        },
        "id": "ku0F_kKMbteg",
        "outputId": "2486e2df-922d-4b56-ac4f-484cc13629c5"
      },
      "source": [
        "!cd fastText && mkdir build && cd build && cmake ..  && make && make install"
      ],
      "execution_count": 2,
      "outputs": [
        {
          "output_type": "stream",
          "text": [
            "-- The C compiler identification is GNU 7.5.0\n",
            "-- The CXX compiler identification is GNU 7.5.0\n",
            "-- Check for working C compiler: /usr/bin/cc\n",
            "-- Check for working C compiler: /usr/bin/cc -- works\n",
            "-- Detecting C compiler ABI info\n",
            "-- Detecting C compiler ABI info - done\n",
            "-- Detecting C compile features\n",
            "-- Detecting C compile features - done\n",
            "-- Check for working CXX compiler: /usr/bin/c++\n",
            "-- Check for working CXX compiler: /usr/bin/c++ -- works\n",
            "-- Detecting CXX compiler ABI info\n",
            "-- Detecting CXX compiler ABI info - done\n",
            "-- Detecting CXX compile features\n",
            "-- Detecting CXX compile features - done\n",
            "-- Configuring done\n",
            "-- Generating done\n",
            "-- Build files have been written to: /content/fastText/build\n",
            "\u001b[35m\u001b[1mScanning dependencies of target fasttext-static_pic\u001b[0m\n",
            "[  2%] \u001b[32mBuilding CXX object CMakeFiles/fasttext-static_pic.dir/src/args.cc.o\u001b[0m\n",
            "[  4%] \u001b[32mBuilding CXX object CMakeFiles/fasttext-static_pic.dir/src/autotune.cc.o\u001b[0m\n",
            "[  6%] \u001b[32mBuilding CXX object CMakeFiles/fasttext-static_pic.dir/src/densematrix.cc.o\u001b[0m\n",
            "[  8%] \u001b[32mBuilding CXX object CMakeFiles/fasttext-static_pic.dir/src/dictionary.cc.o\u001b[0m\n",
            "[ 10%] \u001b[32mBuilding CXX object CMakeFiles/fasttext-static_pic.dir/src/fasttext.cc.o\u001b[0m\n",
            "[ 12%] \u001b[32mBuilding CXX object CMakeFiles/fasttext-static_pic.dir/src/loss.cc.o\u001b[0m\n",
            "[ 14%] \u001b[32mBuilding CXX object CMakeFiles/fasttext-static_pic.dir/src/main.cc.o\u001b[0m\n",
            "[ 17%] \u001b[32mBuilding CXX object CMakeFiles/fasttext-static_pic.dir/src/matrix.cc.o\u001b[0m\n",
            "[ 19%] \u001b[32mBuilding CXX object CMakeFiles/fasttext-static_pic.dir/src/meter.cc.o\u001b[0m\n",
            "[ 21%] \u001b[32mBuilding CXX object CMakeFiles/fasttext-static_pic.dir/src/model.cc.o\u001b[0m\n",
            "[ 23%] \u001b[32mBuilding CXX object CMakeFiles/fasttext-static_pic.dir/src/productquantizer.cc.o\u001b[0m\n",
            "[ 25%] \u001b[32mBuilding CXX object CMakeFiles/fasttext-static_pic.dir/src/quantmatrix.cc.o\u001b[0m\n",
            "[ 27%] \u001b[32mBuilding CXX object CMakeFiles/fasttext-static_pic.dir/src/utils.cc.o\u001b[0m\n",
            "[ 29%] \u001b[32mBuilding CXX object CMakeFiles/fasttext-static_pic.dir/src/vector.cc.o\u001b[0m\n",
            "[ 31%] \u001b[32m\u001b[1mLinking CXX static library libfasttext_pic.a\u001b[0m\n",
            "[ 31%] Built target fasttext-static_pic\n",
            "\u001b[35m\u001b[1mScanning dependencies of target fasttext-static\u001b[0m\n",
            "[ 34%] \u001b[32mBuilding CXX object CMakeFiles/fasttext-static.dir/src/args.cc.o\u001b[0m\n",
            "[ 36%] \u001b[32mBuilding CXX object CMakeFiles/fasttext-static.dir/src/autotune.cc.o\u001b[0m\n",
            "[ 38%] \u001b[32mBuilding CXX object CMakeFiles/fasttext-static.dir/src/densematrix.cc.o\u001b[0m\n",
            "[ 40%] \u001b[32mBuilding CXX object CMakeFiles/fasttext-static.dir/src/dictionary.cc.o\u001b[0m\n",
            "[ 42%] \u001b[32mBuilding CXX object CMakeFiles/fasttext-static.dir/src/fasttext.cc.o\u001b[0m\n",
            "[ 44%] \u001b[32mBuilding CXX object CMakeFiles/fasttext-static.dir/src/loss.cc.o\u001b[0m\n",
            "[ 46%] \u001b[32mBuilding CXX object CMakeFiles/fasttext-static.dir/src/main.cc.o\u001b[0m\n",
            "[ 48%] \u001b[32mBuilding CXX object CMakeFiles/fasttext-static.dir/src/matrix.cc.o\u001b[0m\n",
            "[ 51%] \u001b[32mBuilding CXX object CMakeFiles/fasttext-static.dir/src/meter.cc.o\u001b[0m\n",
            "[ 53%] \u001b[32mBuilding CXX object CMakeFiles/fasttext-static.dir/src/model.cc.o\u001b[0m\n",
            "[ 55%] \u001b[32mBuilding CXX object CMakeFiles/fasttext-static.dir/src/productquantizer.cc.o\u001b[0m\n",
            "[ 57%] \u001b[32mBuilding CXX object CMakeFiles/fasttext-static.dir/src/quantmatrix.cc.o\u001b[0m\n",
            "[ 59%] \u001b[32mBuilding CXX object CMakeFiles/fasttext-static.dir/src/utils.cc.o\u001b[0m\n",
            "[ 61%] \u001b[32mBuilding CXX object CMakeFiles/fasttext-static.dir/src/vector.cc.o\u001b[0m\n",
            "[ 63%] \u001b[32m\u001b[1mLinking CXX static library libfasttext.a\u001b[0m\n",
            "[ 63%] Built target fasttext-static\n",
            "\u001b[35m\u001b[1mScanning dependencies of target fasttext-bin\u001b[0m\n",
            "[ 65%] \u001b[32mBuilding CXX object CMakeFiles/fasttext-bin.dir/src/main.cc.o\u001b[0m\n",
            "[ 68%] \u001b[32m\u001b[1mLinking CXX executable fasttext\u001b[0m\n",
            "[ 68%] Built target fasttext-bin\n",
            "\u001b[35m\u001b[1mScanning dependencies of target fasttext-shared\u001b[0m\n",
            "[ 70%] \u001b[32mBuilding CXX object CMakeFiles/fasttext-shared.dir/src/args.cc.o\u001b[0m\n",
            "[ 72%] \u001b[32mBuilding CXX object CMakeFiles/fasttext-shared.dir/src/autotune.cc.o\u001b[0m\n",
            "[ 74%] \u001b[32mBuilding CXX object CMakeFiles/fasttext-shared.dir/src/densematrix.cc.o\u001b[0m\n",
            "[ 76%] \u001b[32mBuilding CXX object CMakeFiles/fasttext-shared.dir/src/dictionary.cc.o\u001b[0m\n",
            "[ 78%] \u001b[32mBuilding CXX object CMakeFiles/fasttext-shared.dir/src/fasttext.cc.o\u001b[0m\n",
            "[ 80%] \u001b[32mBuilding CXX object CMakeFiles/fasttext-shared.dir/src/loss.cc.o\u001b[0m\n",
            "[ 82%] \u001b[32mBuilding CXX object CMakeFiles/fasttext-shared.dir/src/main.cc.o\u001b[0m\n",
            "[ 85%] \u001b[32mBuilding CXX object CMakeFiles/fasttext-shared.dir/src/matrix.cc.o\u001b[0m\n",
            "[ 87%] \u001b[32mBuilding CXX object CMakeFiles/fasttext-shared.dir/src/meter.cc.o\u001b[0m\n",
            "[ 89%] \u001b[32mBuilding CXX object CMakeFiles/fasttext-shared.dir/src/model.cc.o\u001b[0m\n",
            "[ 91%] \u001b[32mBuilding CXX object CMakeFiles/fasttext-shared.dir/src/productquantizer.cc.o\u001b[0m\n",
            "[ 93%] \u001b[32mBuilding CXX object CMakeFiles/fasttext-shared.dir/src/quantmatrix.cc.o\u001b[0m\n",
            "[ 95%] \u001b[32mBuilding CXX object CMakeFiles/fasttext-shared.dir/src/utils.cc.o\u001b[0m\n",
            "[ 97%] \u001b[32mBuilding CXX object CMakeFiles/fasttext-shared.dir/src/vector.cc.o\u001b[0m\n",
            "[100%] \u001b[32m\u001b[1mLinking CXX shared library libfasttext.so\u001b[0m\n",
            "[100%] Built target fasttext-shared\n",
            "[ 31%] Built target fasttext-static_pic\n",
            "[ 63%] Built target fasttext-static\n",
            "[ 68%] Built target fasttext-bin\n",
            "[100%] Built target fasttext-shared\n",
            "\u001b[36mInstall the project...\u001b[0m\n",
            "-- Install configuration: \"\"\n",
            "-- Installing: /usr/local/lib/pkgconfig/fasttext.pc\n",
            "-- Installing: /usr/local/lib/libfasttext.so.0\n",
            "-- Installing: /usr/local/lib/libfasttext.so\n",
            "-- Installing: /usr/local/lib/libfasttext.a\n",
            "-- Installing: /usr/local/lib/libfasttext_pic.a\n",
            "-- Installing: /usr/local/bin/fasttext\n",
            "-- Installing: /usr/local/include/fasttext/args.h\n",
            "-- Installing: /usr/local/include/fasttext/autotune.h\n",
            "-- Installing: /usr/local/include/fasttext/densematrix.h\n",
            "-- Installing: /usr/local/include/fasttext/dictionary.h\n",
            "-- Installing: /usr/local/include/fasttext/fasttext.h\n",
            "-- Installing: /usr/local/include/fasttext/loss.h\n",
            "-- Installing: /usr/local/include/fasttext/matrix.h\n",
            "-- Installing: /usr/local/include/fasttext/meter.h\n",
            "-- Installing: /usr/local/include/fasttext/model.h\n",
            "-- Installing: /usr/local/include/fasttext/productquantizer.h\n",
            "-- Installing: /usr/local/include/fasttext/quantmatrix.h\n",
            "-- Installing: /usr/local/include/fasttext/real.h\n",
            "-- Installing: /usr/local/include/fasttext/utils.h\n",
            "-- Installing: /usr/local/include/fasttext/vector.h\n"
          ],
          "name": "stdout"
        }
      ]
    },
    {
      "cell_type": "markdown",
      "metadata": {
        "id": "7ApV6Bzwc1_R"
      },
      "source": [
        "Instalacja API do Pythona:"
      ]
    },
    {
      "cell_type": "code",
      "metadata": {
        "colab": {
          "base_uri": "https://localhost:8080/"
        },
        "id": "xElxRxJycnDA",
        "outputId": "fe608414-93ab-4f50-c08f-6ea531334148"
      },
      "source": [
        "!cd fastText && pip install ."
      ],
      "execution_count": 3,
      "outputs": [
        {
          "output_type": "stream",
          "text": [
            "Processing /content/fastText\n",
            "Requirement already satisfied: pybind11>=2.2 in /usr/local/lib/python3.7/dist-packages (from fasttext==0.9.2) (2.6.2)\n",
            "Requirement already satisfied: setuptools>=0.7.0 in /usr/local/lib/python3.7/dist-packages (from fasttext==0.9.2) (56.0.0)\n",
            "Requirement already satisfied: numpy in /usr/local/lib/python3.7/dist-packages (from fasttext==0.9.2) (1.19.5)\n",
            "Building wheels for collected packages: fasttext\n",
            "  Building wheel for fasttext (setup.py) ... \u001b[?25l\u001b[?25hdone\n",
            "  Created wheel for fasttext: filename=fasttext-0.9.2-cp37-cp37m-linux_x86_64.whl size=3092562 sha256=8ce36611a7846e060b8fe9be75cc2dcb66d30ae3410073e280b481a38aadab55\n",
            "  Stored in directory: /tmp/pip-ephem-wheel-cache-_x9uxvkz/wheels/a1/9f/52/696ce6c5c46325e840c76614ee5051458c0df10306987e7443\n",
            "Successfully built fasttext\n",
            "Installing collected packages: fasttext\n",
            "Successfully installed fasttext-0.9.2\n"
          ],
          "name": "stdout"
        }
      ]
    },
    {
      "cell_type": "markdown",
      "metadata": {
        "id": "7ceW8c2XdOf4"
      },
      "source": [
        "# Dane do etapu nr 1\n",
        "\n",
        "## Korpus \n",
        "Korpus (zbiór dokumentów) do realizacji etapu nr 1 pochodzą z repozytorium [TweetEval](https://github.com/cardiffnlp/tweeteval). Repozytorium zawiera 7 różnorodnych zbiorów danych, zawierających zanonimizowane wpisy z [Twittera](https://twitter.com), anotowane następującymi zjawiskami: 1) emocje (emotion), 2) emotikony (emoji), 3) ironia (irony), 4) mowa nienawiści (hate speech), 5) mowa ofensywna (offensive language), 6) wydźwięk (sentiment), 7) nastawienie (stance). "
      ]
    },
    {
      "cell_type": "code",
      "metadata": {
        "colab": {
          "base_uri": "https://localhost:8080/"
        },
        "id": "ER8c8zNmgE40",
        "outputId": "7a38a831-5147-439f-a1b0-39b148f03dd2"
      },
      "source": [
        "!wget http://jankocon.clarin-pl.eu/share/tweeteval.7z"
      ],
      "execution_count": 4,
      "outputs": [
        {
          "output_type": "stream",
          "text": [
            "--2021-05-05 07:20:21--  http://jankocon.clarin-pl.eu/share/tweeteval.7z\n",
            "Resolving jankocon.clarin-pl.eu (jankocon.clarin-pl.eu)... 156.17.135.34\n",
            "Connecting to jankocon.clarin-pl.eu (jankocon.clarin-pl.eu)|156.17.135.34|:80... connected.\n",
            "HTTP request sent, awaiting response... 200 OK\n",
            "Length: 17390348 (17M) [application/x-7z-compressed]\n",
            "Saving to: ‘tweeteval.7z’\n",
            "\n",
            "tweeteval.7z        100%[===================>]  16.58M   604 B/s    in 28s     \n",
            "\n",
            "2021-05-05 07:20:49 (615 KB/s) - ‘tweeteval.7z’ saved [17390348/17390348]\n",
            "\n"
          ],
          "name": "stdout"
        }
      ]
    },
    {
      "cell_type": "code",
      "metadata": {
        "colab": {
          "base_uri": "https://localhost:8080/"
        },
        "id": "qS6VxC26gUNt",
        "outputId": "fbb55d7e-28ca-4479-af4a-dcf8b5f035b2"
      },
      "source": [
        "!7za x tweeteval.7z"
      ],
      "execution_count": 5,
      "outputs": [
        {
          "output_type": "stream",
          "text": [
            "\n",
            "7-Zip (a) [64] 16.02 : Copyright (c) 1999-2016 Igor Pavlov : 2016-05-21\n",
            "p7zip Version 16.02 (locale=en_US.UTF-8,Utf16=on,HugeFiles=on,64 bits,2 CPUs Intel(R) Xeon(R) CPU @ 2.30GHz (306F0),ASM,AES-NI)\n",
            "\n",
            "Scanning the drive for archives:\n",
            "  0M Scan\b\b\b\b\b\b\b\b\b         \b\b\b\b\b\b\b\b\b1 file, 17390348 bytes (17 MiB)\n",
            "\n",
            "Extracting archive: tweeteval.7z\n",
            "--\n",
            "Path = tweeteval.7z\n",
            "Type = 7z\n",
            "Physical Size = 17390348\n",
            "Headers Size = 1810\n",
            "Method = LZMA2:24\n",
            "Solid = +\n",
            "Blocks = 1\n",
            "\n",
            "  0%\b\b\b\b    \b\b\b\b 59% 66 - tweeteval/datasets/emoji/val_labels.txt\b\b\b\b\b\b\b\b\b\b\b\b\b\b\b\b\b\b\b\b\b\b\b\b\b\b\b\b\b\b\b\b\b\b\b\b\b\b\b\b\b\b\b\b\b\b\b\b\b                                                 \b\b\b\b\b\b\b\b\b\b\b\b\b\b\b\b\b\b\b\b\b\b\b\b\b\b\b\b\b\b\b\b\b\b\b\b\b\b\b\b\b\b\b\b\b\b\b\b\bEverything is Ok\n",
            "\n",
            "Folders: 33\n",
            "Files: 115\n",
            "Size:       30563155\n",
            "Compressed: 17390348\n"
          ],
          "name": "stdout"
        }
      ]
    },
    {
      "cell_type": "markdown",
      "metadata": {
        "id": "Kb6c5nuvgiaF"
      },
      "source": [
        "## Zawartość korpusu\n",
        "\n",
        "W katalogu głównym (tweeteval) znajdują się następujące elementy:\n",
        "*   `datasets` - katalog ze zbiorami danych\n",
        "   * `emotion` - tweety anotowane emocjami \n",
        "     * `mapping.txt` - identyfikatory etykiet oraz ich opis\n",
        "     * `train_text.txt` - wpisy z Twittera (część ucząca)\n",
        "     * `train_labels.txt` - etykiety wpisów z Twittera (część ucząca)\n",
        "     * `test_*.txt, valid_*.txt` - j.w. (część testowa i walidacyjna)\n",
        "   * `emoji` - tweety anotowane emotikonami\n",
        "   * `...` - katalogi zawierające tweety anotowane pozostałymi zjawiskami\n",
        "*   `predictions` - katalog z przykładowymi predykcjami\n",
        "   * `emotion.txt` - etykiety modelu predykcyjnego dla części testowej danych `emotion`\n",
        "   * `emoji.txt` - j.w. dla cz. testowej danych `emoji`\n",
        "   * `...` - j.w. dla pozostałych danych\n",
        "*   `evaluation_script.py` - skrypt do ewaluacji \n",
        "\n",
        "## Model języka\n",
        "\n",
        "Na potrzeby zadania został przygotowany model Skip-Gram reprezentacji wektorowej słów, zbudowany na wielkim korpusie tweetów dotyczących kursu BTC. Wersja binarna tego modelu dostępna jest w 2 wariantach:\n",
        "* [wektory 100-elementowe (1.7GB)](http://jankocon.clarin-pl.eu/share/fasttext_tweetmodel_btc_sg_100_en.bin)\n",
        "* [wektory 20-elementowe (350MB)](http://jankocon.clarin-pl.eu/share/fasttext_tweetmodel_btc_sg_20_en.bin)\n",
        "\n",
        "Na potrzeby prezentacji przykładowego rozwiązania zostanie wykorzystany mniejszy model. Do realizacji ostatecznego rozwiązania należy wykorzystać większy model. \n",
        "\n",
        "\n",
        "\n"
      ]
    },
    {
      "cell_type": "markdown",
      "metadata": {
        "id": "stk-sYt9o6sD"
      },
      "source": [
        "# Model bazowy rozpoznawania emocji\n",
        "\n",
        "Model bazowy, zbudowany z wykorzystaniem narzędzia fastText (oparty o regresję logistyczną), będzie punktem wyjścia do porównania się z modelami opartymi o sieci LSTM, których skonstruowanie i ewaluacja na wybranych zadaniach będzie celem etapu nr 1. \n",
        "\n",
        "Pobranie mniejszego modelu reprezentacji języka tweetów:\n"
      ]
    },
    {
      "cell_type": "code",
      "metadata": {
        "colab": {
          "base_uri": "https://localhost:8080/"
        },
        "id": "ChAehfcHggvF",
        "outputId": "e20595eb-9f5f-44c7-c0e0-d8a21a7097d1"
      },
      "source": [
        "!wget http://jankocon.clarin-pl.eu/share/fasttext_tweetmodel_btc_sg_20_en.bin"
      ],
      "execution_count": 6,
      "outputs": [
        {
          "output_type": "stream",
          "text": [
            "--2021-05-05 07:20:50--  http://jankocon.clarin-pl.eu/share/fasttext_tweetmodel_btc_sg_20_en.bin\n",
            "Resolving jankocon.clarin-pl.eu (jankocon.clarin-pl.eu)... 156.17.135.34\n",
            "Connecting to jankocon.clarin-pl.eu (jankocon.clarin-pl.eu)|156.17.135.34|:80... connected.\n",
            "HTTP request sent, awaiting response... 200 OK\n",
            "Length: 365240858 (348M) [application/octet-stream]\n",
            "Saving to: ‘fasttext_tweetmodel_btc_sg_20_en.bin’\n",
            "\n",
            "fasttext_tweetmodel 100%[===================>] 348.32M  11.2MB/s    in 41s     \n",
            "\n",
            "2021-05-05 07:21:31 (8.49 MB/s) - ‘fasttext_tweetmodel_btc_sg_20_en.bin’ saved [365240858/365240858]\n",
            "\n"
          ],
          "name": "stdout"
        }
      ]
    },
    {
      "cell_type": "code",
      "metadata": {
        "colab": {
          "base_uri": "https://localhost:8080/"
        },
        "id": "ZfJ2PY2llrQS",
        "outputId": "a4b12092-d79a-4748-c65d-32f85a8c570f"
      },
      "source": [
        "!wget http://jankocon.clarin-pl.eu/share/fasttext_tweetmodel_btc_sg_100_en.bin"
      ],
      "execution_count": 85,
      "outputs": [
        {
          "output_type": "stream",
          "text": [
            "--2021-05-05 08:14:54--  http://jankocon.clarin-pl.eu/share/fasttext_tweetmodel_btc_sg_100_en.bin\n",
            "Resolving jankocon.clarin-pl.eu (jankocon.clarin-pl.eu)... 156.17.135.34\n",
            "Connecting to jankocon.clarin-pl.eu (jankocon.clarin-pl.eu)|156.17.135.34|:80... connected.\n",
            "HTTP request sent, awaiting response... 200 OK\n",
            "Length: 1740570138 (1.6G) [application/octet-stream]\n",
            "Saving to: ‘fasttext_tweetmodel_btc_sg_100_en.bin’\n",
            "\n",
            "fasttext_tweetmodel 100%[===================>]   1.62G  11.2MB/s    in 2m 30s  \n",
            "\n",
            "2021-05-05 08:17:24 (11.1 MB/s) - ‘fasttext_tweetmodel_btc_sg_100_en.bin’ saved [1740570138/1740570138]\n",
            "\n"
          ],
          "name": "stdout"
        }
      ]
    },
    {
      "cell_type": "markdown",
      "metadata": {
        "id": "NkacglPdr96Y"
      },
      "source": [
        "Wydobycie słownika wektorów z binarnego modelu języka:"
      ]
    },
    {
      "cell_type": "code",
      "metadata": {
        "id": "CHyqkncyrZru"
      },
      "source": [
        "!python fastText/python/doc/examples/bin_to_vec.py fasttext_tweetmodel_btc_sg_20_en.bin > fasttext_tweetmodel_btc_sg_20_en.vec"
      ],
      "execution_count": 7,
      "outputs": []
    },
    {
      "cell_type": "code",
      "metadata": {
        "colab": {
          "base_uri": "https://localhost:8080/"
        },
        "id": "ODjWuYhvoB8x",
        "outputId": "87190905-4667-497d-ccd8-cbb6b4e3558b"
      },
      "source": [
        "!python fastText/python/doc/examples/bin_to_vec.py fasttext_tweetmodel_btc_sg_100_en.bin > fasttext_tweetmodel_btc_sg_100_en.vec"
      ],
      "execution_count": 96,
      "outputs": [
        {
          "output_type": "stream",
          "text": [
            "tcmalloc: large alloc 1259585536 bytes == 0x561c70112000 @  0x7f0e4f398887 0x7f0e4d2cf733 0x7f0e4d2b83cf 0x7f0e4d2b89e1 0x7f0e4d280273 0x7f0e4d2a4e0c 0x561c58171c38 0x561c581e563d 0x561c581dfb0e 0x561c5817302c 0x561c581b3d39 0x561c581b0c84 0x561c581718e9 0x561c581e5ade 0x561c5817269a 0x561c581e0a45 0x561c581dfb0e 0x561c581df813 0x561c582a9592 0x561c582a990d 0x561c582a97b6 0x561c58281103 0x561c58280dac 0x7f0e4e180bf7 0x561c58280c8a\n"
          ],
          "name": "stdout"
        }
      ]
    },
    {
      "cell_type": "markdown",
      "metadata": {
        "id": "_E_5UDKYyzwp"
      },
      "source": [
        "Dodanie prefiksu `__label__` do etykiet zbioru `emotion`:"
      ]
    },
    {
      "cell_type": "code",
      "metadata": {
        "id": "OjUQvyKIsKV8"
      },
      "source": [
        "!sed 's/^/__label__/g' tweeteval/datasets/emotion/train_labels.txt > train_labels_emo.txt\n",
        "!sed 's/^/__label__/g' tweeteval/datasets/emotion/test_labels.txt > test_labels_emo.txt\n",
        "!sed 's/^/__label__/g' tweeteval/datasets/emotion/val_labels.txt > val_labels_emo.txt"
      ],
      "execution_count": 8,
      "outputs": []
    },
    {
      "cell_type": "code",
      "metadata": {
        "id": "kZvlmxv-aB8D"
      },
      "source": [
        "!sed 's/^/__label__/g' tweeteval/datasets/offensive/train_labels.txt > train_labels_off.txt\n",
        "!sed 's/^/__label__/g' tweeteval/datasets/offensive/test_labels.txt > test_labels_off.txt\n",
        "!sed 's/^/__label__/g' tweeteval/datasets/offensive/val_labels.txt > val_labels_off.txt"
      ],
      "execution_count": 93,
      "outputs": []
    },
    {
      "cell_type": "markdown",
      "metadata": {
        "id": "IlHv_VJ5zIHw"
      },
      "source": [
        "Przygotowanie zbioru uczącego, testowego i walidacyjnego w formacie `fastText`:"
      ]
    },
    {
      "cell_type": "code",
      "metadata": {
        "id": "nNdjvsT8siZ1"
      },
      "source": [
        "!paste -d \" \" tweeteval/datasets/emotion/train_text.txt train_labels_emo.txt > train_emo.txt\n",
        "!paste -d \" \" tweeteval/datasets/emotion/test_text.txt test_labels_emo.txt > test_emo.txt\n",
        "!paste -d \" \" tweeteval/datasets/emotion/val_text.txt val_labels_emo.txt > val_emo.txt"
      ],
      "execution_count": 9,
      "outputs": []
    },
    {
      "cell_type": "code",
      "metadata": {
        "id": "g_wF8zd_aKuA"
      },
      "source": [
        "!paste -d \" \" tweeteval/datasets/offensive/train_text.txt train_labels_off.txt > train_off.txt\n",
        "!paste -d \" \" tweeteval/datasets/offensive/test_text.txt test_labels_off.txt > test_off.txt\n",
        "!paste -d \" \" tweeteval/datasets/offensive/val_text.txt val_labels_off.txt > val_off.txt"
      ],
      "execution_count": 94,
      "outputs": []
    },
    {
      "cell_type": "markdown",
      "metadata": {
        "id": "ro5A5HAEzGNJ"
      },
      "source": [
        "Trenowanie modelu z wykorzystaniem wejścia `train_emo.txt`, z określeniem wyjściowej nazwy modelu `emo_model`, dla wektorów słów o wymiarze `20`, z wykorzystaniem pretrenowanych wektorów z pliku `fasttext_tweetmodel_btc_sg_20_en.vec` i z uruchomieniem dostrajania hiperparametrów na zbiorze walidacyjnym `val_emo.txt`:"
      ]
    },
    {
      "cell_type": "code",
      "metadata": {
        "colab": {
          "base_uri": "https://localhost:8080/"
        },
        "id": "GChCYj1ptoEj",
        "outputId": "508f5b90-262a-495c-f873-8bbe632e2743"
      },
      "source": [
        "!fasttext supervised -input train_emo.txt -output emo_model -dim 20 -pretrainedVectors fasttext_tweetmodel_btc_sg_20_en.vec -autotune-validation val_emo.txt "
      ],
      "execution_count": 10,
      "outputs": [
        {
          "output_type": "stream",
          "text": [
            "Warning : dim is manually set to a specific value. It will not be automatically optimized.\n",
            "Progress: 100.0% Trials:   21 Best score:  0.689840 ETA:   0h 0m 0s\n",
            "Training again with best arguments\n",
            "Read 0M words\n",
            "Number of words:  12887\n",
            "Number of labels: 4\n",
            "Progress: 100.0% words/sec/thread:   77263 lr:  0.000000 avg.loss:  0.538675 ETA:   0h 0m 0s\n"
          ],
          "name": "stdout"
        }
      ]
    },
    {
      "cell_type": "markdown",
      "metadata": {
        "id": "pkp4BDnvzxrN"
      },
      "source": [
        "Podstawowa ewaluacja modelu z wykorzystaniem `fastText`, wynikiem jest precyzja (P - precision) i kompletność (R - recall) w wariancie [weighted](https://scikit-learn.org/stable/modules/generated/sklearn.metrics.precision_recall_fscore_support.html)."
      ]
    },
    {
      "cell_type": "code",
      "metadata": {
        "colab": {
          "base_uri": "https://localhost:8080/"
        },
        "id": "90GbSCCgvmCj",
        "outputId": "f4d1374b-c975-4094-a013-f7e03f44f55d"
      },
      "source": [
        "!fasttext test emo_model.bin test_emo.txt"
      ],
      "execution_count": 11,
      "outputs": [
        {
          "output_type": "stream",
          "text": [
            "N\t1421\n",
            "P@1\t0.697\n",
            "R@1\t0.697\n"
          ],
          "name": "stdout"
        }
      ]
    },
    {
      "cell_type": "markdown",
      "metadata": {
        "id": "OoqaR5To0UWq"
      },
      "source": [
        "Rozszerzona ewaluacja modelu z wykorzystaniem `fastText`, wynikiem jest precyzja (P - precision), kompletność (R - recall) oraz F1-score dla każdej etykiety w wariancie [weighted](https://scikit-learn.org/stable/modules/generated/sklearn.metrics.precision_recall_fscore_support.html)."
      ]
    },
    {
      "cell_type": "code",
      "metadata": {
        "colab": {
          "base_uri": "https://localhost:8080/"
        },
        "id": "e3xFd-RDwv_w",
        "outputId": "f71590c0-393a-4278-c8fd-1f06a11d767e"
      },
      "source": [
        "!fasttext test-label emo_model.bin test_emo.txt"
      ],
      "execution_count": 12,
      "outputs": [
        {
          "output_type": "stream",
          "text": [
            "F1-Score : 0.765612  Precision : 0.699259  Recall : 0.845878   __label__0\n",
            "F1-Score : 0.692308  Precision : 0.701613  Recall : 0.683246   __label__3\n",
            "F1-Score : 0.662595  Precision : 0.730640  Recall : 0.606145   __label__1\n",
            "F1-Score : 0.400000  Precision : 0.519481  Recall : 0.325203   __label__2\n",
            "N\t1421\n",
            "P@1\t0.697\n",
            "R@1\t0.697\n"
          ],
          "name": "stdout"
        }
      ]
    },
    {
      "cell_type": "markdown",
      "metadata": {
        "id": "Y__FOjZO0jrw"
      },
      "source": [
        "Przygotowanie danych do ewaluacji z wykorzystaniem skryptu dołączonego do zbioru TweetEval:"
      ]
    },
    {
      "cell_type": "code",
      "metadata": {
        "id": "dZyri0pVw43n"
      },
      "source": [
        "!mkdir predictions2"
      ],
      "execution_count": 13,
      "outputs": []
    },
    {
      "cell_type": "code",
      "metadata": {
        "id": "1gMgdnILxScS"
      },
      "source": [
        "!fasttext predict emo_model.bin tweeteval/datasets/emotion/test_text.txt | sed 's/__label__//g' > predictions2/emotion.txt"
      ],
      "execution_count": 14,
      "outputs": []
    },
    {
      "cell_type": "markdown",
      "metadata": {
        "id": "xRwh9aIx0s3I"
      },
      "source": [
        "Uruchomienie ewaluacji. Oprócz wyników P, R, F1 [weighted]((https://scikit-learn.org/stable/modules/generated/sklearn.metrics.precision_recall_fscore_support.html)) dla każdej etykiety, otrzymujemy również wyniki w wariancie [macro]((https://scikit-learn.org/stable/modules/generated/sklearn.metrics.precision_recall_fscore_support.html)). **Ostateczną miarą (TweetEval Score) jest miara F1-score w wariancie macro i tę miarę proszę traktować jako kluczową przy porównywaniu rozwiązań.**"
      ]
    },
    {
      "cell_type": "code",
      "metadata": {
        "colab": {
          "base_uri": "https://localhost:8080/"
        },
        "id": "RpAjMNr2xn-e",
        "outputId": "9ee890f2-8ca7-4a3c-85df-821bf623a2cc"
      },
      "source": [
        "!python tweeteval/evaluation_script.py --tweeteval_path tweeteval/datasets --predictions_path predictions2 --task emotion"
      ],
      "execution_count": 15,
      "outputs": [
        {
          "output_type": "stream",
          "text": [
            "0 {'precision': 0.6992592592592592, 'recall': 0.8458781362007168, 'f1-score': 0.7656123276561233, 'support': 558}\n",
            "1 {'precision': 0.7306397306397306, 'recall': 0.6061452513966481, 'f1-score': 0.6625954198473283, 'support': 358}\n",
            "2 {'precision': 0.5194805194805194, 'recall': 0.3252032520325203, 'f1-score': 0.39999999999999997, 'support': 123}\n",
            "3 {'precision': 0.7016129032258065, 'recall': 0.6832460732984293, 'f1-score': 0.6923076923076923, 'support': 382}\n",
            "accuracy 0.6966924700914848\n",
            "macro avg {'precision': 0.6627481031513289, 'recall': 0.6151181782320787, 'f1-score': 0.6301288599527859, 'support': 1421}\n",
            "weighted avg {'precision': 0.6922363991302268, 'recall': 0.6966924700914848, 'f1-score': 0.6883056844468676, 'support': 1421}\n",
            "------------------------------\n",
            "TweetEval Score (emotion): 0.6301288599527859\n"
          ],
          "name": "stdout"
        }
      ]
    },
    {
      "cell_type": "markdown",
      "metadata": {
        "id": "FV9_Gnrz2T0m"
      },
      "source": [
        "# Budowa modeli EmoTweet\n",
        "\n",
        "W tej sekcji Państwa zadaniem będzie przygotowanie modeli sieci LSTM oraz modeli bazowych opartych o regresję logistyczną (fastText) dla wybranych 2 zjawisk ze zbioru TweetEval. Dla sieci LSTM kolejne jednostki sieci rekurencyjnej na wejściu dostają reprezentację wektorową kolejnych wyrazów w tekście. Wyjście z ostatniej jednostki podlega klasyfikacji. W celu usprawnienia zadania, przedstawiona zostanie metoda reprezentacji wektorowej tekstu z wykorzystaniem Pythonowego API do narzędzia fastText. Do ewaluacji modeli należy wykorzystać uprzednio zaprezentowany skrypt `tweeteval/evaluation_script.py`.\n",
        "\n",
        "## Wektoryzacja tekstu\n"
      ]
    },
    {
      "cell_type": "code",
      "metadata": {
        "id": "pmdakZza43X8"
      },
      "source": [
        "# inicjalizacja biblioteki\n",
        "import fasttext"
      ],
      "execution_count": 16,
      "outputs": []
    },
    {
      "cell_type": "code",
      "metadata": {
        "id": "DpJZYWyd6EK-"
      },
      "source": [
        "# ładowanie modelu\n",
        "MODEL_PATH = 'fasttext_tweetmodel_btc_sg_100_en.bin'\n",
        "model = fasttext.load_model(MODEL_PATH)"
      ],
      "execution_count": 87,
      "outputs": []
    },
    {
      "cell_type": "code",
      "metadata": {
        "id": "yRs60cO96zk5"
      },
      "source": [
        "# wczytanie danych treningowych\n",
        "import pandas as pd\n",
        "TRAIN_PATH_EMO = 'tweeteval/datasets/emotion/train_text.txt'\n",
        "VAL_PATH_EMO = 'tweeteval/datasets/emotion/val_text.txt'\n",
        "TEST_PATH_EMO = 'tweeteval/datasets/emotion/test_text.txt'\n",
        "\n",
        "TRAIN_PATH_OFF = 'tweeteval/datasets/offensive/train_text.txt'\n",
        "VAL_PATH_OFF = 'tweeteval/datasets/offensive/val_text.txt'\n",
        "TEST_PATH_OFF = 'tweeteval/datasets/offensive/test_text.txt'"
      ],
      "execution_count": 100,
      "outputs": []
    },
    {
      "cell_type": "code",
      "metadata": {
        "id": "B6fdzMHHOlec"
      },
      "source": [
        "import torch\n",
        "import numpy as np"
      ],
      "execution_count": 19,
      "outputs": []
    },
    {
      "cell_type": "code",
      "metadata": {
        "id": "6m1h4fA-RFCS"
      },
      "source": [
        "def prepare_lstm_data(tweets_path, label_path):\n",
        "  texts = pd.read_csv(tweets_path, sep='\\t', header=None)\n",
        "  labels = pd.read_csv(label_path, sep='\\t', header=None)\n",
        "\n",
        "  lengths = torch.tensor([len(fasttext.tokenize(x)) for x in texts[0]])\n",
        "\n",
        "  assert len(texts) == len(labels)\n",
        "\n",
        "  training_data = []\n",
        "\n",
        "  for tweet in texts[0].tolist():\n",
        "    tweet_emb = []\n",
        "    for word in fasttext.tokenize(tweet):\n",
        "      tweet_emb.append(torch.tensor(model.get_word_vector(word).reshape(1, -1)))\n",
        "  \n",
        "    training_data.append(torch.cat(tweet_emb))\n",
        "  training_data_padded = torch.nn.utils.rnn.pad_sequence(training_data, batch_first = True)\n",
        "  print(training_data_padded.shape)\n",
        "\n",
        "  labels_ints = torch.tensor([int(str_label[-1]) for  str_label in labels[0]])\n",
        "\n",
        "  return training_data_padded, lengths, labels_ints\n",
        "\n",
        "\n"
      ],
      "execution_count": 88,
      "outputs": []
    },
    {
      "cell_type": "code",
      "metadata": {
        "colab": {
          "base_uri": "https://localhost:8080/"
        },
        "id": "4CN5pzQiSTPc",
        "outputId": "b38276e2-b192-4dbd-8100-79e4c02858ed"
      },
      "source": [
        "X_train_emo, train_lengths_emo, y_train_emo = prepare_lstm_data(TRAIN_PATH_EMO, 'train_labels_emo.txt')\n",
        "X_val_emo, val_lengths_emo, y_val_emo = prepare_lstm_data(VAL_PATH_EMO, 'val_labels_emo.txt')\n",
        "X_test_emo, test_lengths_emo, y_test_emo = prepare_lstm_data(TEST_PATH_EMO, 'test_labels_emo.txt')\n",
        "\n",
        "X_train_off, train_lengths_off, y_train_off = prepare_lstm_data(TRAIN_PATH_OFF, 'train_labels_off.txt')\n",
        "X_val_off, val_lengths_off, y_val_off = prepare_lstm_data(VAL_PATH_OFF, 'val_labels_off.txt')\n",
        "X_test_off, test_lengths_off, y_test_off = prepare_lstm_data(TEST_PATH_OFF, 'test_labels_off.txt')\n"
      ],
      "execution_count": 103,
      "outputs": [
        {
          "output_type": "stream",
          "text": [
            "torch.Size([3257, 33, 100])\n",
            "torch.Size([374, 32, 100])\n",
            "torch.Size([1421, 36, 100])\n",
            "torch.Size([11916, 103, 100])\n",
            "torch.Size([1324, 82, 100])\n",
            "torch.Size([860, 63, 100])\n"
          ],
          "name": "stdout"
        }
      ]
    },
    {
      "cell_type": "code",
      "metadata": {
        "id": "Mp_FGEotVqmf"
      },
      "source": [
        "from torch.utils.data import DataLoader, TensorDataset\n",
        "train_dataloader_emo = DataLoader(TensorDataset(X_train_emo, train_lengths_emo, y_train_emo), batch_size=100, shuffle=True)\n",
        "val_dataloader_emo = DataLoader(TensorDataset(X_val_emo, val_lengths_emo,  y_val_emo), batch_size = 100)\n",
        "\n",
        "train_dataloader_off = DataLoader(TensorDataset(X_train_off, train_lengths_off, y_train_off), batch_size=100, shuffle=True)\n",
        "val_dataloader_off = DataLoader(TensorDataset(X_val_off, val_lengths_off,  y_val_off), batch_size = 100)\n"
      ],
      "execution_count": 104,
      "outputs": []
    },
    {
      "cell_type": "markdown",
      "metadata": {
        "id": "VKEzzZTaSeOz"
      },
      "source": [
        "# New Section"
      ]
    },
    {
      "cell_type": "markdown",
      "metadata": {
        "id": "NWb5iv7T9ML9"
      },
      "source": [
        "Proszę zwrócić uwagę, że fastText jest w stanie przyporządkować reprezentację wektorową nawet dla takich słów, których model języka nie widział w trakcie uczenia (pierwszy token wejściowego tekstu). "
      ]
    },
    {
      "cell_type": "markdown",
      "metadata": {
        "id": "eYtFNcbU9qSR"
      },
      "source": [
        "## Model klasyfikacji tekstu LSTM"
      ]
    },
    {
      "cell_type": "code",
      "metadata": {
        "id": "bOtB5TmlTMtM"
      },
      "source": [
        "from torch import nn"
      ],
      "execution_count": 25,
      "outputs": []
    },
    {
      "cell_type": "code",
      "metadata": {
        "id": "SOP5PoY7907f"
      },
      "source": [
        "class LSTMNet(nn.Module):\n",
        "\n",
        "    def __init__(self, embedding_dim, hidden_dim, classes):\n",
        "        super(LSTMNet, self).__init__()\n",
        "        self.lstm = nn.LSTM(embedding_dim, hidden_dim, batch_first=True)\n",
        "        self.hidden = nn.Linear(hidden_dim, 50)\n",
        "        self.hidden2out = nn.Linear(50, classes)\n",
        "\n",
        "\n",
        "    def forward(self, sentence, lengths):\n",
        "        sentence = torch.nn.utils.rnn.pack_padded_sequence(sentence, lengths, enforce_sorted=False, batch_first=True)\n",
        "        _, (hn, cn) = self.lstm(sentence)\n",
        "        hidden = torch.nn.functional.sigmoid(self.hidden(hn.squeeze(dim=0)))\n",
        "        return self.hidden2out(hidden)\n"
      ],
      "execution_count": 79,
      "outputs": []
    },
    {
      "cell_type": "markdown",
      "metadata": {
        "id": "n9E-pBUY90LF"
      },
      "source": [
        "## Trenowanie modeli LSTM dla ZJAWISKO_1 i ZJAWISKO_2"
      ]
    },
    {
      "cell_type": "code",
      "metadata": {
        "id": "1Syr87r2-tSO"
      },
      "source": [
        "from tqdm.auto import tqdm\n",
        "def validate(\n",
        "    model: nn.Module, \n",
        "    loss_fn: torch.nn.CrossEntropyLoss, \n",
        "    dataloader: DataLoader):\n",
        "    loss = 0\n",
        "    correct = 0\n",
        "    all = 0\n",
        "    for X_batch, lengths, y_batch in tqdm(dataloader):\n",
        "        y_pred = model(X_batch, lengths)\n",
        "        all += len(y_pred)\n",
        "        loss += loss_fn(y_pred, y_batch).sum()\n",
        "        correct += count_correct(y_pred, y_batch)\n",
        "    return loss / len(dataloader), correct / all\n",
        "\n",
        "def count_correct(\n",
        "    y_pred: torch.Tensor, y_true: torch.Tensor\n",
        ") -> torch.Tensor:\n",
        "    preds = torch.argmax(y_pred, dim=1)\n",
        "   \n",
        "    return (preds == y_true).float().sum()\n",
        "\n",
        "def fit(\n",
        "    model: nn.Module, optimiser,\n",
        "    loss_fn: torch.nn.CrossEntropyLoss, train_dl: DataLoader, \n",
        "    val_dl: DataLoader, epochs: int, \n",
        "    print_metrics: str = True\n",
        "):\n",
        "\n",
        "    best_val_loss = float('inf') \n",
        "    for epoch in range(epochs):\n",
        "        print(epoch)\n",
        "        model.train()\n",
        "\n",
        "        for X_batch, lengths,  y_batch in tqdm(train_dl):\n",
        "            y_pred = model(X_batch, lengths) # Uzyskanie pseudoprawdopodobieństw dla próbek z minibatcha\n",
        "            loss = loss_fn(y_pred, y_batch) # Policzenie funkcji straty\n",
        "            loss.backward() # Wsteczna propagacja z wyniku funkcji straty - policzenie gradientów i zapisanie ich w tensorach (parametrach)\n",
        "            optimiser.step() # Aktualizacja parametrów modelu przez optymalizator na podstawie gradientów zapisanych w tensorach (parametrach) oraz lr\n",
        "            optimiser.zero_grad() # Wyzerowanie gradientów w modelu, alternatywnie można wywołać percepron.zero_grad()\n",
        "        \n",
        "        if print_metrics: \n",
        "            model.eval() # Przełączenie na tryb ewaluacji modelu - istotne dla takich warstw jak Dropuot czy BatchNorm\n",
        "            with torch.no_grad():  # Wstrzymujemy przeliczanie i śledzenie gradientów dla tensorów - w procesie ewaluacji modelu nie chcemy zmian w gradientach\n",
        "                train_loss, train_acc = validate(model, loss_fn, train_dl)\n",
        "                val_loss, val_acc = validate(model, loss_fn, val_dl)\n",
        "                print(train_acc, val_acc)\n",
        "\n",
        "\n",
        "      \n",
        "    model.eval() # Przełączenie na tryb ewaluacji modelu - istotne dla takich warstw jak Dropuot czy BatchNorm\n"
      ],
      "execution_count": null,
      "outputs": []
    },
    {
      "cell_type": "code",
      "metadata": {
        "colab": {
          "base_uri": "https://localhost:8080/",
          "height": 425,
          "referenced_widgets": [
            "39d3ff856a65444591e80dc95c6df933",
            "0b69369f98bd407e9df2ba3e7b9e51b5",
            "7bed545b3fbb454182212b152b25ae50",
            "f1a6cd9b2ec8466c844980e8f6d436b9",
            "447420d7cd82486bb1a2bbf74155a4cb",
            "c64114e4584b41afb21583f7c7e3834d",
            "48ed16f1345642f49959ef7915189e7d",
            "7892a732e4914c07a3c2bd73c127832d",
            "38304b0933954051aedd4e2d187fea34",
            "df38e8c85d8049f39323e2f2c4b3340e",
            "5e0b81a1c9e94036b67af7c6ebca1093",
            "dbbdfcf008b94626a0d21c1bcff13a94",
            "404ec1b459f94ea7969fb6543494e62f",
            "3688f3aad6ef4fe0a8f2d75ce1fd115e",
            "eb2fc87c413e40e7994cf43779792c50",
            "d68941af46b64a10a79fe761da2d2037",
            "4120047ee9ef4f4da18529a578af0e38",
            "610008215a7a449baf784f1db13427b3",
            "80419484446d4cf39ad7a810aaa88190",
            "af5e0e0cbeb740728c2a03a2387a8c96",
            "b1cb04754f444c62a285086316f54405",
            "640579c3b0c1431e876869c3dbbf449c",
            "65a6ad19ba1147be8b0b5ee55d20f723",
            "7b1ddb6294f94ec582647053ca5488a5",
            "d8aca8236f2e4799b9d014451bd8c9b6",
            "2db506215dad4e9888e579c40ea19dda",
            "b2c2af6da7d744f98df9acb653287610",
            "6f5522389f3c49f38e101182b5ce0b78",
            "9e6fae28a1ea45c386b8f8bee24400fc",
            "b8a49c3aaf3043e69d2f84d11297f646",
            "8dfb2e730ef24481b41bf14e7c5d8cb3",
            "53d75a04535f42189794fabdae90cad3",
            "72d2769721d14770a0bec02b053c5014",
            "e572cdea9f964f1a963e857dbe69f5e1",
            "7ca81ff3bff24756b45372747b4a18ef",
            "787312a7184f452b823cf1d38ed4ed64",
            "62d46d521d264b8187025cf61c509087",
            "0ab69eed301d45bca0d87520e28a474a",
            "6dc265931bd44e8583f22dda47b31256",
            "7e18bd5360f14a619751fc5975a4770a",
            "b69cf11764bc49c0aa8958763ef9cf54",
            "13360f1397ba41e1a3fdb8c8e2ccf87c",
            "c4d976994cbc41c7915634679483bcda",
            "17ae2b4ff5384a4b9065fdbf22771d0b",
            "8f41af5af6e849e4bb644080255c4244",
            "a1b20b3087fa47f6bd2986598926f47f",
            "8e2d54cf4f244487815ff3f8cbef0304",
            "48296e32f2c74f6f8f20c2091c793a5a"
          ]
        },
        "id": "EbCyhMCorkEW",
        "outputId": "0daea745-d5e8-4564-da77-df047f252959"
      },
      "source": [
        "net_emo = LSTMNet(100, 200, 4)\n",
        "optimiser = torch.optim.Adam(net.parameters(), lr=0.001)\n",
        "loss_fn = torch.nn.CrossEntropyLoss()\n",
        "fit(\n",
        "    model=net, optimiser=optimiser, loss_fn=loss_fn, \n",
        "    train_dl=train_dataloader_emo, val_dl=val_dataloader_emo, epochs=2\n",
        ")\n"
      ],
      "execution_count": 112,
      "outputs": [
        {
          "output_type": "stream",
          "text": [
            "0\n"
          ],
          "name": "stdout"
        },
        {
          "output_type": "display_data",
          "data": {
            "application/vnd.jupyter.widget-view+json": {
              "model_id": "39d3ff856a65444591e80dc95c6df933",
              "version_minor": 0,
              "version_major": 2
            },
            "text/plain": [
              "HBox(children=(FloatProgress(value=0.0, max=33.0), HTML(value='')))"
            ]
          },
          "metadata": {
            "tags": []
          }
        },
        {
          "output_type": "stream",
          "text": [
            "/usr/local/lib/python3.7/dist-packages/torch/nn/functional.py:1709: UserWarning: nn.functional.sigmoid is deprecated. Use torch.sigmoid instead.\n",
            "  warnings.warn(\"nn.functional.sigmoid is deprecated. Use torch.sigmoid instead.\")\n"
          ],
          "name": "stderr"
        },
        {
          "output_type": "stream",
          "text": [
            "\n"
          ],
          "name": "stdout"
        },
        {
          "output_type": "display_data",
          "data": {
            "application/vnd.jupyter.widget-view+json": {
              "model_id": "38304b0933954051aedd4e2d187fea34",
              "version_minor": 0,
              "version_major": 2
            },
            "text/plain": [
              "HBox(children=(FloatProgress(value=0.0, max=33.0), HTML(value='')))"
            ]
          },
          "metadata": {
            "tags": []
          }
        },
        {
          "output_type": "stream",
          "text": [
            "\n"
          ],
          "name": "stdout"
        },
        {
          "output_type": "display_data",
          "data": {
            "application/vnd.jupyter.widget-view+json": {
              "model_id": "4120047ee9ef4f4da18529a578af0e38",
              "version_minor": 0,
              "version_major": 2
            },
            "text/plain": [
              "HBox(children=(FloatProgress(value=0.0, max=4.0), HTML(value='')))"
            ]
          },
          "metadata": {
            "tags": []
          }
        },
        {
          "output_type": "stream",
          "text": [
            "\n",
            "tensor(0.4695) tensor(0.4572)\n",
            "1\n"
          ],
          "name": "stdout"
        },
        {
          "output_type": "display_data",
          "data": {
            "application/vnd.jupyter.widget-view+json": {
              "model_id": "d8aca8236f2e4799b9d014451bd8c9b6",
              "version_minor": 0,
              "version_major": 2
            },
            "text/plain": [
              "HBox(children=(FloatProgress(value=0.0, max=33.0), HTML(value='')))"
            ]
          },
          "metadata": {
            "tags": []
          }
        },
        {
          "output_type": "stream",
          "text": [
            "\n"
          ],
          "name": "stdout"
        },
        {
          "output_type": "display_data",
          "data": {
            "application/vnd.jupyter.widget-view+json": {
              "model_id": "72d2769721d14770a0bec02b053c5014",
              "version_minor": 0,
              "version_major": 2
            },
            "text/plain": [
              "HBox(children=(FloatProgress(value=0.0, max=33.0), HTML(value='')))"
            ]
          },
          "metadata": {
            "tags": []
          }
        },
        {
          "output_type": "stream",
          "text": [
            "\n"
          ],
          "name": "stdout"
        },
        {
          "output_type": "display_data",
          "data": {
            "application/vnd.jupyter.widget-view+json": {
              "model_id": "b69cf11764bc49c0aa8958763ef9cf54",
              "version_minor": 0,
              "version_major": 2
            },
            "text/plain": [
              "HBox(children=(FloatProgress(value=0.0, max=4.0), HTML(value='')))"
            ]
          },
          "metadata": {
            "tags": []
          }
        },
        {
          "output_type": "stream",
          "text": [
            "\n",
            "tensor(0.4943) tensor(0.5080)\n"
          ],
          "name": "stdout"
        }
      ]
    },
    {
      "cell_type": "code",
      "metadata": {
        "colab": {
          "base_uri": "https://localhost:8080/",
          "height": 425,
          "referenced_widgets": [
            "6134c7d1b4474ef281ef05631c94f5cf",
            "29d4f775b94243baaf2b4c79e0a6f45f",
            "bdf5cfa9f5484518bfff98ebd6b80f54",
            "4ca4e3a581a645488c2897c0c801b431",
            "3a928cc2a1374a02b07e430cdec34084",
            "7f2e9c26a2264c3d8643f15dd40801cb",
            "ef0961018b99411a9ed41b16576c5dc0",
            "086764251d544bceb86dd4c0fae183ae",
            "87b4d013782e43daa7649acbf35f6b81",
            "1a22750113be47788a84ce574dbac5d5",
            "7ea597be3e804f24af64e071c88f3edc",
            "3e4db70065be439cad40b79c25c250a4",
            "06de791057c345dc8b665801c4ce7c55",
            "200385ade2c042509e42ed7f988a0240",
            "b864eef0c42743e0be39fb3182ed037c",
            "9626c63ef03f4f32ad0102f5cf667c1f",
            "79e7d8044c7042e49d49f6efa662f23b",
            "d6f8a327f63d46aa89c4f07c0f71ef51",
            "8bbb1593e7ef4c86a5b38a7a2f5a7349",
            "fcbe6b23af184c36b230aedef206a7ed",
            "72df4d74b7bf4b16a751e44aa57af310",
            "c276105ece9e44f180cddfcf8f4d80a8",
            "876b0459f304477c8a129f73cf69db28",
            "9b51bb8631d045dd93d875e6ca52aabb",
            "aed61a4ca0eb407291d65dc46a76a92e",
            "eebc08a14d8c4cd2994c6d136c28e0a4",
            "42dd97d53e364b69a1ea3b7b107375d5",
            "7585fc4fded845ee968cc12681787aa5",
            "6ddd6ff1d2f7436a9a1b6335a1fae6eb",
            "dbeb836823f242e490c926cf66881997",
            "9bb56384b50a470d84d2d0d5bafe6684",
            "60ded706e1d143bab0542e0cfa86dc8b",
            "f2971efd6cf5413a8a4d03cafc7de774",
            "115b766044ff43d4aa5bfb913cdf5277",
            "650f1b256d984ea6adb62c721b79f846",
            "d8125503cb2241d3b686b59357347a73",
            "fe4ee6c5e99d4e5792e5cbd5381894a5",
            "e1946df7f74247d998c0f8f5c14fbcc4",
            "278ffa2141f44c8aaff9912b05d8f57e",
            "ed5fc80b350e44ad98d8b2111500be96",
            "d8b814682f2547b8809a09ce374d5e03",
            "eb555c84db71451f8f676602dd2ec6ba",
            "70540659fac146018771a748578cc3ed",
            "b4e196dbbc5f400489839d8a8bdcd167",
            "c6b27632203e4b6e8feab038b9c10ec8",
            "26b442ffa9754944b4e0ed1edf74662c",
            "1cea42443efa4f178296da6b3fe1ce11",
            "bf9d800cc9af440f87adbc93125d3c8b"
          ]
        },
        "id": "MQ1h7_cHrs4m",
        "outputId": "4d8a488d-cc4b-4759-ee88-38a17a69cb6a"
      },
      "source": [
        "net_off = LSTMNet(100, 200, 2)\n",
        "optimiser = torch.optim.Adam(net.parameters(), lr=0.001)\n",
        "loss_fn = torch.nn.CrossEntropyLoss()\n",
        "fit(\n",
        "    model=net, optimiser=optimiser, loss_fn=loss_fn, \n",
        "    train_dl=train_dataloader_off, val_dl=val_dataloader_off, epochs=2\n",
        ")"
      ],
      "execution_count": 110,
      "outputs": [
        {
          "output_type": "stream",
          "text": [
            "0\n"
          ],
          "name": "stdout"
        },
        {
          "output_type": "display_data",
          "data": {
            "application/vnd.jupyter.widget-view+json": {
              "model_id": "6134c7d1b4474ef281ef05631c94f5cf",
              "version_minor": 0,
              "version_major": 2
            },
            "text/plain": [
              "HBox(children=(FloatProgress(value=0.0, max=120.0), HTML(value='')))"
            ]
          },
          "metadata": {
            "tags": []
          }
        },
        {
          "output_type": "stream",
          "text": [
            "/usr/local/lib/python3.7/dist-packages/torch/nn/functional.py:1709: UserWarning: nn.functional.sigmoid is deprecated. Use torch.sigmoid instead.\n",
            "  warnings.warn(\"nn.functional.sigmoid is deprecated. Use torch.sigmoid instead.\")\n"
          ],
          "name": "stderr"
        },
        {
          "output_type": "stream",
          "text": [
            "\n"
          ],
          "name": "stdout"
        },
        {
          "output_type": "display_data",
          "data": {
            "application/vnd.jupyter.widget-view+json": {
              "model_id": "87b4d013782e43daa7649acbf35f6b81",
              "version_minor": 0,
              "version_major": 2
            },
            "text/plain": [
              "HBox(children=(FloatProgress(value=0.0, max=120.0), HTML(value='')))"
            ]
          },
          "metadata": {
            "tags": []
          }
        },
        {
          "output_type": "stream",
          "text": [
            "\n"
          ],
          "name": "stdout"
        },
        {
          "output_type": "display_data",
          "data": {
            "application/vnd.jupyter.widget-view+json": {
              "model_id": "79e7d8044c7042e49d49f6efa662f23b",
              "version_minor": 0,
              "version_major": 2
            },
            "text/plain": [
              "HBox(children=(FloatProgress(value=0.0, max=14.0), HTML(value='')))"
            ]
          },
          "metadata": {
            "tags": []
          }
        },
        {
          "output_type": "stream",
          "text": [
            "\n",
            "tensor(0.7930) tensor(0.7583)\n",
            "1\n"
          ],
          "name": "stdout"
        },
        {
          "output_type": "display_data",
          "data": {
            "application/vnd.jupyter.widget-view+json": {
              "model_id": "aed61a4ca0eb407291d65dc46a76a92e",
              "version_minor": 0,
              "version_major": 2
            },
            "text/plain": [
              "HBox(children=(FloatProgress(value=0.0, max=120.0), HTML(value='')))"
            ]
          },
          "metadata": {
            "tags": []
          }
        },
        {
          "output_type": "stream",
          "text": [
            "\n"
          ],
          "name": "stdout"
        },
        {
          "output_type": "display_data",
          "data": {
            "application/vnd.jupyter.widget-view+json": {
              "model_id": "f2971efd6cf5413a8a4d03cafc7de774",
              "version_minor": 0,
              "version_major": 2
            },
            "text/plain": [
              "HBox(children=(FloatProgress(value=0.0, max=120.0), HTML(value='')))"
            ]
          },
          "metadata": {
            "tags": []
          }
        },
        {
          "output_type": "stream",
          "text": [
            "\n"
          ],
          "name": "stdout"
        },
        {
          "output_type": "display_data",
          "data": {
            "application/vnd.jupyter.widget-view+json": {
              "model_id": "d8b814682f2547b8809a09ce374d5e03",
              "version_minor": 0,
              "version_major": 2
            },
            "text/plain": [
              "HBox(children=(FloatProgress(value=0.0, max=14.0), HTML(value='')))"
            ]
          },
          "metadata": {
            "tags": []
          }
        },
        {
          "output_type": "stream",
          "text": [
            "\n",
            "tensor(0.7993) tensor(0.7485)\n"
          ],
          "name": "stdout"
        }
      ]
    },
    {
      "cell_type": "markdown",
      "metadata": {
        "id": "bvy1SbHQ-lFs"
      },
      "source": [
        "## Trenowanie modeli LR (fastText) dla ZJAWISKO_1 i ZJAWISKO_2"
      ]
    },
    {
      "cell_type": "code",
      "metadata": {
        "id": "0V4g2jmv-weV"
      },
      "source": [
        "!fasttext supervised -input train_emo.txt -output emo_model -dim 100 -pretrainedVectors fasttext_tweetmodel_btc_sg_100_en.vec -autotune-validation val_emo.txt "
      ],
      "execution_count": null,
      "outputs": []
    },
    {
      "cell_type": "code",
      "metadata": {
        "colab": {
          "base_uri": "https://localhost:8080/"
        },
        "id": "_WZYmfDIl9NH",
        "outputId": "cb37eb39-f4af-46a2-9dea-ea000224162f"
      },
      "source": [
        "!fasttext supervised -input train_off.txt -output off_model -dim 100 -pretrainedVectors fasttext_tweetmodel_btc_sg_100_en.vec -autotune-validation val_off.txt "
      ],
      "execution_count": 99,
      "outputs": [
        {
          "output_type": "stream",
          "text": [
            "Warning : dim is manually set to a specific value. It will not be automatically optimized.\n",
            "Progress:  16.0% Trials:    1 Best score:   unknown ETA:   0h 4m11stcmalloc: large alloc 1263263744 bytes == 0x561e9600a000 @  0x7f127a47f887 0x561e5b677b9d 0x561e5b68fea1 0x561e5b6938be 0x561e5b67309f 0x561e5b662794 0x561e5b65e127 0x7f127951cbf7 0x561e5b65e66a\n",
            "Progress:  84.7% Trials:    5 Best score:  0.741692 ETA:   0h 0m45stcmalloc: large alloc 1901199360 bytes == 0x561ee804a000 @  0x7f127a47f887 0x561e5b677b9d 0x561e5b68fea1 0x561e5b6938be 0x561e5b67309f 0x561e5b662794 0x561e5b65e127 0x7f127951cbf7 0x561e5b65e66a\n",
            "Progress: 100.0% Trials:    6 Best score:  0.756798 ETA:   0h 0m 0s\n",
            "Training again with best arguments\n",
            "Read 0M words\n",
            "Number of words:  36464\n",
            "Number of labels: 2\n",
            "Progress: 100.0% words/sec/thread:   73660 lr:  0.000000 avg.loss:  0.176918 ETA:   0h 0m 0s\n"
          ],
          "name": "stdout"
        }
      ]
    },
    {
      "cell_type": "markdown",
      "metadata": {
        "id": "8neBnDzU-4o9"
      },
      "source": [
        "## Ewaluacja modeli na danych testowych dla zjawiska ZJAWISKO_1"
      ]
    },
    {
      "cell_type": "code",
      "metadata": {
        "id": "eBkxCUCPt-6S"
      },
      "source": [
        "!mkdir predictions_lstm"
      ],
      "execution_count": 121,
      "outputs": []
    },
    {
      "cell_type": "code",
      "metadata": {
        "colab": {
          "base_uri": "https://localhost:8080/"
        },
        "id": "HXGzJBDml8Cq",
        "outputId": "86dd3cab-eecf-4927-a23b-40c23bbf9003"
      },
      "source": [
        "!fasttext predict emo_model.bin tweeteval/datasets/emotion/test_text.txt | sed 's/__label__//g' > predictions2/emotion.txt\n",
        "!python tweeteval/evaluation_script.py --tweeteval_path tweeteval/datasets --predictions_path predictions2 --task emotion"
      ],
      "execution_count": 108,
      "outputs": [
        {
          "output_type": "stream",
          "text": [
            "0 {'precision': 0.6992592592592592, 'recall': 0.8458781362007168, 'f1-score': 0.7656123276561233, 'support': 558}\n",
            "1 {'precision': 0.7306397306397306, 'recall': 0.6061452513966481, 'f1-score': 0.6625954198473283, 'support': 358}\n",
            "2 {'precision': 0.5194805194805194, 'recall': 0.3252032520325203, 'f1-score': 0.39999999999999997, 'support': 123}\n",
            "3 {'precision': 0.7016129032258065, 'recall': 0.6832460732984293, 'f1-score': 0.6923076923076923, 'support': 382}\n",
            "accuracy 0.6966924700914848\n",
            "macro avg {'precision': 0.6627481031513289, 'recall': 0.6151181782320787, 'f1-score': 0.6301288599527859, 'support': 1421}\n",
            "weighted avg {'precision': 0.6922363991302268, 'recall': 0.6966924700914848, 'f1-score': 0.6883056844468676, 'support': 1421}\n",
            "------------------------------\n",
            "TweetEval Score (emotion): 0.6301288599527859\n"
          ],
          "name": "stdout"
        }
      ]
    },
    {
      "cell_type": "code",
      "metadata": {
        "id": "7wkbdG93_FxE",
        "colab": {
          "base_uri": "https://localhost:8080/"
        },
        "outputId": "1418b970-644b-4be1-da17-4188e68debd1"
      },
      "source": [
        "test_predicted = net_emo(X_test_emo, test_lengths_emo)\n",
        "test_predicted = test_predicted.argmax(axis=1)\n",
        "with open('predictions_lstm/emotion.txt', 'w') as f:\n",
        "    for item in test_predicted:\n",
        "        f.write(\"%s\\n\" % int(item))\n",
        "!python tweeteval/evaluation_script.py --tweeteval_path tweeteval/datasets --predictions_path predictions_lstm --task emotion"
      ],
      "execution_count": 123,
      "outputs": [
        {
          "output_type": "stream",
          "text": [
            "/usr/local/lib/python3.7/dist-packages/torch/nn/functional.py:1709: UserWarning: nn.functional.sigmoid is deprecated. Use torch.sigmoid instead.\n",
            "  warnings.warn(\"nn.functional.sigmoid is deprecated. Use torch.sigmoid instead.\")\n"
          ],
          "name": "stderr"
        },
        {
          "output_type": "stream",
          "text": [
            "/usr/local/lib/python3.7/dist-packages/sklearn/metrics/_classification.py:1272: UndefinedMetricWarning: Precision and F-score are ill-defined and being set to 0.0 in labels with no predicted samples. Use `zero_division` parameter to control this behavior.\n",
            "  _warn_prf(average, modifier, msg_start, len(result))\n",
            "0 {'precision': 0.0, 'recall': 0.0, 'f1-score': 0.0, 'support': 558}\n",
            "1 {'precision': 0.0, 'recall': 0.0, 'f1-score': 0.0, 'support': 358}\n",
            "2 {'precision': 0.0, 'recall': 0.0, 'f1-score': 0.0, 'support': 123}\n",
            "3 {'precision': 0.26882477128782545, 'recall': 1.0, 'f1-score': 0.4237382140876317, 'support': 382}\n",
            "accuracy 0.26882477128782545\n",
            "macro avg {'precision': 0.06720619282195636, 'recall': 0.25, 'f1-score': 0.10593455352190792, 'support': 1421}\n",
            "weighted avg {'precision': 0.07226675765795167, 'recall': 0.26882477128782545, 'f1-score': 0.11391132848801921, 'support': 1421}\n",
            "------------------------------\n",
            "TweetEval Score (emotion): 0.10593455352190792\n"
          ],
          "name": "stdout"
        }
      ]
    },
    {
      "cell_type": "markdown",
      "metadata": {
        "id": "qIHyGqMM_HaE"
      },
      "source": [
        "## Ewaluacja modeli na danych testowych dla zjawiska ZJAWISKO_2"
      ]
    },
    {
      "cell_type": "code",
      "metadata": {
        "id": "MQ8yTGuu_Ird",
        "colab": {
          "base_uri": "https://localhost:8080/"
        },
        "outputId": "b17306cb-7a73-4d21-984c-d256d9ef7714"
      },
      "source": [
        "!fasttext predict off_model.bin tweeteval/datasets/offensive/test_text.txt | sed 's/__label__//g' > predictions2/offensive.txt\n",
        "!python tweeteval/evaluation_script.py --tweeteval_path tweeteval/datasets --predictions_path predictions2 --task offensive"
      ],
      "execution_count": 107,
      "outputs": [
        {
          "output_type": "stream",
          "text": [
            "0 {'precision': 0.7970027247956403, 'recall': 0.9435483870967742, 'f1-score': 0.8641063515509603, 'support': 620}\n",
            "1 {'precision': 0.7222222222222222, 'recall': 0.37916666666666665, 'f1-score': 0.4972677595628416, 'support': 240}\n",
            "accuracy 0.786046511627907\n",
            "macro avg {'precision': 0.7596124735089312, 'recall': 0.6613575268817204, 'f1-score': 0.6806870555569009, 'support': 860}\n",
            "weighted avg {'precision': 0.776133747333291, 'recall': 0.786046511627907, 'f1-score': 0.7617327909961364, 'support': 860}\n",
            "------------------------------\n",
            "TweetEval Score (offensive): 0.6806870555569009\n"
          ],
          "name": "stdout"
        }
      ]
    }
  ]
}