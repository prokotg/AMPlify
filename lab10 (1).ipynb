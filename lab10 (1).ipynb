{
  "nbformat": 4,
  "nbformat_minor": 0,
  "metadata": {
    "colab": {
      "name": "lab10_original.ipynb",
      "provenance": [],
      "collapsed_sections": [],
      "toc_visible": true
    },
    "kernelspec": {
      "name": "python3",
      "display_name": "Python 3"
    },
    "language_info": {
      "name": "python"
    },
    "accelerator": "GPU",
    "widgets": {
      "application/vnd.jupyter.widget-state+json": {
        "2a737252f29b4f5a9887ea44dfb5a8ce": {
          "model_module": "@jupyter-widgets/controls",
          "model_name": "HBoxModel",
          "state": {
            "_view_name": "HBoxView",
            "_dom_classes": [],
            "_model_name": "HBoxModel",
            "_view_module": "@jupyter-widgets/controls",
            "_model_module_version": "1.5.0",
            "_view_count": null,
            "_view_module_version": "1.5.0",
            "box_style": "",
            "layout": "IPY_MODEL_51dc227ccd864fadb69ac23407a95bb2",
            "_model_module": "@jupyter-widgets/controls",
            "children": [
              "IPY_MODEL_25ae9b36dbf24f06bee6d8fe59da66b2",
              "IPY_MODEL_d516d76aa070406f83d09847cd7d7662"
            ]
          }
        },
        "51dc227ccd864fadb69ac23407a95bb2": {
          "model_module": "@jupyter-widgets/base",
          "model_name": "LayoutModel",
          "state": {
            "_view_name": "LayoutView",
            "grid_template_rows": null,
            "right": null,
            "justify_content": null,
            "_view_module": "@jupyter-widgets/base",
            "overflow": null,
            "_model_module_version": "1.2.0",
            "_view_count": null,
            "flex_flow": null,
            "width": null,
            "min_width": null,
            "border": null,
            "align_items": null,
            "bottom": null,
            "_model_module": "@jupyter-widgets/base",
            "top": null,
            "grid_column": null,
            "overflow_y": null,
            "overflow_x": null,
            "grid_auto_flow": null,
            "grid_area": null,
            "grid_template_columns": null,
            "flex": null,
            "_model_name": "LayoutModel",
            "justify_items": null,
            "grid_row": null,
            "max_height": null,
            "align_content": null,
            "visibility": null,
            "align_self": null,
            "height": null,
            "min_height": null,
            "padding": null,
            "grid_auto_rows": null,
            "grid_gap": null,
            "max_width": null,
            "order": null,
            "_view_module_version": "1.2.0",
            "grid_template_areas": null,
            "object_position": null,
            "object_fit": null,
            "grid_auto_columns": null,
            "margin": null,
            "display": null,
            "left": null
          }
        },
        "25ae9b36dbf24f06bee6d8fe59da66b2": {
          "model_module": "@jupyter-widgets/controls",
          "model_name": "FloatProgressModel",
          "state": {
            "_view_name": "ProgressView",
            "style": "IPY_MODEL_5df7efb280a548289593b72856e0d2c6",
            "_dom_classes": [],
            "description": "  2%",
            "_model_name": "FloatProgressModel",
            "bar_style": "danger",
            "max": 1000,
            "_view_module": "@jupyter-widgets/controls",
            "_model_module_version": "1.5.0",
            "value": 24,
            "_view_count": null,
            "_view_module_version": "1.5.0",
            "orientation": "horizontal",
            "min": 0,
            "description_tooltip": null,
            "_model_module": "@jupyter-widgets/controls",
            "layout": "IPY_MODEL_076b20f395dc49fba991c7f440ac867f"
          }
        },
        "d516d76aa070406f83d09847cd7d7662": {
          "model_module": "@jupyter-widgets/controls",
          "model_name": "HTMLModel",
          "state": {
            "_view_name": "HTMLView",
            "style": "IPY_MODEL_2f8dbc2a339041fb942619fde0dc838c",
            "_dom_classes": [],
            "description": "",
            "_model_name": "HTMLModel",
            "placeholder": "​",
            "_view_module": "@jupyter-widgets/controls",
            "_model_module_version": "1.5.0",
            "value": " 24/1000 [01:39&lt;1:07:44,  4.16s/it]",
            "_view_count": null,
            "_view_module_version": "1.5.0",
            "description_tooltip": null,
            "_model_module": "@jupyter-widgets/controls",
            "layout": "IPY_MODEL_5453ceccd7c54f3b8640070e634caec8"
          }
        },
        "5df7efb280a548289593b72856e0d2c6": {
          "model_module": "@jupyter-widgets/controls",
          "model_name": "ProgressStyleModel",
          "state": {
            "_view_name": "StyleView",
            "_model_name": "ProgressStyleModel",
            "description_width": "initial",
            "_view_module": "@jupyter-widgets/base",
            "_model_module_version": "1.5.0",
            "_view_count": null,
            "_view_module_version": "1.2.0",
            "bar_color": null,
            "_model_module": "@jupyter-widgets/controls"
          }
        },
        "076b20f395dc49fba991c7f440ac867f": {
          "model_module": "@jupyter-widgets/base",
          "model_name": "LayoutModel",
          "state": {
            "_view_name": "LayoutView",
            "grid_template_rows": null,
            "right": null,
            "justify_content": null,
            "_view_module": "@jupyter-widgets/base",
            "overflow": null,
            "_model_module_version": "1.2.0",
            "_view_count": null,
            "flex_flow": null,
            "width": null,
            "min_width": null,
            "border": null,
            "align_items": null,
            "bottom": null,
            "_model_module": "@jupyter-widgets/base",
            "top": null,
            "grid_column": null,
            "overflow_y": null,
            "overflow_x": null,
            "grid_auto_flow": null,
            "grid_area": null,
            "grid_template_columns": null,
            "flex": null,
            "_model_name": "LayoutModel",
            "justify_items": null,
            "grid_row": null,
            "max_height": null,
            "align_content": null,
            "visibility": null,
            "align_self": null,
            "height": null,
            "min_height": null,
            "padding": null,
            "grid_auto_rows": null,
            "grid_gap": null,
            "max_width": null,
            "order": null,
            "_view_module_version": "1.2.0",
            "grid_template_areas": null,
            "object_position": null,
            "object_fit": null,
            "grid_auto_columns": null,
            "margin": null,
            "display": null,
            "left": null
          }
        },
        "2f8dbc2a339041fb942619fde0dc838c": {
          "model_module": "@jupyter-widgets/controls",
          "model_name": "DescriptionStyleModel",
          "state": {
            "_view_name": "StyleView",
            "_model_name": "DescriptionStyleModel",
            "description_width": "",
            "_view_module": "@jupyter-widgets/base",
            "_model_module_version": "1.5.0",
            "_view_count": null,
            "_view_module_version": "1.2.0",
            "_model_module": "@jupyter-widgets/controls"
          }
        },
        "5453ceccd7c54f3b8640070e634caec8": {
          "model_module": "@jupyter-widgets/base",
          "model_name": "LayoutModel",
          "state": {
            "_view_name": "LayoutView",
            "grid_template_rows": null,
            "right": null,
            "justify_content": null,
            "_view_module": "@jupyter-widgets/base",
            "overflow": null,
            "_model_module_version": "1.2.0",
            "_view_count": null,
            "flex_flow": null,
            "width": null,
            "min_width": null,
            "border": null,
            "align_items": null,
            "bottom": null,
            "_model_module": "@jupyter-widgets/base",
            "top": null,
            "grid_column": null,
            "overflow_y": null,
            "overflow_x": null,
            "grid_auto_flow": null,
            "grid_area": null,
            "grid_template_columns": null,
            "flex": null,
            "_model_name": "LayoutModel",
            "justify_items": null,
            "grid_row": null,
            "max_height": null,
            "align_content": null,
            "visibility": null,
            "align_self": null,
            "height": null,
            "min_height": null,
            "padding": null,
            "grid_auto_rows": null,
            "grid_gap": null,
            "max_width": null,
            "order": null,
            "_view_module_version": "1.2.0",
            "grid_template_areas": null,
            "object_position": null,
            "object_fit": null,
            "grid_auto_columns": null,
            "margin": null,
            "display": null,
            "left": null
          }
        }
      }
    }
  },
  "cells": [
    {
      "cell_type": "markdown",
      "metadata": {
        "id": "MsITBHLCFCnJ"
      },
      "source": [
        "# Wstęp\n",
        "Zadanie 10 stanowi drugi z trzech etapów zajęć poświęconych sieciom rekurencyjnym i predykcji z wykorzystaniem danych multimodalnych. Efektem wszystkich trzech etapów będzie sieć rekurencyjna z warstwą atencji do predykcji kursu kryptowaluty [Bitcoin](https://en.wikipedia.org/wiki/Bitcoin) (BTC) w oparciu o dane z giełdy oraz o wyniki analizy emocji komunikatów z mediów społecznościowych, do których również należy utworzyć dedykowany model sieci rekurencyjnej. Plan realizacji etapów wygląda następująco:\n",
        "\n",
        "1.   EmoTweet - model sieci rekurencyjnej do analizy emocji \n",
        "2.   MultiBTC - multimodalny model sieci rekurencyjnej do predykcji kursu BTC\n",
        "3.   AttEmoTweet & AttMultiBTC - rozszerzenie modeli EmoTweet i MultiBTC o warstwę atencji \n",
        "\n",
        "Każdy etap jest traktowany jako oddzielna lista na laboratorium, za którą można otrzymać 10 punktów. \n",
        "\n",
        "# Cel ćwiczenia\n",
        "\n",
        "Celem drugiego etapu prac jest wykorzystanie sieci rekurencyjnej LSTM do przewidywania kolejnego elementu sekwencji pod warunkiem wcześniejszych obserwacji. Dopuszczalne jest rozwiązanie, które działa podobnie jak klasyfikator z poprzedniego zadania, przy czym w tym wypadku skonstruowany zostanie regresor, a zmienną predykowaną będzie np. średni kurs w następnym dniu pod warunkiem obserwacji z dni poprzednich. \n",
        "\n",
        "# Warunki zaliczenia\n",
        "\n",
        "Do zaliczenia drugiego etapu należy wykonać następujące kroki:\n",
        "\n",
        "1.   Klasyfikacja zbioru tweetów przy pomocy 2 modeli EmoTweet opracowanych w etapie nr 1 (gdyby sieci LSTM były zbyt wolne, można użyć modeli opartych o fastText).\n",
        "2.   Przygotowanie modelu LSTM, dla którego każdy element sekwencji będzie multimodalny, tj. będzie opisany cechami pochodzącymi z różnych źródeł:\n",
        "   * Dane z giełdy kryptowalutowej\n",
        "   * Zagregowane wartości emocji z tweetów\n",
        "3.   Trenowanie modelu oraz ewaluacja predykcji dla scenariusza godzinnego oraz dziennego, z uwzględnieniem wpływu:\n",
        " * wybranych hiperparametrów \n",
        " * dodatkowych kroków wstępnego przetwarzania danych\n",
        " * wymiarów afektywnych\n",
        "\n",
        "# Zbiór tweetów\n",
        "\n",
        "Zbiór tweetów pochodzi z serwisu [Twitter](https://twitter.com/) i jest podzbiorem 2 milionów wiadomości dotyczących [Bitcoina](https://en.wikipedia.org/wiki/Bitcoin) z okresu od stycznia 2018 do maja 2020 roku. \n",
        "## Pobranie"
      ]
    },
    {
      "cell_type": "code",
      "metadata": {
        "colab": {
          "base_uri": "https://localhost:8080/"
        },
        "id": "fDIg9uknCPNB",
        "outputId": "b8b64f1f-abde-439c-f1f5-cb7eabf3f9ab"
      },
      "source": [
        "!wget http://jankocon.clarin-pl.eu/share/bitcoin_tweets_2M.csv.7z"
      ],
      "execution_count": 1,
      "outputs": [
        {
          "output_type": "stream",
          "text": [
            "--2021-05-11 08:07:11--  http://jankocon.clarin-pl.eu/share/bitcoin_tweets_2M.csv.7z\n",
            "Resolving jankocon.clarin-pl.eu (jankocon.clarin-pl.eu)... 156.17.135.34\n",
            "Connecting to jankocon.clarin-pl.eu (jankocon.clarin-pl.eu)|156.17.135.34|:80... connected.\n",
            "HTTP request sent, awaiting response... 200 OK\n",
            "Length: 97590055 (93M) [application/x-7z-compressed]\n",
            "Saving to: ‘bitcoin_tweets_2M.csv.7z’\n",
            "\n",
            "bitcoin_tweets_2M.c 100%[===================>]  93.07M  1.28KB/s    in 40s     \n",
            "\n",
            "2021-05-11 08:07:52 (2.32 MB/s) - ‘bitcoin_tweets_2M.csv.7z’ saved [97590055/97590055]\n",
            "\n"
          ],
          "name": "stdout"
        }
      ]
    },
    {
      "cell_type": "markdown",
      "metadata": {
        "id": "PBhdgzc0DgxD"
      },
      "source": [
        "## Rozpakowanie"
      ]
    },
    {
      "cell_type": "code",
      "metadata": {
        "colab": {
          "base_uri": "https://localhost:8080/"
        },
        "id": "NRbstO0FDWvR",
        "outputId": "3cac9c27-3f56-4fe2-a0b6-83cb4f85e931"
      },
      "source": [
        "!7za x bitcoin_tweets_2M.csv.7z"
      ],
      "execution_count": 2,
      "outputs": [
        {
          "output_type": "stream",
          "text": [
            "\n",
            "7-Zip (a) [64] 16.02 : Copyright (c) 1999-2016 Igor Pavlov : 2016-05-21\n",
            "p7zip Version 16.02 (locale=en_US.UTF-8,Utf16=on,HugeFiles=on,64 bits,2 CPUs AMD EPYC 7B12 (830F10),ASM,AES-NI)\n",
            "\n",
            "Scanning the drive for archives:\n",
            "  0M Scan\b\b\b\b\b\b\b\b\b         \b\b\b\b\b\b\b\b\b1 file, 97590055 bytes (94 MiB)\n",
            "\n",
            "Extracting archive: bitcoin_tweets_2M.csv.7z\n",
            "--\n",
            "Path = bitcoin_tweets_2M.csv.7z\n",
            "Type = 7z\n",
            "Physical Size = 97590055\n",
            "Headers Size = 146\n",
            "Method = LZMA2:24\n",
            "Solid = -\n",
            "Blocks = 1\n",
            "\n",
            "  0%\b\b\b\b    \b\b\b\b  2% - bitcoin_tweets_2M.csv\b\b\b\b\b\b\b\b\b\b\b\b\b\b\b\b\b\b\b\b\b\b\b\b\b\b\b\b                            \b\b\b\b\b\b\b\b\b\b\b\b\b\b\b\b\b\b\b\b\b\b\b\b\b\b\b\b  5% - bitcoin_tweets_2M.csv\b\b\b\b\b\b\b\b\b\b\b\b\b\b\b\b\b\b\b\b\b\b\b\b\b\b\b\b                            \b\b\b\b\b\b\b\b\b\b\b\b\b\b\b\b\b\b\b\b\b\b\b\b\b\b\b\b  9% - bitcoin_tweets_2M.csv\b\b\b\b\b\b\b\b\b\b\b\b\b\b\b\b\b\b\b\b\b\b\b\b\b\b\b\b                            \b\b\b\b\b\b\b\b\b\b\b\b\b\b\b\b\b\b\b\b\b\b\b\b\b\b\b\b 13% - bitcoin_tweets_2M.csv\b\b\b\b\b\b\b\b\b\b\b\b\b\b\b\b\b\b\b\b\b\b\b\b\b\b\b\b                            \b\b\b\b\b\b\b\b\b\b\b\b\b\b\b\b\b\b\b\b\b\b\b\b\b\b\b\b 16% - bitcoin_tweets_2M.csv\b\b\b\b\b\b\b\b\b\b\b\b\b\b\b\b\b\b\b\b\b\b\b\b\b\b\b\b                            \b\b\b\b\b\b\b\b\b\b\b\b\b\b\b\b\b\b\b\b\b\b\b\b\b\b\b\b 19% - bitcoin_tweets_2M.csv\b\b\b\b\b\b\b\b\b\b\b\b\b\b\b\b\b\b\b\b\b\b\b\b\b\b\b\b                            \b\b\b\b\b\b\b\b\b\b\b\b\b\b\b\b\b\b\b\b\b\b\b\b\b\b\b\b 22% - bitcoin_tweets_2M.csv\b\b\b\b\b\b\b\b\b\b\b\b\b\b\b\b\b\b\b\b\b\b\b\b\b\b\b\b                            \b\b\b\b\b\b\b\b\b\b\b\b\b\b\b\b\b\b\b\b\b\b\b\b\b\b\b\b 26% - bitcoin_tweets_2M.csv\b\b\b\b\b\b\b\b\b\b\b\b\b\b\b\b\b\b\b\b\b\b\b\b\b\b\b\b                            \b\b\b\b\b\b\b\b\b\b\b\b\b\b\b\b\b\b\b\b\b\b\b\b\b\b\b\b 29% - bitcoin_tweets_2M.csv\b\b\b\b\b\b\b\b\b\b\b\b\b\b\b\b\b\b\b\b\b\b\b\b\b\b\b\b                            \b\b\b\b\b\b\b\b\b\b\b\b\b\b\b\b\b\b\b\b\b\b\b\b\b\b\b\b 32% - bitcoin_tweets_2M.csv\b\b\b\b\b\b\b\b\b\b\b\b\b\b\b\b\b\b\b\b\b\b\b\b\b\b\b\b                            \b\b\b\b\b\b\b\b\b\b\b\b\b\b\b\b\b\b\b\b\b\b\b\b\b\b\b\b 35% - bitcoin_tweets_2M.csv\b\b\b\b\b\b\b\b\b\b\b\b\b\b\b\b\b\b\b\b\b\b\b\b\b\b\b\b                            \b\b\b\b\b\b\b\b\b\b\b\b\b\b\b\b\b\b\b\b\b\b\b\b\b\b\b\b 38% - bitcoin_tweets_2M.csv\b\b\b\b\b\b\b\b\b\b\b\b\b\b\b\b\b\b\b\b\b\b\b\b\b\b\b\b                            \b\b\b\b\b\b\b\b\b\b\b\b\b\b\b\b\b\b\b\b\b\b\b\b\b\b\b\b 41% - bitcoin_tweets_2M.csv\b\b\b\b\b\b\b\b\b\b\b\b\b\b\b\b\b\b\b\b\b\b\b\b\b\b\b\b                            \b\b\b\b\b\b\b\b\b\b\b\b\b\b\b\b\b\b\b\b\b\b\b\b\b\b\b\b 44% - bitcoin_tweets_2M.csv\b\b\b\b\b\b\b\b\b\b\b\b\b\b\b\b\b\b\b\b\b\b\b\b\b\b\b\b                            \b\b\b\b\b\b\b\b\b\b\b\b\b\b\b\b\b\b\b\b\b\b\b\b\b\b\b\b 47% - bitcoin_tweets_2M.csv\b\b\b\b\b\b\b\b\b\b\b\b\b\b\b\b\b\b\b\b\b\b\b\b\b\b\b\b                            \b\b\b\b\b\b\b\b\b\b\b\b\b\b\b\b\b\b\b\b\b\b\b\b\b\b\b\b 50% - bitcoin_tweets_2M.csv\b\b\b\b\b\b\b\b\b\b\b\b\b\b\b\b\b\b\b\b\b\b\b\b\b\b\b\b                            \b\b\b\b\b\b\b\b\b\b\b\b\b\b\b\b\b\b\b\b\b\b\b\b\b\b\b\b 54% - bitcoin_tweets_2M.csv\b\b\b\b\b\b\b\b\b\b\b\b\b\b\b\b\b\b\b\b\b\b\b\b\b\b\b\b                            \b\b\b\b\b\b\b\b\b\b\b\b\b\b\b\b\b\b\b\b\b\b\b\b\b\b\b\b 57% - bitcoin_tweets_2M.csv\b\b\b\b\b\b\b\b\b\b\b\b\b\b\b\b\b\b\b\b\b\b\b\b\b\b\b\b                            \b\b\b\b\b\b\b\b\b\b\b\b\b\b\b\b\b\b\b\b\b\b\b\b\b\b\b\b 60% - bitcoin_tweets_2M.csv\b\b\b\b\b\b\b\b\b\b\b\b\b\b\b\b\b\b\b\b\b\b\b\b\b\b\b\b                            \b\b\b\b\b\b\b\b\b\b\b\b\b\b\b\b\b\b\b\b\b\b\b\b\b\b\b\b 62% - bitcoin_tweets_2M.csv\b\b\b\b\b\b\b\b\b\b\b\b\b\b\b\b\b\b\b\b\b\b\b\b\b\b\b\b                            \b\b\b\b\b\b\b\b\b\b\b\b\b\b\b\b\b\b\b\b\b\b\b\b\b\b\b\b 65% - bitcoin_tweets_2M.csv\b\b\b\b\b\b\b\b\b\b\b\b\b\b\b\b\b\b\b\b\b\b\b\b\b\b\b\b                            \b\b\b\b\b\b\b\b\b\b\b\b\b\b\b\b\b\b\b\b\b\b\b\b\b\b\b\b 68% - bitcoin_tweets_2M.csv\b\b\b\b\b\b\b\b\b\b\b\b\b\b\b\b\b\b\b\b\b\b\b\b\b\b\b\b                            \b\b\b\b\b\b\b\b\b\b\b\b\b\b\b\b\b\b\b\b\b\b\b\b\b\b\b\b 71% - bitcoin_tweets_2M.csv\b\b\b\b\b\b\b\b\b\b\b\b\b\b\b\b\b\b\b\b\b\b\b\b\b\b\b\b                            \b\b\b\b\b\b\b\b\b\b\b\b\b\b\b\b\b\b\b\b\b\b\b\b\b\b\b\b 74% - bitcoin_tweets_2M.csv\b\b\b\b\b\b\b\b\b\b\b\b\b\b\b\b\b\b\b\b\b\b\b\b\b\b\b\b                            \b\b\b\b\b\b\b\b\b\b\b\b\b\b\b\b\b\b\b\b\b\b\b\b\b\b\b\b 77% - bitcoin_tweets_2M.csv\b\b\b\b\b\b\b\b\b\b\b\b\b\b\b\b\b\b\b\b\b\b\b\b\b\b\b\b                            \b\b\b\b\b\b\b\b\b\b\b\b\b\b\b\b\b\b\b\b\b\b\b\b\b\b\b\b 80% - bitcoin_tweets_2M.csv\b\b\b\b\b\b\b\b\b\b\b\b\b\b\b\b\b\b\b\b\b\b\b\b\b\b\b\b                            \b\b\b\b\b\b\b\b\b\b\b\b\b\b\b\b\b\b\b\b\b\b\b\b\b\b\b\b 83% - bitcoin_tweets_2M.csv\b\b\b\b\b\b\b\b\b\b\b\b\b\b\b\b\b\b\b\b\b\b\b\b\b\b\b\b                            \b\b\b\b\b\b\b\b\b\b\b\b\b\b\b\b\b\b\b\b\b\b\b\b\b\b\b\b 86% - bitcoin_tweets_2M.csv\b\b\b\b\b\b\b\b\b\b\b\b\b\b\b\b\b\b\b\b\b\b\b\b\b\b\b\b                            \b\b\b\b\b\b\b\b\b\b\b\b\b\b\b\b\b\b\b\b\b\b\b\b\b\b\b\b 89% - bitcoin_tweets_2M.csv\b\b\b\b\b\b\b\b\b\b\b\b\b\b\b\b\b\b\b\b\b\b\b\b\b\b\b\b                            \b\b\b\b\b\b\b\b\b\b\b\b\b\b\b\b\b\b\b\b\b\b\b\b\b\b\b\b 92% - bitcoin_tweets_2M.csv\b\b\b\b\b\b\b\b\b\b\b\b\b\b\b\b\b\b\b\b\b\b\b\b\b\b\b\b                            \b\b\b\b\b\b\b\b\b\b\b\b\b\b\b\b\b\b\b\b\b\b\b\b\b\b\b\b 95% - bitcoin_tweets_2M.csv\b\b\b\b\b\b\b\b\b\b\b\b\b\b\b\b\b\b\b\b\b\b\b\b\b\b\b\b                            \b\b\b\b\b\b\b\b\b\b\b\b\b\b\b\b\b\b\b\b\b\b\b\b\b\b\b\b 98% - bitcoin_tweets_2M.csv\b\b\b\b\b\b\b\b\b\b\b\b\b\b\b\b\b\b\b\b\b\b\b\b\b\b\b\b                            \b\b\b\b\b\b\b\b\b\b\b\b\b\b\b\b\b\b\b\b\b\b\b\b\b\b\b\bEverything is Ok\n",
            "\n",
            "Size:       439776122\n",
            "Compressed: 97590055\n"
          ],
          "name": "stdout"
        }
      ]
    },
    {
      "cell_type": "markdown",
      "metadata": {
        "id": "DJ3MmCixDpER"
      },
      "source": [
        "## Zawartość\n",
        "Dane zawierają następujące kolumny:\n",
        "* `timestamp` - data wysłania wiadomości\n",
        "* `likes` - liczba polubień wiadomości\n",
        "* `retweets` - liczba przekazań dalej wiadomości\n",
        "* `username` - nick użytkownika\n",
        "* `text` - tekst tweeta \"zanonimizowany\" przy pomocy metody [`preprocess`](https://github.com/cardiffnlp/tweeteval/blob/main/TweetEval_Tutorial.ipynb), która była użyta przy tworzeniu zbioru [TweetEval](https://github.com/cardiffnlp/tweeteval)"
      ]
    },
    {
      "cell_type": "code",
      "metadata": {
        "colab": {
          "base_uri": "https://localhost:8080/",
          "height": 573
        },
        "id": "RY-fh5UxFoeG",
        "outputId": "2d6247cd-0813-4b00-86df-99a197f44e3a"
      },
      "source": [
        "import pandas as pd\n",
        "tweets_data = pd.read_csv('bitcoin_tweets_2M.csv')\n",
        "tweets_data"
      ],
      "execution_count": 2,
      "outputs": [
        {
          "output_type": "execute_result",
          "data": {
            "text/html": [
              "<div>\n",
              "<style scoped>\n",
              "    .dataframe tbody tr th:only-of-type {\n",
              "        vertical-align: middle;\n",
              "    }\n",
              "\n",
              "    .dataframe tbody tr th {\n",
              "        vertical-align: top;\n",
              "    }\n",
              "\n",
              "    .dataframe thead th {\n",
              "        text-align: right;\n",
              "    }\n",
              "</style>\n",
              "<table border=\"1\" class=\"dataframe\">\n",
              "  <thead>\n",
              "    <tr style=\"text-align: right;\">\n",
              "      <th></th>\n",
              "      <th>timestamp</th>\n",
              "      <th>likes</th>\n",
              "      <th>retweets</th>\n",
              "      <th>username</th>\n",
              "      <th>text</th>\n",
              "    </tr>\n",
              "  </thead>\n",
              "  <tbody>\n",
              "    <tr>\n",
              "      <th>0</th>\n",
              "      <td>2018-01-01 00:00:03</td>\n",
              "      <td>0</td>\n",
              "      <td>0</td>\n",
              "      <td>ANDRO1711</td>\n",
              "      <td>From the future of bitcoin to Facebook, 2018 i...</td>\n",
              "    </tr>\n",
              "    <tr>\n",
              "      <th>1</th>\n",
              "      <td>2018-01-01 00:00:04</td>\n",
              "      <td>2</td>\n",
              "      <td>3</td>\n",
              "      <td>BitcoinAverage - Cryptocurrency Exchange Rates</td>\n",
              "      <td>BitcoinAverage - bitcoin price index - ($ 1394...</td>\n",
              "    </tr>\n",
              "    <tr>\n",
              "      <th>2</th>\n",
              "      <td>2018-01-01 00:00:09</td>\n",
              "      <td>0</td>\n",
              "      <td>0</td>\n",
              "      <td>Jimmyhoshi</td>\n",
              "      <td>Singapore bar offers bitcoin New Year party pa...</td>\n",
              "    </tr>\n",
              "    <tr>\n",
              "      <th>3</th>\n",
              "      <td>2018-01-01 00:00:16</td>\n",
              "      <td>0</td>\n",
              "      <td>0</td>\n",
              "      <td>BTC Bros</td>\n",
              "      <td>how the Chinese bitcoin market collapsed in 20...</td>\n",
              "    </tr>\n",
              "    <tr>\n",
              "      <th>4</th>\n",
              "      <td>2018-01-01 00:00:26</td>\n",
              "      <td>1</td>\n",
              "      <td>1</td>\n",
              "      <td>SBIYP</td>\n",
              "      <td>Cryptocurrency Craze! #bitcoin #ethereum #dash...</td>\n",
              "    </tr>\n",
              "    <tr>\n",
              "      <th>...</th>\n",
              "      <td>...</td>\n",
              "      <td>...</td>\n",
              "      <td>...</td>\n",
              "      <td>...</td>\n",
              "      <td>...</td>\n",
              "    </tr>\n",
              "    <tr>\n",
              "      <th>2454286</th>\n",
              "      <td>2020-05-29 23:57:21</td>\n",
              "      <td>1</td>\n",
              "      <td>0</td>\n",
              "      <td>𝙂𝙧𝙞𝙢</td>\n",
              "      <td>All good till now man, hope all is well there ...</td>\n",
              "    </tr>\n",
              "    <tr>\n",
              "      <th>2454287</th>\n",
              "      <td>2020-05-29 23:57:48</td>\n",
              "      <td>0</td>\n",
              "      <td>0</td>\n",
              "      <td>Digital Asset Controller</td>\n",
              "      <td>It’s just used as a wedge to divid the people ...</td>\n",
              "    </tr>\n",
              "    <tr>\n",
              "      <th>2454288</th>\n",
              "      <td>2020-05-29 23:58:10</td>\n",
              "      <td>0</td>\n",
              "      <td>0</td>\n",
              "      <td>(CEO of MONEY PRINTERS)</td>\n",
              "      <td>is this sweat... oh wait just underwater with ...</td>\n",
              "    </tr>\n",
              "    <tr>\n",
              "      <th>2454289</th>\n",
              "      <td>2020-05-29 23:58:43</td>\n",
              "      <td>2</td>\n",
              "      <td>0</td>\n",
              "      <td>luke</td>\n",
              "      <td>The whole timing of this virus is very suspici...</td>\n",
              "    </tr>\n",
              "    <tr>\n",
              "      <th>2454290</th>\n",
              "      <td>2020-05-29 23:59:25</td>\n",
              "      <td>0</td>\n",
              "      <td>0</td>\n",
              "      <td>Tony Something</td>\n",
              "      <td>Transactions using bitcoin.</td>\n",
              "    </tr>\n",
              "  </tbody>\n",
              "</table>\n",
              "<p>2454291 rows × 5 columns</p>\n",
              "</div>"
            ],
            "text/plain": [
              "                   timestamp  ...                                               text\n",
              "0        2018-01-01 00:00:03  ...  From the future of bitcoin to Facebook, 2018 i...\n",
              "1        2018-01-01 00:00:04  ...  BitcoinAverage - bitcoin price index - ($ 1394...\n",
              "2        2018-01-01 00:00:09  ...  Singapore bar offers bitcoin New Year party pa...\n",
              "3        2018-01-01 00:00:16  ...  how the Chinese bitcoin market collapsed in 20...\n",
              "4        2018-01-01 00:00:26  ...  Cryptocurrency Craze! #bitcoin #ethereum #dash...\n",
              "...                      ...  ...                                                ...\n",
              "2454286  2020-05-29 23:57:21  ...  All good till now man, hope all is well there ...\n",
              "2454287  2020-05-29 23:57:48  ...  It’s just used as a wedge to divid the people ...\n",
              "2454288  2020-05-29 23:58:10  ...  is this sweat... oh wait just underwater with ...\n",
              "2454289  2020-05-29 23:58:43  ...  The whole timing of this virus is very suspici...\n",
              "2454290  2020-05-29 23:59:25  ...                        Transactions using bitcoin.\n",
              "\n",
              "[2454291 rows x 5 columns]"
            ]
          },
          "metadata": {
            "tags": []
          },
          "execution_count": 2
        }
      ]
    },
    {
      "cell_type": "markdown",
      "metadata": {
        "id": "7ceW8c2XdOf4"
      },
      "source": [
        "# Dane z giełdy [Bitstamp](https://www.bitstamp.net/)\n",
        "Zbiór pochodzi z serwisu Bitstamp i zawiera informacje o kursie Bitcoina od stycznia 2017 roku do kwietnia 2021 roku, zarówno w interwałach jednodniowych (24h), jak też godzinowych (1h).\n",
        "\n",
        "## Pobranie \n"
      ]
    },
    {
      "cell_type": "code",
      "metadata": {
        "colab": {
          "base_uri": "https://localhost:8080/"
        },
        "id": "ER8c8zNmgE40",
        "outputId": "3bf588df-d17a-4767-ff53-61376b54a7c5"
      },
      "source": [
        "!wget http://jankocon.clarin-pl.eu/share/bitstamp.7z"
      ],
      "execution_count": 4,
      "outputs": [
        {
          "output_type": "stream",
          "text": [
            "--2021-05-11 08:09:40--  http://jankocon.clarin-pl.eu/share/bitstamp.7z\n",
            "Resolving jankocon.clarin-pl.eu (jankocon.clarin-pl.eu)... 156.17.135.34\n",
            "Connecting to jankocon.clarin-pl.eu (jankocon.clarin-pl.eu)|156.17.135.34|:80... connected.\n",
            "HTTP request sent, awaiting response... 200 OK\n",
            "Length: 773846 (756K) [application/x-7z-compressed]\n",
            "Saving to: ‘bitstamp.7z’\n",
            "\n",
            "bitstamp.7z         100%[===================>] 755.71K   367KB/s    in 2.1s    \n",
            "\n",
            "2021-05-11 08:09:42 (367 KB/s) - ‘bitstamp.7z’ saved [773846/773846]\n",
            "\n"
          ],
          "name": "stdout"
        }
      ]
    },
    {
      "cell_type": "markdown",
      "metadata": {
        "id": "nkZB-gQCH0ik"
      },
      "source": [
        "## Rozpakowanie"
      ]
    },
    {
      "cell_type": "code",
      "metadata": {
        "colab": {
          "base_uri": "https://localhost:8080/"
        },
        "id": "qS6VxC26gUNt",
        "outputId": "d1f385f2-48bf-465d-be5e-494dade73f84"
      },
      "source": [
        "!7za x bitstamp.7z"
      ],
      "execution_count": 5,
      "outputs": [
        {
          "output_type": "stream",
          "text": [
            "\n",
            "7-Zip (a) [64] 16.02 : Copyright (c) 1999-2016 Igor Pavlov : 2016-05-21\n",
            "p7zip Version 16.02 (locale=en_US.UTF-8,Utf16=on,HugeFiles=on,64 bits,2 CPUs AMD EPYC 7B12 (830F10),ASM,AES-NI)\n",
            "\n",
            "Scanning the drive for archives:\n",
            "  0M Scan\b\b\b\b\b\b\b\b\b         \b\b\b\b\b\b\b\b\b1 file, 773846 bytes (756 KiB)\n",
            "\n",
            "Extracting archive: bitstamp.7z\n",
            "--\n",
            "Path = bitstamp.7z\n",
            "Type = 7z\n",
            "Physical Size = 773846\n",
            "Headers Size = 221\n",
            "Method = LZMA2:3m\n",
            "Solid = +\n",
            "Blocks = 1\n",
            "\n",
            "  0%\b\b\b\b    \b\b\b\bEverything is Ok\n",
            "\n",
            "Files: 2\n",
            "Size:       3036393\n",
            "Compressed: 773846\n"
          ],
          "name": "stdout"
        }
      ]
    },
    {
      "cell_type": "markdown",
      "metadata": {
        "id": "Kb6c5nuvgiaF"
      },
      "source": [
        "## Zawartość\n",
        "Kwoty są podane w dolarach amerykańskich (kurs BTC/USD). Daty wyznaczają moment zamknięcia, a momentem otwarcia jest godzina wstecz (wariant 1h) lub dzień wstecz (wariant 24h). Każdy ze zbiorów zawiera następujące kolumny:\n",
        "* `timestamp` - data w [formacie Unix](https://www.epochconverter.com/) \n",
        "* `date` - j.w. w formacie YYYY-MM-DD HH:MM:SS\n",
        "* `open` - kurs otwarcia \n",
        "* `high` - najwyższa wartość \n",
        "* `low` - najniższa wartość \n",
        "* `close` - kurs zamknięcia\n",
        "* `volume` - wolumen obrotu BTC\n",
        "\n",
        "Interwał godzinowy:\n",
        "\n"
      ]
    },
    {
      "cell_type": "code",
      "metadata": {
        "colab": {
          "base_uri": "https://localhost:8080/",
          "height": 406
        },
        "id": "Bpf_VdwnIIZ1",
        "outputId": "02164caf-15c0-4c2c-d316-21f5356a762d"
      },
      "source": [
        "bitstamp_data_1h = pd.read_csv('Bitstamp_BTCUSD_1h_2017_2018_2019_2020_2021-04-08.csv')\n",
        "bitstamp_data_1h"
      ],
      "execution_count": 6,
      "outputs": [
        {
          "output_type": "execute_result",
          "data": {
            "text/html": [
              "<div>\n",
              "<style scoped>\n",
              "    .dataframe tbody tr th:only-of-type {\n",
              "        vertical-align: middle;\n",
              "    }\n",
              "\n",
              "    .dataframe tbody tr th {\n",
              "        vertical-align: top;\n",
              "    }\n",
              "\n",
              "    .dataframe thead th {\n",
              "        text-align: right;\n",
              "    }\n",
              "</style>\n",
              "<table border=\"1\" class=\"dataframe\">\n",
              "  <thead>\n",
              "    <tr style=\"text-align: right;\">\n",
              "      <th></th>\n",
              "      <th>timestamp</th>\n",
              "      <th>date</th>\n",
              "      <th>open</th>\n",
              "      <th>high</th>\n",
              "      <th>low</th>\n",
              "      <th>close</th>\n",
              "      <th>volume</th>\n",
              "    </tr>\n",
              "  </thead>\n",
              "  <tbody>\n",
              "    <tr>\n",
              "      <th>0</th>\n",
              "      <td>1483228800</td>\n",
              "      <td>2017-01-01 00:00:00</td>\n",
              "      <td>966.34</td>\n",
              "      <td>966.99</td>\n",
              "      <td>964.60</td>\n",
              "      <td>966.60</td>\n",
              "      <td>102.484806</td>\n",
              "    </tr>\n",
              "    <tr>\n",
              "      <th>1</th>\n",
              "      <td>1483232400</td>\n",
              "      <td>2017-01-01 01:00:00</td>\n",
              "      <td>966.60</td>\n",
              "      <td>966.60</td>\n",
              "      <td>962.54</td>\n",
              "      <td>963.87</td>\n",
              "      <td>149.025554</td>\n",
              "    </tr>\n",
              "    <tr>\n",
              "      <th>2</th>\n",
              "      <td>1483236000</td>\n",
              "      <td>2017-01-01 02:00:00</td>\n",
              "      <td>964.35</td>\n",
              "      <td>965.75</td>\n",
              "      <td>961.99</td>\n",
              "      <td>963.97</td>\n",
              "      <td>94.267396</td>\n",
              "    </tr>\n",
              "    <tr>\n",
              "      <th>3</th>\n",
              "      <td>1483239600</td>\n",
              "      <td>2017-01-01 03:00:00</td>\n",
              "      <td>963.88</td>\n",
              "      <td>964.71</td>\n",
              "      <td>960.53</td>\n",
              "      <td>962.83</td>\n",
              "      <td>77.619667</td>\n",
              "    </tr>\n",
              "    <tr>\n",
              "      <th>4</th>\n",
              "      <td>1483243200</td>\n",
              "      <td>2017-01-01 04:00:00</td>\n",
              "      <td>960.61</td>\n",
              "      <td>963.64</td>\n",
              "      <td>960.60</td>\n",
              "      <td>963.46</td>\n",
              "      <td>46.810220</td>\n",
              "    </tr>\n",
              "    <tr>\n",
              "      <th>...</th>\n",
              "      <td>...</td>\n",
              "      <td>...</td>\n",
              "      <td>...</td>\n",
              "      <td>...</td>\n",
              "      <td>...</td>\n",
              "      <td>...</td>\n",
              "      <td>...</td>\n",
              "    </tr>\n",
              "    <tr>\n",
              "      <th>37387</th>\n",
              "      <td>1617822000</td>\n",
              "      <td>2021-04-07 19:00:00</td>\n",
              "      <td>55832.62</td>\n",
              "      <td>56127.66</td>\n",
              "      <td>55441.93</td>\n",
              "      <td>56127.66</td>\n",
              "      <td>289.995730</td>\n",
              "    </tr>\n",
              "    <tr>\n",
              "      <th>37388</th>\n",
              "      <td>1617825600</td>\n",
              "      <td>2021-04-07 20:00:00</td>\n",
              "      <td>56075.95</td>\n",
              "      <td>56242.37</td>\n",
              "      <td>55690.00</td>\n",
              "      <td>56204.82</td>\n",
              "      <td>175.990086</td>\n",
              "    </tr>\n",
              "    <tr>\n",
              "      <th>37389</th>\n",
              "      <td>1617829200</td>\n",
              "      <td>2021-04-07 21:00:00</td>\n",
              "      <td>56243.09</td>\n",
              "      <td>56401.40</td>\n",
              "      <td>56053.20</td>\n",
              "      <td>56199.64</td>\n",
              "      <td>281.857236</td>\n",
              "    </tr>\n",
              "    <tr>\n",
              "      <th>37390</th>\n",
              "      <td>1617832800</td>\n",
              "      <td>2021-04-07 22:00:00</td>\n",
              "      <td>56160.72</td>\n",
              "      <td>56549.00</td>\n",
              "      <td>56111.13</td>\n",
              "      <td>56449.54</td>\n",
              "      <td>117.778871</td>\n",
              "    </tr>\n",
              "    <tr>\n",
              "      <th>37391</th>\n",
              "      <td>1617836400</td>\n",
              "      <td>2021-04-07 23:00:00</td>\n",
              "      <td>56449.54</td>\n",
              "      <td>56555.61</td>\n",
              "      <td>55871.86</td>\n",
              "      <td>55932.83</td>\n",
              "      <td>125.538528</td>\n",
              "    </tr>\n",
              "  </tbody>\n",
              "</table>\n",
              "<p>37392 rows × 7 columns</p>\n",
              "</div>"
            ],
            "text/plain": [
              "        timestamp                 date  ...     close      volume\n",
              "0      1483228800  2017-01-01 00:00:00  ...    966.60  102.484806\n",
              "1      1483232400  2017-01-01 01:00:00  ...    963.87  149.025554\n",
              "2      1483236000  2017-01-01 02:00:00  ...    963.97   94.267396\n",
              "3      1483239600  2017-01-01 03:00:00  ...    962.83   77.619667\n",
              "4      1483243200  2017-01-01 04:00:00  ...    963.46   46.810220\n",
              "...           ...                  ...  ...       ...         ...\n",
              "37387  1617822000  2021-04-07 19:00:00  ...  56127.66  289.995730\n",
              "37388  1617825600  2021-04-07 20:00:00  ...  56204.82  175.990086\n",
              "37389  1617829200  2021-04-07 21:00:00  ...  56199.64  281.857236\n",
              "37390  1617832800  2021-04-07 22:00:00  ...  56449.54  117.778871\n",
              "37391  1617836400  2021-04-07 23:00:00  ...  55932.83  125.538528\n",
              "\n",
              "[37392 rows x 7 columns]"
            ]
          },
          "metadata": {
            "tags": []
          },
          "execution_count": 6
        }
      ]
    },
    {
      "cell_type": "markdown",
      "metadata": {
        "id": "VIe7hAJbJS2_"
      },
      "source": [
        "Interwał dzienny:"
      ]
    },
    {
      "cell_type": "code",
      "metadata": {
        "colab": {
          "base_uri": "https://localhost:8080/",
          "height": 406
        },
        "id": "BcYQmb_AJGVV",
        "outputId": "f2ae682e-47f5-4fae-bbac-7f16ad973e02"
      },
      "source": [
        "bitstamp_data_24h = pd.read_csv('Bitstamp_BTCUSD_24h_2017_2018_2019_2020_2021-04-08.csv')\n",
        "bitstamp_data_24h"
      ],
      "execution_count": 7,
      "outputs": [
        {
          "output_type": "execute_result",
          "data": {
            "text/html": [
              "<div>\n",
              "<style scoped>\n",
              "    .dataframe tbody tr th:only-of-type {\n",
              "        vertical-align: middle;\n",
              "    }\n",
              "\n",
              "    .dataframe tbody tr th {\n",
              "        vertical-align: top;\n",
              "    }\n",
              "\n",
              "    .dataframe thead th {\n",
              "        text-align: right;\n",
              "    }\n",
              "</style>\n",
              "<table border=\"1\" class=\"dataframe\">\n",
              "  <thead>\n",
              "    <tr style=\"text-align: right;\">\n",
              "      <th></th>\n",
              "      <th>timestamp</th>\n",
              "      <th>date</th>\n",
              "      <th>open</th>\n",
              "      <th>high</th>\n",
              "      <th>low</th>\n",
              "      <th>close</th>\n",
              "      <th>volume</th>\n",
              "    </tr>\n",
              "  </thead>\n",
              "  <tbody>\n",
              "    <tr>\n",
              "      <th>0</th>\n",
              "      <td>1483228800</td>\n",
              "      <td>2017-01-01 00:00:00</td>\n",
              "      <td>966.34</td>\n",
              "      <td>1005.00</td>\n",
              "      <td>960.53</td>\n",
              "      <td>997.75</td>\n",
              "      <td>6850.593309</td>\n",
              "    </tr>\n",
              "    <tr>\n",
              "      <th>1</th>\n",
              "      <td>1483315200</td>\n",
              "      <td>2017-01-02 00:00:00</td>\n",
              "      <td>997.75</td>\n",
              "      <td>1032.00</td>\n",
              "      <td>990.01</td>\n",
              "      <td>1012.54</td>\n",
              "      <td>8167.381030</td>\n",
              "    </tr>\n",
              "    <tr>\n",
              "      <th>2</th>\n",
              "      <td>1483401600</td>\n",
              "      <td>2017-01-03 00:00:00</td>\n",
              "      <td>1011.44</td>\n",
              "      <td>1039.00</td>\n",
              "      <td>999.99</td>\n",
              "      <td>1035.24</td>\n",
              "      <td>9089.658025</td>\n",
              "    </tr>\n",
              "    <tr>\n",
              "      <th>3</th>\n",
              "      <td>1483488000</td>\n",
              "      <td>2017-01-04 00:00:00</td>\n",
              "      <td>1035.51</td>\n",
              "      <td>1139.89</td>\n",
              "      <td>1028.56</td>\n",
              "      <td>1114.92</td>\n",
              "      <td>21562.456972</td>\n",
              "    </tr>\n",
              "    <tr>\n",
              "      <th>4</th>\n",
              "      <td>1483574400</td>\n",
              "      <td>2017-01-05 00:00:00</td>\n",
              "      <td>1114.38</td>\n",
              "      <td>1136.72</td>\n",
              "      <td>885.41</td>\n",
              "      <td>1004.74</td>\n",
              "      <td>36018.861120</td>\n",
              "    </tr>\n",
              "    <tr>\n",
              "      <th>...</th>\n",
              "      <td>...</td>\n",
              "      <td>...</td>\n",
              "      <td>...</td>\n",
              "      <td>...</td>\n",
              "      <td>...</td>\n",
              "      <td>...</td>\n",
              "      <td>...</td>\n",
              "    </tr>\n",
              "    <tr>\n",
              "      <th>1553</th>\n",
              "      <td>1617408000</td>\n",
              "      <td>2021-04-03 00:00:00</td>\n",
              "      <td>58967.61</td>\n",
              "      <td>59801.39</td>\n",
              "      <td>56922.00</td>\n",
              "      <td>57064.42</td>\n",
              "      <td>1663.268353</td>\n",
              "    </tr>\n",
              "    <tr>\n",
              "      <th>1554</th>\n",
              "      <td>1617494400</td>\n",
              "      <td>2021-04-04 00:00:00</td>\n",
              "      <td>57064.13</td>\n",
              "      <td>58501.00</td>\n",
              "      <td>56466.25</td>\n",
              "      <td>58212.18</td>\n",
              "      <td>1440.631820</td>\n",
              "    </tr>\n",
              "    <tr>\n",
              "      <th>1555</th>\n",
              "      <td>1617580800</td>\n",
              "      <td>2021-04-05 00:00:00</td>\n",
              "      <td>58213.69</td>\n",
              "      <td>59280.00</td>\n",
              "      <td>56800.00</td>\n",
              "      <td>59125.00</td>\n",
              "      <td>2402.437135</td>\n",
              "    </tr>\n",
              "    <tr>\n",
              "      <th>1556</th>\n",
              "      <td>1617667200</td>\n",
              "      <td>2021-04-06 00:00:00</td>\n",
              "      <td>59135.36</td>\n",
              "      <td>59473.90</td>\n",
              "      <td>57216.00</td>\n",
              "      <td>58018.30</td>\n",
              "      <td>2711.397847</td>\n",
              "    </tr>\n",
              "    <tr>\n",
              "      <th>1557</th>\n",
              "      <td>1617753600</td>\n",
              "      <td>2021-04-07 00:00:00</td>\n",
              "      <td>58024.90</td>\n",
              "      <td>58668.00</td>\n",
              "      <td>55441.93</td>\n",
              "      <td>55932.83</td>\n",
              "      <td>5454.576616</td>\n",
              "    </tr>\n",
              "  </tbody>\n",
              "</table>\n",
              "<p>1558 rows × 7 columns</p>\n",
              "</div>"
            ],
            "text/plain": [
              "       timestamp                 date  ...     close        volume\n",
              "0     1483228800  2017-01-01 00:00:00  ...    997.75   6850.593309\n",
              "1     1483315200  2017-01-02 00:00:00  ...   1012.54   8167.381030\n",
              "2     1483401600  2017-01-03 00:00:00  ...   1035.24   9089.658025\n",
              "3     1483488000  2017-01-04 00:00:00  ...   1114.92  21562.456972\n",
              "4     1483574400  2017-01-05 00:00:00  ...   1004.74  36018.861120\n",
              "...          ...                  ...  ...       ...           ...\n",
              "1553  1617408000  2021-04-03 00:00:00  ...  57064.42   1663.268353\n",
              "1554  1617494400  2021-04-04 00:00:00  ...  58212.18   1440.631820\n",
              "1555  1617580800  2021-04-05 00:00:00  ...  59125.00   2402.437135\n",
              "1556  1617667200  2021-04-06 00:00:00  ...  58018.30   2711.397847\n",
              "1557  1617753600  2021-04-07 00:00:00  ...  55932.83   5454.576616\n",
              "\n",
              "[1558 rows x 7 columns]"
            ]
          },
          "metadata": {
            "tags": []
          },
          "execution_count": 7
        }
      ]
    },
    {
      "cell_type": "markdown",
      "metadata": {
        "id": "YF_IigDfLjl-"
      },
      "source": [
        "# Realizacja zadania\n",
        "\n",
        "Szczegółowa realizacja zadania powinna zawierać następujące etapy:\n",
        "\n",
        "## Przygotowanie danych\n",
        "\n",
        "\n",
        "1.   Wykorzystać modele utworzone w etapie 1 do opisania wymiarami afektywnymi (ZJAWISKO_1 oraz ZJAWISKO_2) zbioru tweetów `tweets_data`.\n",
        "2.   Wyodrębnić podzbiór danych `bitstamp_data_*` z okresu dla którego są dostępne tweety.\n",
        "3.   Dokonać agregacji informacji afektywnej dla interwału godzinowego oraz interwału dziennego. Przykładowo, jeżeli rozpatruję interwał dzienny, to dla kursu z daty zamknięcia 2017-01-02 00:00:00 agreguję informację afektywną z tweetów pojawiających się pomiędzy 2017-01-01 00:00:00 a 2017-01-02 00:00:00. Dodatkowo dokonać agregacji dodatkowych metadanych opisujących tweety, tj. `likes` oraz `retweets`. Metoda agregacji jest dowolna. Przykładowe możliwości:\n",
        " * suma\n",
        " * średnia\n",
        " * histogram\n",
        "4.   Dokonać podziału danych na zbiór uczący (80%), walidacyjny (10%) oraz testowy (10%) poprzez wyznaczenie 2 punktów podziału na osi czasu (dane są ułożone chronologicznie). Innymi słowy, uczenie i strojenie modelu odbywa się na danych historycznych, a testowanie na aktualnych. \n",
        "\n",
        "\n",
        "## Budowanie modeli\n",
        "\n",
        "Model ma służyć do przewidywania kursu **w przyszłości** na podstawie danych **historycznych**. W każdym badaniu w sekcji **Ewaluacja modeli** należy sprawdzić jakość predykcji na 2 typach modeli:\n",
        "1. **Model dzienny** - model, który w chwili T przewiduje (do wyboru jedna z opcji):\n",
        " * kurs zamknięcia w chwili T+1\n",
        " * średni kurs dla okresu od T do T+1 (wymaga obliczenia na podstawie danych godzinowych)\n",
        "2. **Model godzinowy** - model, który w chwili T przewiduje kurs zamknięcia dla okresu T+1. \n",
        "\n",
        "## Ewaluacja modeli\n",
        "\n",
        "### Hiperparametry\n",
        "\n",
        "W zadaniu tym istnieje szereg ustawień hiperparametrów, które mogą mieć istotny wpływ na jakość predykcji. Należy wybrać jeden z nich i zbadać jego wpływ dla 3 wybranych wartości. \n",
        "\n",
        "1. Długość sekwencji w modelu LSTM.\n",
        "2. Liczba jednostek w warstwie ukrytej. \n",
        "3. Optymalizator i jego parametry (np. `learning rate`).\n",
        "4. Użycie dodatkowej warstwy Dropout (parametr: `probability`) przed warstwą z wynikiem predykcji.\n",
        "\n",
        "### Przetwarzanie wstępne\n",
        "\n",
        "Jednocześnie istotny wpływ mogą mieć dodatkowe elementy przetwarzania wstępnego danych. Należy wybrać jeden z nich i porównać z wariantem bez przetwarzania:\n",
        "1. Normalizacja wartości (sprowadzenie konkretnych kwot do wartości z zakresu 0-1).\n",
        "2. Zamiana wartości liczbowej na procentową zmianę względem poprzedniego kursu.\n",
        "\n",
        "### Wymiary afektywne \n",
        "\n",
        "Ostatnim aspektem jest zbadanie wpływu wymiarów afektywnych. Dla najlepszej otrzymanej konfiguracji należy porównać wyniki z modelem, który wykorzystuje wyłącznie dane z giełdy.\n",
        "\n",
        "### Ogólne uwagi końcowe\n",
        "\n",
        "Wszystkie wyniki proszę podać z wykorzystaniem 2 miar jakości predykcji:\n",
        "1. [Mean squared error](https://en.wikipedia.org/wiki/Mean_squared_error)\n",
        "2. [R2-score](https://en.wikipedia.org/wiki/Coefficient_of_determination)\n",
        "\n",
        "Przy każdej procedurze uczenia należy wykorzystywać zbiór walidacyjny w taki sposób, by po każdej epoce uczenia sprawdzać jakość predykcji na tym zbiorze. Należy zapamiętać ten model, którego jakość była najlepsza na zbiorze walidacyjnym i na tym modelu dopiero robić ostateczną ewaluację z wykorzystaniem zbioru testowego. Proszę obserwować proces uczenia. Spadek jakości na zbiorze walidacyjnym w dalszych epokach uczenia (po wcześniejszym wzrastaniu w poprzednich epokach) może oznaczać, że model przeuczył się na zbiorze uczącym i można przerwać trenowanie. Często definiuje się w tym celu dodatkowy parametr tzw. **cierpliwości** (ang. patience), który określa, przez ile epok możemy kontynuować uczenie bez otrzymania wyniki lepszego niż dotychczasowy najlepszy.\n",
        "\n",
        "\n",
        "Powodzenia! `To the moon 🚀`"
      ]
    },
    {
      "cell_type": "code",
      "metadata": {
        "id": "Sw_-3VqdelA8"
      },
      "source": [
        "start_date_tweets = min(tweets_data['timestamp'])\n",
        "end_date_tweets = max(tweets_data['timestamp'])"
      ],
      "execution_count": 12,
      "outputs": []
    },
    {
      "cell_type": "code",
      "metadata": {
        "id": "Bb-LKYjYex1V"
      },
      "source": [
        "bitstamp_data_1h_bound = bitstamp_data_1h[(bitstamp_data_1h['date'] >= start_date_tweets) & (bitstamp_data_1h['date'] <= end_date_tweets)]\n",
        "bitstamp_data_24h_bound = bitstamp_data_24h[(bitstamp_data_24h['date'] >= start_date_tweets) & (bitstamp_data_24h['date'] <= end_date_tweets)]"
      ],
      "execution_count": 15,
      "outputs": []
    },
    {
      "cell_type": "code",
      "metadata": {
        "id": "rWfh5QNos_n2"
      },
      "source": [
        ""
      ],
      "execution_count": null,
      "outputs": []
    },
    {
      "cell_type": "code",
      "metadata": {
        "id": "h10r-cfMgJIz",
        "outputId": "b3130611-0ed0-4f98-e4f0-89366da91099",
        "colab": {
          "base_uri": "https://localhost:8080/"
        }
      },
      "source": [
        "!gdown --id 1EuxrgESjumDS4XxKfdkvxF5-QYRzdlfg\n",
        "!7za x lstm.7z"
      ],
      "execution_count": 33,
      "outputs": [
        {
          "output_type": "stream",
          "text": [
            "Downloading...\n",
            "From: https://drive.google.com/uc?id=1EuxrgESjumDS4XxKfdkvxF5-QYRzdlfg\n",
            "To: /content/lstm.7z\n",
            "\r  0% 0.00/1.79M [00:00<?, ?B/s]\r100% 1.79M/1.79M [00:00<00:00, 56.6MB/s]\n",
            "\n",
            "7-Zip (a) [64] 16.02 : Copyright (c) 1999-2016 Igor Pavlov : 2016-05-21\n",
            "p7zip Version 16.02 (locale=en_US.UTF-8,Utf16=on,HugeFiles=on,64 bits,2 CPUs AMD EPYC 7B12 (830F10),ASM,AES-NI)\n",
            "\n",
            "Scanning the drive for archives:\n",
            "  0M Scan\b\b\b\b\b\b\b\b\b         \b\b\b\b\b\b\b\b\b1 file, 1786732 bytes (1745 KiB)\n",
            "\n",
            "Extracting archive: lstm.7z\n",
            "--\n",
            "Path = lstm.7z\n",
            "Type = 7z\n",
            "Physical Size = 1786732\n",
            "Headers Size = 177\n",
            "Method = LZMA2:21\n",
            "Solid = +\n",
            "Blocks = 1\n",
            "\n",
            "  0%\b\b\b\b    \b\b\b\b\n",
            "Would you like to replace the existing file:\n",
            "  Path:     ./net_emo.pth\n",
            "  Size:     31461 bytes (31 KiB)\n",
            "  Modified: 2021-05-11 08:34:45\n",
            "with the file from archive:\n",
            "  Path:     net_emo.pth\n",
            "  Size:     971941 bytes (950 KiB)\n",
            "  Modified: 2021-05-11 08:58:08\n",
            "? (Y)es / (N)o / (A)lways / (S)kip all / A(u)to rename all / (Q)uit? A\n",
            "\n",
            " 58% - net_emo.pth\b\b\b\b\b\b\b\b\b\b\b\b\b\b\b\b\b\b                  \b\b\b\b\b\b\b\b\b\b\b\b\b\b\b\b\b\bEverything is Ok\n",
            "\n",
            "Files: 2\n",
            "Size:       1942282\n",
            "Compressed: 1786732\n"
          ],
          "name": "stdout"
        }
      ]
    },
    {
      "cell_type": "code",
      "metadata": {
        "id": "5hQGdwxlneNX"
      },
      "source": [
        "from torch import nn\n",
        "import torch\n",
        "class LSTMNet(nn.Module):\n",
        "\n",
        "    def __init__(self, embedding_dim, hidden_dim, classes):\n",
        "        super(LSTMNet, self).__init__()\n",
        "        self.lstm = nn.LSTM(embedding_dim, hidden_dim, batch_first=True)\n",
        "        self.hidden = nn.Linear(hidden_dim, classes)\n",
        "\n",
        "\n",
        "    def forward(self, sentence, lengths):\n",
        "        sentence = torch.nn.utils.rnn.pack_padded_sequence(sentence, lengths, enforce_sorted=False, batch_first=True)\n",
        "        _, (hn, cn) = self.lstm(sentence)\n",
        "        return self.hidden(hn.squeeze(dim=0))"
      ],
      "execution_count": 5,
      "outputs": []
    },
    {
      "cell_type": "code",
      "metadata": {
        "id": "K0aUwEbqnhwd"
      },
      "source": [
        "net_emo = LSTMNet(100, 200, 4)\n",
        "net_off = LSTMNet(100, 200, 2)"
      ],
      "execution_count": 6,
      "outputs": []
    },
    {
      "cell_type": "code",
      "metadata": {
        "id": "j74kcqvkomOs",
        "outputId": "7ca26796-0f8a-4620-eea8-da3ee1baa346",
        "colab": {
          "base_uri": "https://localhost:8080/"
        }
      },
      "source": [
        "net_emo.load_state_dict(torch.load('net_emo.pth'))\n",
        "net_off.load_state_dict(torch.load('net_off.pth'))"
      ],
      "execution_count": 7,
      "outputs": [
        {
          "output_type": "execute_result",
          "data": {
            "text/plain": [
              "<All keys matched successfully>"
            ]
          },
          "metadata": {
            "tags": []
          },
          "execution_count": 7
        }
      ]
    },
    {
      "cell_type": "code",
      "metadata": {
        "id": "N5WpVgOTt0Fv",
        "outputId": "ef37c15b-d805-4e34-cf5b-de1b13af5358",
        "colab": {
          "base_uri": "https://localhost:8080/"
        }
      },
      "source": [
        "!wget http://jankocon.clarin-pl.eu/share/fasttext_tweetmodel_btc_sg_100_en.bin"
      ],
      "execution_count": 38,
      "outputs": [
        {
          "output_type": "stream",
          "text": [
            "--2021-05-11 09:17:16--  http://jankocon.clarin-pl.eu/share/fasttext_tweetmodel_btc_sg_100_en.bin\n",
            "Resolving jankocon.clarin-pl.eu (jankocon.clarin-pl.eu)... 156.17.135.34\n",
            "Connecting to jankocon.clarin-pl.eu (jankocon.clarin-pl.eu)|156.17.135.34|:80... connected.\n",
            "HTTP request sent, awaiting response... 200 OK\n",
            "Length: 1740570138 (1.6G) [application/octet-stream]\n",
            "Saving to: ‘fasttext_tweetmodel_btc_sg_100_en.bin’\n",
            "\n",
            "fasttext_tweetmodel 100%[===================>]   1.62G  11.2MB/s    in 2m 29s  \n",
            "\n",
            "2021-05-11 09:19:45 (11.1 MB/s) - ‘fasttext_tweetmodel_btc_sg_100_en.bin’ saved [1740570138/1740570138]\n",
            "\n"
          ],
          "name": "stdout"
        }
      ]
    },
    {
      "cell_type": "code",
      "metadata": {
        "id": "BPgiJIWzt4A-",
        "outputId": "ee9e56d0-333b-4829-eece-9f2def54142e",
        "colab": {
          "base_uri": "https://localhost:8080/"
        }
      },
      "source": [
        "!pip install fasttext"
      ],
      "execution_count": 1,
      "outputs": [
        {
          "output_type": "stream",
          "text": [
            "Requirement already satisfied: fasttext in /usr/local/lib/python3.7/dist-packages (0.9.2)\n",
            "Requirement already satisfied: pybind11>=2.2 in /usr/local/lib/python3.7/dist-packages (from fasttext) (2.6.2)\n",
            "Requirement already satisfied: setuptools>=0.7.0 in /usr/local/lib/python3.7/dist-packages (from fasttext) (56.1.0)\n",
            "Requirement already satisfied: numpy in /usr/local/lib/python3.7/dist-packages (from fasttext) (1.19.5)\n"
          ],
          "name": "stdout"
        }
      ]
    },
    {
      "cell_type": "code",
      "metadata": {
        "id": "UZIfF67jtrj-",
        "outputId": "cb2fcee6-fe93-4f8b-ee32-da10e03186cf",
        "colab": {
          "base_uri": "https://localhost:8080/"
        }
      },
      "source": [
        "import fasttext\n",
        "MODEL_PATH = 'fasttext_tweetmodel_btc_sg_100_en.bin'\n",
        "model = fasttext.load_model(MODEL_PATH)"
      ],
      "execution_count": 3,
      "outputs": [
        {
          "output_type": "stream",
          "text": [
            "Warning : `load_model` does not return WordVectorModel or SupervisedModel any more, but a `FastText` object which is very similar.\n"
          ],
          "name": "stderr"
        }
      ]
    },
    {
      "cell_type": "code",
      "metadata": {
        "id": "EqNvCCim8e6n"
      },
      "source": [
        "import numpy as np\n"
      ],
      "execution_count": 6,
      "outputs": []
    },
    {
      "cell_type": "code",
      "metadata": {
        "id": "WjUJe4APz0xg"
      },
      "source": [
        "from tqdm.auto import tqdm\n",
        "import numpy as np\n"
      ],
      "execution_count": 4,
      "outputs": []
    },
    {
      "cell_type": "code",
      "metadata": {
        "id": "7W6ML1QCxpTP",
        "outputId": "d4a6a0db-edf2-430d-c11f-a18cd067d45c",
        "colab": {
          "base_uri": "https://localhost:8080/",
          "height": 502,
          "referenced_widgets": [
            "2a737252f29b4f5a9887ea44dfb5a8ce",
            "51dc227ccd864fadb69ac23407a95bb2",
            "25ae9b36dbf24f06bee6d8fe59da66b2",
            "d516d76aa070406f83d09847cd7d7662",
            "5df7efb280a548289593b72856e0d2c6",
            "076b20f395dc49fba991c7f440ac867f",
            "2f8dbc2a339041fb942619fde0dc838c",
            "5453ceccd7c54f3b8640070e634caec8"
          ]
        }
      },
      "source": [
        "preprocessed_tweets = []\n",
        "off_preds = torch.tensor([])\n",
        "emo_preds = torch.tensor([])\n",
        "with torch.no_grad():\n",
        "  for batch in tqdm(np.array_split(tweets_data['text'], 100)):\n",
        "    lengths = torch.tensor([len(fasttext.tokenize(x)) for x in batch])\n",
        "    batch_embs = []\n",
        "    for tweet in batch:\n",
        "      tweet_emb = []\n",
        "      for word in fasttext.tokenize(tweet):\n",
        "        tweet_emb.append(torch.tensor(model.get_word_vector(word).reshape(1, -1)))\n",
        "      batch_embs.append(torch.cat(tweet_emb))\n",
        "    batch_embs = torch.nn.utils.rnn.pad_sequence(batch_embs, batch_first = True)\n",
        "    emo_preds = torch.cat([emo_preds, net_emo(batch_embs, lengths)])\n",
        "    off_preds = torch.cat([off_preds, net_off(batch_embs, lengths)])\n",
        "\n",
        "  \n"
      ],
      "execution_count": null,
      "outputs": [
        {
          "output_type": "display_data",
          "data": {
            "application/vnd.jupyter.widget-view+json": {
              "model_id": "2a737252f29b4f5a9887ea44dfb5a8ce",
              "version_minor": 0,
              "version_major": 2
            },
            "text/plain": [
              "HBox(children=(FloatProgress(value=0.0, max=1000.0), HTML(value='')))"
            ]
          },
          "metadata": {
            "tags": []
          }
        },
        {
          "output_type": "error",
          "ename": "KeyboardInterrupt",
          "evalue": "ignored",
          "traceback": [
            "\u001b[0;31m---------------------------------------------------------------------------\u001b[0m",
            "\u001b[0;31mKeyboardInterrupt\u001b[0m                         Traceback (most recent call last)",
            "\u001b[0;32m<ipython-input-23-5ed912eecb8d>\u001b[0m in \u001b[0;36m<module>\u001b[0;34m()\u001b[0m\n\u001b[1;32m     13\u001b[0m     \u001b[0mbatch_embs\u001b[0m \u001b[0;34m=\u001b[0m \u001b[0mtorch\u001b[0m\u001b[0;34m.\u001b[0m\u001b[0mnn\u001b[0m\u001b[0;34m.\u001b[0m\u001b[0mutils\u001b[0m\u001b[0;34m.\u001b[0m\u001b[0mrnn\u001b[0m\u001b[0;34m.\u001b[0m\u001b[0mpad_sequence\u001b[0m\u001b[0;34m(\u001b[0m\u001b[0mbatch_embs\u001b[0m\u001b[0;34m,\u001b[0m \u001b[0mbatch_first\u001b[0m \u001b[0;34m=\u001b[0m \u001b[0;32mTrue\u001b[0m\u001b[0;34m)\u001b[0m\u001b[0;34m\u001b[0m\u001b[0;34m\u001b[0m\u001b[0m\n\u001b[1;32m     14\u001b[0m     \u001b[0memo_preds\u001b[0m \u001b[0;34m=\u001b[0m \u001b[0mtorch\u001b[0m\u001b[0;34m.\u001b[0m\u001b[0mcat\u001b[0m\u001b[0;34m(\u001b[0m\u001b[0;34m[\u001b[0m\u001b[0memo_preds\u001b[0m\u001b[0;34m,\u001b[0m \u001b[0mnet_emo\u001b[0m\u001b[0;34m(\u001b[0m\u001b[0mbatch_embs\u001b[0m\u001b[0;34m,\u001b[0m \u001b[0mlengths\u001b[0m\u001b[0;34m)\u001b[0m\u001b[0;34m]\u001b[0m\u001b[0;34m)\u001b[0m\u001b[0;34m\u001b[0m\u001b[0;34m\u001b[0m\u001b[0m\n\u001b[0;32m---> 15\u001b[0;31m     \u001b[0moff_preds\u001b[0m \u001b[0;34m=\u001b[0m \u001b[0mtorch\u001b[0m\u001b[0;34m.\u001b[0m\u001b[0mcat\u001b[0m\u001b[0;34m(\u001b[0m\u001b[0;34m[\u001b[0m\u001b[0moff_preds\u001b[0m\u001b[0;34m,\u001b[0m \u001b[0mnet_off\u001b[0m\u001b[0;34m(\u001b[0m\u001b[0mbatch_embs\u001b[0m\u001b[0;34m,\u001b[0m \u001b[0mlengths\u001b[0m\u001b[0;34m)\u001b[0m\u001b[0;34m]\u001b[0m\u001b[0;34m)\u001b[0m\u001b[0;34m\u001b[0m\u001b[0;34m\u001b[0m\u001b[0m\n\u001b[0m\u001b[1;32m     16\u001b[0m \u001b[0;34m\u001b[0m\u001b[0m\n\u001b[1;32m     17\u001b[0m \u001b[0;34m\u001b[0m\u001b[0m\n",
            "\u001b[0;32m/usr/local/lib/python3.7/dist-packages/torch/nn/modules/module.py\u001b[0m in \u001b[0;36m_call_impl\u001b[0;34m(self, *input, **kwargs)\u001b[0m\n\u001b[1;32m    887\u001b[0m             \u001b[0mresult\u001b[0m \u001b[0;34m=\u001b[0m \u001b[0mself\u001b[0m\u001b[0;34m.\u001b[0m\u001b[0m_slow_forward\u001b[0m\u001b[0;34m(\u001b[0m\u001b[0;34m*\u001b[0m\u001b[0minput\u001b[0m\u001b[0;34m,\u001b[0m \u001b[0;34m**\u001b[0m\u001b[0mkwargs\u001b[0m\u001b[0;34m)\u001b[0m\u001b[0;34m\u001b[0m\u001b[0;34m\u001b[0m\u001b[0m\n\u001b[1;32m    888\u001b[0m         \u001b[0;32melse\u001b[0m\u001b[0;34m:\u001b[0m\u001b[0;34m\u001b[0m\u001b[0;34m\u001b[0m\u001b[0m\n\u001b[0;32m--> 889\u001b[0;31m             \u001b[0mresult\u001b[0m \u001b[0;34m=\u001b[0m \u001b[0mself\u001b[0m\u001b[0;34m.\u001b[0m\u001b[0mforward\u001b[0m\u001b[0;34m(\u001b[0m\u001b[0;34m*\u001b[0m\u001b[0minput\u001b[0m\u001b[0;34m,\u001b[0m \u001b[0;34m**\u001b[0m\u001b[0mkwargs\u001b[0m\u001b[0;34m)\u001b[0m\u001b[0;34m\u001b[0m\u001b[0;34m\u001b[0m\u001b[0m\n\u001b[0m\u001b[1;32m    890\u001b[0m         for hook in itertools.chain(\n\u001b[1;32m    891\u001b[0m                 \u001b[0m_global_forward_hooks\u001b[0m\u001b[0;34m.\u001b[0m\u001b[0mvalues\u001b[0m\u001b[0;34m(\u001b[0m\u001b[0;34m)\u001b[0m\u001b[0;34m,\u001b[0m\u001b[0;34m\u001b[0m\u001b[0;34m\u001b[0m\u001b[0m\n",
            "\u001b[0;32m<ipython-input-5-2e91ffd5d9a0>\u001b[0m in \u001b[0;36mforward\u001b[0;34m(self, sentence, lengths)\u001b[0m\n\u001b[1;32m     11\u001b[0m     \u001b[0;32mdef\u001b[0m \u001b[0mforward\u001b[0m\u001b[0;34m(\u001b[0m\u001b[0mself\u001b[0m\u001b[0;34m,\u001b[0m \u001b[0msentence\u001b[0m\u001b[0;34m,\u001b[0m \u001b[0mlengths\u001b[0m\u001b[0;34m)\u001b[0m\u001b[0;34m:\u001b[0m\u001b[0;34m\u001b[0m\u001b[0;34m\u001b[0m\u001b[0m\n\u001b[1;32m     12\u001b[0m         \u001b[0msentence\u001b[0m \u001b[0;34m=\u001b[0m \u001b[0mtorch\u001b[0m\u001b[0;34m.\u001b[0m\u001b[0mnn\u001b[0m\u001b[0;34m.\u001b[0m\u001b[0mutils\u001b[0m\u001b[0;34m.\u001b[0m\u001b[0mrnn\u001b[0m\u001b[0;34m.\u001b[0m\u001b[0mpack_padded_sequence\u001b[0m\u001b[0;34m(\u001b[0m\u001b[0msentence\u001b[0m\u001b[0;34m,\u001b[0m \u001b[0mlengths\u001b[0m\u001b[0;34m,\u001b[0m \u001b[0menforce_sorted\u001b[0m\u001b[0;34m=\u001b[0m\u001b[0;32mFalse\u001b[0m\u001b[0;34m,\u001b[0m \u001b[0mbatch_first\u001b[0m\u001b[0;34m=\u001b[0m\u001b[0;32mTrue\u001b[0m\u001b[0;34m)\u001b[0m\u001b[0;34m\u001b[0m\u001b[0;34m\u001b[0m\u001b[0m\n\u001b[0;32m---> 13\u001b[0;31m         \u001b[0m_\u001b[0m\u001b[0;34m,\u001b[0m \u001b[0;34m(\u001b[0m\u001b[0mhn\u001b[0m\u001b[0;34m,\u001b[0m \u001b[0mcn\u001b[0m\u001b[0;34m)\u001b[0m \u001b[0;34m=\u001b[0m \u001b[0mself\u001b[0m\u001b[0;34m.\u001b[0m\u001b[0mlstm\u001b[0m\u001b[0;34m(\u001b[0m\u001b[0msentence\u001b[0m\u001b[0;34m)\u001b[0m\u001b[0;34m\u001b[0m\u001b[0;34m\u001b[0m\u001b[0m\n\u001b[0m\u001b[1;32m     14\u001b[0m         \u001b[0;32mreturn\u001b[0m \u001b[0mself\u001b[0m\u001b[0;34m.\u001b[0m\u001b[0mhidden\u001b[0m\u001b[0;34m(\u001b[0m\u001b[0mhn\u001b[0m\u001b[0;34m.\u001b[0m\u001b[0msqueeze\u001b[0m\u001b[0;34m(\u001b[0m\u001b[0mdim\u001b[0m\u001b[0;34m=\u001b[0m\u001b[0;36m0\u001b[0m\u001b[0;34m)\u001b[0m\u001b[0;34m)\u001b[0m\u001b[0;34m\u001b[0m\u001b[0;34m\u001b[0m\u001b[0m\n",
            "\u001b[0;32m/usr/local/lib/python3.7/dist-packages/torch/nn/modules/module.py\u001b[0m in \u001b[0;36m_call_impl\u001b[0;34m(self, *input, **kwargs)\u001b[0m\n\u001b[1;32m    887\u001b[0m             \u001b[0mresult\u001b[0m \u001b[0;34m=\u001b[0m \u001b[0mself\u001b[0m\u001b[0;34m.\u001b[0m\u001b[0m_slow_forward\u001b[0m\u001b[0;34m(\u001b[0m\u001b[0;34m*\u001b[0m\u001b[0minput\u001b[0m\u001b[0;34m,\u001b[0m \u001b[0;34m**\u001b[0m\u001b[0mkwargs\u001b[0m\u001b[0;34m)\u001b[0m\u001b[0;34m\u001b[0m\u001b[0;34m\u001b[0m\u001b[0m\n\u001b[1;32m    888\u001b[0m         \u001b[0;32melse\u001b[0m\u001b[0;34m:\u001b[0m\u001b[0;34m\u001b[0m\u001b[0;34m\u001b[0m\u001b[0m\n\u001b[0;32m--> 889\u001b[0;31m             \u001b[0mresult\u001b[0m \u001b[0;34m=\u001b[0m \u001b[0mself\u001b[0m\u001b[0;34m.\u001b[0m\u001b[0mforward\u001b[0m\u001b[0;34m(\u001b[0m\u001b[0;34m*\u001b[0m\u001b[0minput\u001b[0m\u001b[0;34m,\u001b[0m \u001b[0;34m**\u001b[0m\u001b[0mkwargs\u001b[0m\u001b[0;34m)\u001b[0m\u001b[0;34m\u001b[0m\u001b[0;34m\u001b[0m\u001b[0m\n\u001b[0m\u001b[1;32m    890\u001b[0m         for hook in itertools.chain(\n\u001b[1;32m    891\u001b[0m                 \u001b[0m_global_forward_hooks\u001b[0m\u001b[0;34m.\u001b[0m\u001b[0mvalues\u001b[0m\u001b[0;34m(\u001b[0m\u001b[0;34m)\u001b[0m\u001b[0;34m,\u001b[0m\u001b[0;34m\u001b[0m\u001b[0;34m\u001b[0m\u001b[0m\n",
            "\u001b[0;32m/usr/local/lib/python3.7/dist-packages/torch/nn/modules/rnn.py\u001b[0m in \u001b[0;36mforward\u001b[0;34m(self, input, hx)\u001b[0m\n\u001b[1;32m    663\u001b[0m         \u001b[0;32melse\u001b[0m\u001b[0;34m:\u001b[0m\u001b[0;34m\u001b[0m\u001b[0;34m\u001b[0m\u001b[0m\n\u001b[1;32m    664\u001b[0m             result = _VF.lstm(input, batch_sizes, hx, self._flat_weights, self.bias,\n\u001b[0;32m--> 665\u001b[0;31m                               self.num_layers, self.dropout, self.training, self.bidirectional)\n\u001b[0m\u001b[1;32m    666\u001b[0m         \u001b[0moutput\u001b[0m \u001b[0;34m=\u001b[0m \u001b[0mresult\u001b[0m\u001b[0;34m[\u001b[0m\u001b[0;36m0\u001b[0m\u001b[0;34m]\u001b[0m\u001b[0;34m\u001b[0m\u001b[0;34m\u001b[0m\u001b[0m\n\u001b[1;32m    667\u001b[0m         \u001b[0mhidden\u001b[0m \u001b[0;34m=\u001b[0m \u001b[0mresult\u001b[0m\u001b[0;34m[\u001b[0m\u001b[0;36m1\u001b[0m\u001b[0;34m:\u001b[0m\u001b[0;34m]\u001b[0m\u001b[0;34m\u001b[0m\u001b[0;34m\u001b[0m\u001b[0m\n",
            "\u001b[0;31mKeyboardInterrupt\u001b[0m: "
          ]
        },
        {
          "output_type": "stream",
          "text": [
            "\n",
            "\n",
            "\n",
            "\n",
            "\n",
            "\n"
          ],
          "name": "stdout"
        }
      ]
    },
    {
      "cell_type": "code",
      "metadata": {
        "id": "SJ1DILixxdWY"
      },
      "source": [
        "def prepare_lstm_data(dataset, label_path):\n",
        "  texts = pd.read_csv(tweets_path, sep='\\t', header=None)\n",
        "  labels = pd.read_csv(label_path, sep='\\t', header=None)\n",
        "\n",
        "  lengths = torch.tensor([len(fasttext.tokenize(x)) for x in texts[0]])\n",
        "\n",
        "  assert len(texts) == len(labels)\n",
        "\n",
        "  training_data = []\n",
        "\n",
        "  for tweet in texts[0].tolist():\n",
        "    tweet_emb = []\n",
        "    for word in fasttext.tokenize(tweet):\n",
        "      tweet_emb.append(torch.tensor(model.get_word_vector(word).reshape(1, -1)))\n",
        "  \n",
        "    training_data.append(torch.cat(tweet_emb))\n",
        "  training_data_padded = torch.nn.utils.rnn.pad_sequence(training_data, batch_first = True)\n",
        "  print(training_data_padded.shape)\n",
        "\n",
        "  labels_ints = torch.tensor([int(str_label[-1]) for  str_label in labels[0]])\n",
        "\n",
        "  return training_data_padded, lengths, labels_ints"
      ],
      "execution_count": null,
      "outputs": []
    }
  ]
}